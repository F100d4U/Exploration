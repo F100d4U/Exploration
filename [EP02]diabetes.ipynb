{
 "cells": [
  {
   "cell_type": "markdown",
   "metadata": {},
   "source": [
    "[EP02]날씨 좋은 월요일 오후 세 시, 자전거 타는 사람은 몇 명?\n",
    "\n",
    "\n",
    "##목차##\n",
    "\n",
    "#1_프로젝트 1 \n",
    "\n",
    "    (1) 데이터 가져오기\n",
    "    (2) 모델에 입력할 데이터 X 준비하기\n",
    "    (3) 모델에 예측할 데이터 y 준비하기\n",
    "    (4) train 데이터와 test 데이터로 분리하기\n",
    "    (5) 모델 준비하기\n",
    "입력 데이터 개수에 맞는 가중치 W와 b를 준비해주세요.\n",
    "모델 함수를 구현해주세요.\n",
    "\n",
    "(6) 손실함수 loss 정의하기\n",
    "손실함수를 MSE 함수로 정의해주세요.\n",
    "\n",
    "(7) 기울기를 구하는 gradient 함수 구현하기\n",
    "기울기를 계산하는 gradient 함수를 구현해주세요.\n",
    "\n",
    "(8) 하이퍼 파라미터인 학습률 설정하기\n",
    "학습률, learning rate 를 설정해주세요\n",
    "만약 학습이 잘 되지 않는다면 learning rate 값을 한번 여러 가지로 설정하며 실험해 보세요.\n",
    "\n",
    "(9) 모델 학습하기\n",
    "정의된 손실함수와 기울기 함수로 모델을 학습해주세요.\n",
    "loss값이 충분히 떨어질 때까지 학습을 진행해주세요.\n",
    "입력하는 데이터인 X에 들어가는 특성 컬럼들을 몇 개 빼도 괜찮습니다. 다양한 데이터로 실험해 보세요.\n",
    "\n",
    "(10) test 데이터에 대한 성능 확인하기\n",
    "test 데이터에 대한 성능을 확인해주세요.\n",
    "\n",
    "(11) 정답 데이터와 예측한 데이터 시각화하기\n",
    "x축에는 X 데이터의 첫 번째 컬럼을, y축에는 정답인 target 데이터를 넣어서 모델이 예측한 데이터를 시각화해 주세요.\n",
    "\n",
    "\n",
    "#2_프로젝트 2 :\n",
    "\n",
    "(1) 데이터 가져오기\n",
    "터미널에서 ~/data/data/bike-sharing-demand 경로에 train.csv 데이터를 train 변수로 가져 옵니다.\n",
    "여기에서 데이터를 상세히 확인할 수 있습니다.\n",
    "(2) datetime 컬럼을 datetime 자료형으로 변환하고 연, 월, 일, 시, 분, 초까지 6가지 컬럼 생성하기\n",
    "to_datetime 활용 : 링크 참조\n",
    "pandas datetime extract year month day 키워드로 검색해 보기\n",
    "(3) year, month, day, hour, minute, second 데이터 개수 시각화하기\n",
    "sns.countplot 활용해서 시각화하기\n",
    "subplot을 활용해서 한 번에 6개의 그래프 함께 시각화하기\n",
    "(4) X, y 컬럼 선택 및 train/test 데이터 분리\n",
    "X(feature) 에는 어떤 데이터 컬럼을 넣어야 될지 고민해 봅시다 데이터 컬럼을 추가하거나 빼면서 잘 조합하여 데이터를 넣기 바랍니다. 만일 모든 데이터 컬럼(특징)을 넣는다면 오차 값이 말도 안 되게 적게 나올 수도 있습니다. ex) count를 예측하는데 casual,registered 컬럼이 필요할까요?\n",
    "\n",
    "count 값을 맞추고자 하므로, y 변수에 count 컬럼의 데이터 넣기\n",
    "\n",
    "(5) LinearRegression 모델 학습\n",
    "sklearn의 LinearRegression 모델 불러오기 및 학습하기\n",
    "(6) 학습된 모델로 X_test에 대한 예측값 출력 및 손실함수값 계산\n",
    "학습된 모델에 X_test를 입력해서 예측값 출력하기\n",
    "모델이 예측한 값과 정답 target 간의 손실함수 값 계산하기\n",
    "mse 값과 함께 rmse 값도 계산하기\n",
    "(7) x축은 temp 또는 humidity로, y축은 count로 예측 결과 시각화하기\n",
    "x축에 X 데이터 중 temp 데이터를, y축에는 count 데이터를 넣어서 시각화하기\n",
    "x축에 X 데이터 중 humidity 데이터를, y축에는 count 데이터를 넣어서 시각화하기\n",
    "\n",
    "\n",
    "\n",
    "3_회고 :\n",
    "\n",
    "    1)이번 프로젝트에서 어려웠던 점\n",
    "    2)프로젝트를 진행하면서 본인이 학습한 내용\n",
    "    3)프로젝트를 진행하면서 알아낸 점 혹은 아직 모호한 점\n",
    "    4)루브릭 평가 지표를 맞추기 위해 시도한 것들\n",
    "    5)만약에 루브릭 평가 지표를 달성 하지 못했을 때, 이유에 관한 추정\n",
    "    6)자기 다짐\n",
    "\n",
    "\n"
   ]
  },
  {
   "cell_type": "code",
   "execution_count": 35,
   "metadata": {},
   "outputs": [
    {
     "name": "stdout",
     "output_type": "stream",
     "text": [
      "(442, 10) (442,)\n",
      "dict_keys(['data', 'target', 'frame', 'DESCR', 'feature_names', 'data_filename', 'target_filename', 'data_module'])\n",
      "['age', 'sex', 'bmi', 'bp', 's1', 's2', 's3', 's4', 's5', 's6']\n",
      ".. _diabetes_dataset:\n",
      "\n",
      "Diabetes dataset\n",
      "----------------\n",
      "\n",
      "Ten baseline variables, age, sex, body mass index, average blood\n",
      "pressure, and six blood serum measurements were obtained for each of n =\n",
      "442 diabetes patients, as well as the response of interest, a\n",
      "quantitative measure of disease progression one year after baseline.\n",
      "\n",
      "**Data Set Characteristics:**\n",
      "\n",
      "  :Number of Instances: 442\n",
      "\n",
      "  :Number of Attributes: First 10 columns are numeric predictive values\n",
      "\n",
      "  :Target: Column 11 is a quantitative measure of disease progression one year after baseline\n",
      "\n",
      "  :Attribute Information:\n",
      "      - age     age in years\n",
      "      - sex\n",
      "      - bmi     body mass index\n",
      "      - bp      average blood pressure\n",
      "      - s1      tc, total serum cholesterol\n",
      "      - s2      ldl, low-density lipoproteins\n",
      "      - s3      hdl, high-density lipoproteins\n",
      "      - s4      tch, total cholesterol / HDL\n",
      "      - s5      ltg, possibly log of serum triglycerides level\n",
      "      - s6      glu, blood sugar level\n",
      "\n",
      "Note: Each of these 10 feature variables have been mean centered and scaled by the standard deviation times the square root of `n_samples` (i.e. the sum of squares of each column totals 1).\n",
      "\n",
      "Source URL:\n",
      "https://www4.stat.ncsu.edu/~boos/var.select/diabetes.html\n",
      "\n",
      "For more information see:\n",
      "Bradley Efron, Trevor Hastie, Iain Johnstone and Robert Tibshirani (2004) \"Least Angle Regression,\" Annals of Statistics (with discussion), 407-499.\n",
      "(https://web.stanford.edu/~hastie/Papers/LARS/LeastAngle_2002.pdf)\n",
      "\n"
     ]
    }
   ],
   "source": [
    "#(1)데이터 가져오기\n",
    "#sklearn.datasets의 load_diabetes에서 데이터를 가져와주세요.\n",
    "#diabetes의 data를 df_X에, target을 df_y에 저장해주세요.\n",
    "\n",
    "import sklearn\n",
    "from sklearn.datasets import load_diabetes\n",
    "from sklearn.model_selection import train_test_split\n",
    "import numpy as np\n",
    "import matplotlib.pyplot as plt\n",
    "import pandas as pd\n",
    "%matplotlib inline\n",
    "%config InlineBackend.figure_format = 'retina'\n",
    "\n",
    "\n",
    "diabetes=load_diabetes()\n",
    "\n",
    "df_x=diabetes.data\n",
    "df_y=diabetes.target\n",
    "\n",
    "#데이터 확인\n",
    "print(df_x.shape, df_y.shape)\n",
    "print(diabetes.keys())\n",
    "print(diabetes.feature_names)\n",
    "print(diabetes.DESCR)"
   ]
  },
  {
   "cell_type": "markdown",
   "metadata": {},
   "source": [
    "데이터, 모듈 등 필요한것들을 불러옵니다.\n",
    "\n",
    "print로 데이터 크기를 확인, df_x는 (442,10) df_y는 (442,) 행렬임을 알수있습니다.\n",
    "\n",
    "특성(feature)에는 age, sex, bmi, bp, s1, s2, s3, s4, s5, s6이 있음을 알수있습니다."
   ]
  },
  {
   "cell_type": "code",
   "execution_count": 27,
   "metadata": {},
   "outputs": [],
   "source": [
    "#(2) 모델에 입력할 데이터 X 준비하기\n",
    "#df_X에 있는 값들을 numpy array로 변환해서 저장해주세요.\n",
    "\n",
    "arr = np.array([df_x])\n",
    "\n",
    "#(3) 모델에 예측할 데이터 Y준비하기\n",
    "#df_y에 있는 값들을 numpy array로 변환해서 저장해주세요.\n",
    "\n",
    "arr = np.array([df_y])"
   ]
  },
  {
   "cell_type": "markdown",
   "metadata": {},
   "source": [
    "어레이로 변환 저장합니다."
   ]
  },
  {
   "cell_type": "code",
   "execution_count": 28,
   "metadata": {},
   "outputs": [],
   "source": [
    "#(4)train 데이터와 test 분리하기\n",
    "#X와 y 데이터를 각각 train 데이터와 test 데이터로 분리해주세요.\n",
    "\n",
    "x_train, x_test, y_train, y_test = train_test_split(diabetes.data, diabetes.target, test_size=0.2, shuffle=False)"
   ]
  },
  {
   "cell_type": "markdown",
   "metadata": {},
   "source": []
  },
  {
   "cell_type": "code",
   "execution_count": null,
   "metadata": {},
   "outputs": [],
   "source": [
    "#(5) 모델 준비하기\n",
    "#입력 데이터 개수에 맞는 가중치 W와 b를 준비해주세요.\n",
    "#모델 함수를 구현해주세요.\n",
    "\n"
   ]
  }
 ],
 "metadata": {
  "kernelspec": {
   "display_name": "Python 3.10.6 64-bit",
   "language": "python",
   "name": "python3"
  },
  "language_info": {
   "codemirror_mode": {
    "name": "ipython",
    "version": 3
   },
   "file_extension": ".py",
   "mimetype": "text/x-python",
   "name": "python",
   "nbconvert_exporter": "python",
   "pygments_lexer": "ipython3",
   "version": "3.10.6"
  },
  "orig_nbformat": 4,
  "vscode": {
   "interpreter": {
    "hash": "27f6fea6f47ae512550f0b8facdbd035a93e1dd89633f7bf2dd00a2502c71d0d"
   }
  }
 },
 "nbformat": 4,
 "nbformat_minor": 2
}
