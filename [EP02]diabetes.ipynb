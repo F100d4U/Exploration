{
 "cells": [
  {
   "cell_type": "markdown",
   "metadata": {},
   "source": [
    "[EP02]날씨 좋은 월요일 오후 세 시, 자전거 타는 사람은 몇 명?\n",
    "\n",
    "\n",
    "##목차##\n",
    "\n",
    "#1_프로젝트 1 \n",
    "\n",
    "    (1) 데이터 가져오기\n",
    "    (2) 모델에 입력할 데이터 X 준비하기\n",
    "    (3) 모델에 예측할 데이터 y 준비하기\n",
    "    (4) train 데이터와 test 데이터로 분리하기\n",
    "    (5) 모델 준비하기\n",
    "    (6) 손실함수 loss 정의하기\n",
    "    (7) 기울기를 구하는 gradient 함수 구현하기\n",
    "    (8) 하이퍼 파라미터인 학습률 설정하기\n",
    "    (9) 모델 학습하기\n",
    "    (10) test 데이터에 대한 성능 확인하기\n",
    "    (11) 정답 데이터와 예측한 데이터 시각화하기\n",
    "    x축에는 X 데이터의 첫 번째 컬럼을, y축에는 정답인 target 데이터를 넣어서 모델이 예측한 데이터를 시각화해 주세요.\n",
    "\n",
    "\n",
    "#2_프로젝트 2 :\n",
    "\n",
    "(1) 데이터 가져오기\n",
    "터미널에서 ~/data/data/bike-sharing-demand 경로에 train.csv 데이터를 train 변수로 가져 옵니다.\n",
    "여기에서 데이터를 상세히 확인할 수 있습니다.\n",
    "(2) datetime 컬럼을 datetime 자료형으로 변환하고 연, 월, 일, 시, 분, 초까지 6가지 컬럼 생성하기\n",
    "to_datetime 활용 : 링크 참조\n",
    "pandas datetime extract year month day 키워드로 검색해 보기\n",
    "(3) year, month, day, hour, minute, second 데이터 개수 시각화하기\n",
    "sns.countplot 활용해서 시각화하기\n",
    "subplot을 활용해서 한 번에 6개의 그래프 함께 시각화하기\n",
    "(4) X, y 컬럼 선택 및 train/test 데이터 분리\n",
    "X(feature) 에는 어떤 데이터 컬럼을 넣어야 될지 고민해 봅시다 데이터 컬럼을 추가하거나 빼면서 잘 조합하여 데이터를 넣기 바랍니다. 만일 모든 데이터 컬럼(특징)을 넣는다면 오차 값이 말도 안 되게 적게 나올 수도 있습니다. ex) count를 예측하는데 casual,registered 컬럼이 필요할까요?\n",
    "\n",
    "count 값을 맞추고자 하므로, y 변수에 count 컬럼의 데이터 넣기\n",
    "\n",
    "(5) LinearRegression 모델 학습\n",
    "sklearn의 LinearRegression 모델 불러오기 및 학습하기\n",
    "(6) 학습된 모델로 X_test에 대한 예측값 출력 및 손실함수값 계산\n",
    "학습된 모델에 X_test를 입력해서 예측값 출력하기\n",
    "모델이 예측한 값과 정답 target 간의 손실함수 값 계산하기\n",
    "mse 값과 함께 rmse 값도 계산하기\n",
    "(7) x축은 temp 또는 humidity로, y축은 count로 예측 결과 시각화하기\n",
    "x축에 X 데이터 중 temp 데이터를, y축에는 count 데이터를 넣어서 시각화하기\n",
    "x축에 X 데이터 중 humidity 데이터를, y축에는 count 데이터를 넣어서 시각화하기\n",
    "\n",
    "\n",
    "\n",
    "3_회고\n",
    "\n"
   ]
  },
  {
   "cell_type": "code",
   "execution_count": 2,
   "metadata": {},
   "outputs": [
    {
     "name": "stdout",
     "output_type": "stream",
     "text": [
      "(442, 10) (442,)\n",
      "dict_keys(['data', 'target', 'frame', 'DESCR', 'feature_names', 'data_filename', 'target_filename', 'data_module'])\n",
      "['age', 'sex', 'bmi', 'bp', 's1', 's2', 's3', 's4', 's5', 's6']\n",
      ".. _diabetes_dataset:\n",
      "\n",
      "Diabetes dataset\n",
      "----------------\n",
      "\n",
      "Ten baseline variables, age, sex, body mass index, average blood\n",
      "pressure, and six blood serum measurements were obtained for each of n =\n",
      "442 diabetes patients, as well as the response of interest, a\n",
      "quantitative measure of disease progression one year after baseline.\n",
      "\n",
      "**Data Set Characteristics:**\n",
      "\n",
      "  :Number of Instances: 442\n",
      "\n",
      "  :Number of Attributes: First 10 columns are numeric predictive values\n",
      "\n",
      "  :Target: Column 11 is a quantitative measure of disease progression one year after baseline\n",
      "\n",
      "  :Attribute Information:\n",
      "      - age     age in years\n",
      "      - sex\n",
      "      - bmi     body mass index\n",
      "      - bp      average blood pressure\n",
      "      - s1      tc, total serum cholesterol\n",
      "      - s2      ldl, low-density lipoproteins\n",
      "      - s3      hdl, high-density lipoproteins\n",
      "      - s4      tch, total cholesterol / HDL\n",
      "      - s5      ltg, possibly log of serum triglycerides level\n",
      "      - s6      glu, blood sugar level\n",
      "\n",
      "Note: Each of these 10 feature variables have been mean centered and scaled by the standard deviation times the square root of `n_samples` (i.e. the sum of squares of each column totals 1).\n",
      "\n",
      "Source URL:\n",
      "https://www4.stat.ncsu.edu/~boos/var.select/diabetes.html\n",
      "\n",
      "For more information see:\n",
      "Bradley Efron, Trevor Hastie, Iain Johnstone and Robert Tibshirani (2004) \"Least Angle Regression,\" Annals of Statistics (with discussion), 407-499.\n",
      "(https://web.stanford.edu/~hastie/Papers/LARS/LeastAngle_2002.pdf)\n",
      "\n"
     ]
    },
    {
     "data": {
      "text/plain": [
       "array([151.,  75., 141.])"
      ]
     },
     "execution_count": 2,
     "metadata": {},
     "output_type": "execute_result"
    }
   ],
   "source": [
    "#(1)데이터 가져오기\n",
    "#sklearn.datasets의 load_diabetes에서 데이터를 가져와주세요.\n",
    "#diabetes의 data를 df_X에, target을 df_y에 저장해주세요.\n",
    "\n",
    "import sklearn\n",
    "from sklearn.datasets import load_diabetes\n",
    "from sklearn.model_selection import train_test_split\n",
    "import numpy as np\n",
    "import matplotlib as plt\n",
    "import pandas as pd\n",
    "%matplotlib inline\n",
    "%config InlineBackend.figure_format = 'retina'\n",
    "\n",
    "\n",
    "diabetes=load_diabetes()\n",
    "\n",
    "df_X=diabetes.data\n",
    "df_y=diabetes.target\n",
    "\n",
    "#데이터 확인\n",
    "print(df_X.shape, df_y.shape)\n",
    "print(diabetes.keys())\n",
    "print(diabetes.feature_names)\n",
    "print(diabetes.DESCR)\n",
    "diabetes.data[0:3]\n",
    "diabetes.target[:3]\n",
    "\n"
   ]
  },
  {
   "cell_type": "markdown",
   "metadata": {},
   "source": [
    "데이터, 모듈 등 필요한것들을 불러옵니다.\n",
    "\n",
    "print로 데이터 크기를 확인, df_x는 (442,10) df_y는 (442,) 행렬임을 알수있습니다.\n",
    "\n",
    "특성(feature)에는 age, sex, bmi, bp, s1, s2, s3, s4, s5, s6이 있음을 알수있습니다.\n",
    "\n",
    "표로써 데이터를 보았을 때 값이 정수가 아닌데 이는 값을 정규분포에 가깝도록 분포조정을 하였기 때문입니다.\n",
    "\n",
    "문자로된 데이터는 없는것으로 보입니다. 문자열 데이터가 있다면 원핫인코딩인 pandas의 get_dummies()함수로 숫자데이터로 변경 가능합니다."
   ]
  },
  {
   "cell_type": "code",
   "execution_count": 28,
   "metadata": {},
   "outputs": [],
   "source": [
    "#(2) 모델에 입력할 데이터 X 준비하기\n",
    "#df_X에 있는 값들을 numpy array로 변환해서 저장해주세요.\n",
    "\n",
    "X = np.array([df_X])\n",
    "\n",
    "#(3) 모델에 예측할 데이터 Y준비하기\n",
    "#df_y에 있는 값들을 numpy array로 변환해서 저장해주세요.\n",
    "\n",
    "y = np.array([df_y])"
   ]
  },
  {
   "cell_type": "markdown",
   "metadata": {},
   "source": [
    "넘파이 어레이로 변경"
   ]
  },
  {
   "cell_type": "code",
   "execution_count": 36,
   "metadata": {},
   "outputs": [
    {
     "name": "stdout",
     "output_type": "stream",
     "text": [
      "(353, 10) (353,)\n",
      "(89, 10) (89,)\n"
     ]
    }
   ],
   "source": [
    "#(4)train 데이터와 test 분리하기\n",
    "#X와 y 데이터를 각각 train 데이터와 test 데이터로 분리해주세요.\n",
    "\n",
    "X_train, X_test, y_train, y_test = train_test_split(diabetes.data, diabetes.target, test_size=0.2, random_state=10)\n",
    "\n",
    "print(X_train.shape, y_train.shape)\n",
    "print(X_test.shape, y_test.shape)"
   ]
  },
  {
   "cell_type": "markdown",
   "metadata": {},
   "source": [
    "X_train : (353, 10)\n",
    "y_train : (353,   )\n",
    "X_test  : (89, 10 )\n",
    "y_test  : (89,    )\n",
    "\n",
    "테스트데이터 0.2로 설정했습니다."
   ]
  },
  {
   "cell_type": "code",
   "execution_count": 37,
   "metadata": {},
   "outputs": [
    {
     "name": "stdout",
     "output_type": "stream",
     "text": [
      "W : [0.59614966 0.06897135 0.69413966 0.04839516 0.11497518 0.12412347\n",
      " 0.69685948 0.54618234 0.96192764 0.3163351 ]\n",
      "b : [0.4509014]\n"
     ]
    }
   ],
   "source": [
    "#(5) 모델 준비하기\n",
    "#입력 데이터 개수에 맞는 가중치 W와 b를 준비해주세요.\n",
    "W = np.random.rand(10)\n",
    "b = np.random.rand(1)\n",
    "\n",
    "print(\"W :\", W)\n",
    "print(\"b :\", b)\n",
    "\n",
    "\n",
    "\n",
    "#모델 함수를 구현해주세요.\n",
    "def model(X, W, b):\n",
    "    predictions = 0\n",
    "    for i in range(10):\n",
    "        predictions += X[:, i] * W[i]\n",
    "    predictions += b\n",
    "    return predictions\n"
   ]
  },
  {
   "cell_type": "markdown",
   "metadata": {},
   "source": [
    "총 10개의 feature 데이터이므로 10개의 가중치w와 1개의 숫자상수 b를 준비했습니다.\n",
    "\n",
    "for문을 이용해 X*w를 수행하고 b를 더해줍니다."
   ]
  },
  {
   "cell_type": "code",
   "execution_count": 38,
   "metadata": {},
   "outputs": [],
   "source": [
    "#(6) 손실함수 loss 정의하기\n",
    "#손실함수를 MSE 함수로 정의해주세요.\n",
    "\n",
    "def MSE(a, b):\n",
    "    mse = ((a - b) ** 2).mean()  # 두 값의 차이의 제곱의 평균\n",
    "    return mse\n",
    "\n",
    "def loss(X, W, b, y):\n",
    "    predictions = model(X, W, b)\n",
    "    L = MSE(predictions, y)\n",
    "    return L"
   ]
  },
  {
   "cell_type": "markdown",
   "metadata": {},
   "source": [
    "RMSE는 MSE의 제곱근이므로 제곱근 과정이 있습니다.\n",
    "\"def RMSE(a, b):\n",
    "    mse = ((a - b) ** 2).mean() \n",
    "    rmse = mse ** 0.5            \n",
    "    return rmse\""
   ]
  },
  {
   "cell_type": "code",
   "execution_count": 52,
   "metadata": {},
   "outputs": [
    {
     "name": "stdout",
     "output_type": "stream",
     "text": [
      "(1, 442, 10)\n"
     ]
    },
    {
     "ename": "ValueError",
     "evalue": "operands could not be broadcast together with shapes (1,10) (1,442) ",
     "output_type": "error",
     "traceback": [
      "\u001b[1;31m---------------------------------------------------------------------------\u001b[0m",
      "\u001b[1;31mValueError\u001b[0m                                Traceback (most recent call last)",
      "Cell \u001b[1;32mIn [52], line 19\u001b[0m\n\u001b[0;32m     16\u001b[0m     \u001b[38;5;28;01mreturn\u001b[39;00m dW, db\n\u001b[0;32m     18\u001b[0m \u001b[38;5;28mprint\u001b[39m(X\u001b[38;5;241m.\u001b[39mshape)\n\u001b[1;32m---> 19\u001b[0m dW, db \u001b[38;5;241m=\u001b[39m \u001b[43mgradient\u001b[49m\u001b[43m(\u001b[49m\u001b[43mX\u001b[49m\u001b[43m,\u001b[49m\u001b[43m \u001b[49m\u001b[43mW\u001b[49m\u001b[43m,\u001b[49m\u001b[43m \u001b[49m\u001b[43mb\u001b[49m\u001b[43m,\u001b[49m\u001b[43m \u001b[49m\u001b[43my\u001b[49m\u001b[43m)\u001b[49m\n\u001b[0;32m     20\u001b[0m \u001b[38;5;28mprint\u001b[39m(\u001b[38;5;124m\"\u001b[39m\u001b[38;5;124mdW:\u001b[39m\u001b[38;5;124m\"\u001b[39m, dW)\n\u001b[0;32m     21\u001b[0m \u001b[38;5;28mprint\u001b[39m(\u001b[38;5;124m\"\u001b[39m\u001b[38;5;124mdb:\u001b[39m\u001b[38;5;124m\"\u001b[39m, db)\n",
      "Cell \u001b[1;32mIn [52], line 12\u001b[0m, in \u001b[0;36mgradient\u001b[1;34m(X, W, b, y)\u001b[0m\n\u001b[0;32m      9\u001b[0m y_pred \u001b[38;5;241m=\u001b[39m model(X, W, b)\n\u001b[0;32m     11\u001b[0m \u001b[38;5;66;03m# 공식에 맞게 gradient 계산\u001b[39;00m\n\u001b[1;32m---> 12\u001b[0m dW \u001b[38;5;241m=\u001b[39m \u001b[38;5;241m1\u001b[39m\u001b[38;5;241m/\u001b[39mN \u001b[38;5;241m*\u001b[39m \u001b[38;5;241m2\u001b[39m \u001b[38;5;241m*\u001b[39m X\u001b[38;5;241m.\u001b[39mT\u001b[38;5;241m.\u001b[39mdot(\u001b[43my_pred\u001b[49m\u001b[43m \u001b[49m\u001b[38;5;241;43m-\u001b[39;49m\u001b[43m \u001b[49m\u001b[43my\u001b[49m)\n\u001b[0;32m     14\u001b[0m \u001b[38;5;66;03m# b의 gradient 계산\u001b[39;00m\n\u001b[0;32m     15\u001b[0m db \u001b[38;5;241m=\u001b[39m \u001b[38;5;241m2\u001b[39m \u001b[38;5;241m*\u001b[39m (y_pred \u001b[38;5;241m-\u001b[39m y)\u001b[38;5;241m.\u001b[39mmean()\n",
      "\u001b[1;31mValueError\u001b[0m: operands could not be broadcast together with shapes (1,10) (1,442) "
     ]
    }
   ],
   "source": [
    "#(7) 기울기를 구하는 gradient 함수 구현하기\n",
    "#기울기를 계산하는 gradient 함수를 구현해주세요.\n",
    "\n",
    "def gradient(X, W, b, y):\n",
    "    # N은 가중치의 개수\n",
    "    N = len(W)\n",
    "    \n",
    "    # y_pred 준비\n",
    "    y_pred = model(X, W, b)\n",
    "    \n",
    "    # 공식에 맞게 gradient 계산\n",
    "    dW = 1/N * 2 * X.T.dot(y_pred - y)\n",
    "        \n",
    "    # b의 gradient 계산\n",
    "    db = 2 * (y_pred - y).mean()\n",
    "    return dW, db\n",
    "\n",
    "\n",
    "dW, db = gradient(X, W, b, y)\n",
    "print(\"dW:\", dW)\n",
    "print(\"db:\", db)\n",
    "\n"
   ]
  },
  {
   "cell_type": "markdown",
   "metadata": {},
   "source": [
    "MSE 값은 정답 y_true와 y_pred 간의 차이를 제곱해서 평균한 값입니다.\n",
    "모델이 잘 예측할수록 값이 작아지는 특성을 가집니다.\n",
    "\n",
    "우리가 손실함수를 미분하는 이유는 최적의 매개변수, w와 b에 가까워지는 방향을 알기 위함입니다.\n",
    "특정 순간에 기울기가 양수라면 w를 더 작게 줄이고, 기울기가 음수라면 w를 더 크게 늘립니다.\n",
    "손실함수는 언제나 내가 최적을 찾고자 하는 매개변수, 혹은 가중치에 대해 미분해야 합니다.\n",
    "현재 모델에는 w_1 부터 w_10 까지 10개의 w와, 1개의 b가 있으므로 우리는 총 11개의 변수에 대해 미분해야 합니다.\n",
    "\n",
    "미분은 영문 앞글자 Differential의 앞글자인 d를 따와서 dW, dX로 표현합니다.\n",
    "\n",
    "**(1,10) 그리고 (1,442)가 같이 표현될수 없다는 오류가 나온다."
   ]
  },
  {
   "cell_type": "code",
   "execution_count": null,
   "metadata": {},
   "outputs": [],
   "source": [
    "print(X.shape)\n",
    "print(W.shape)\n",
    "print(b.shape)\n",
    "print(y.shape)"
   ]
  },
  {
   "cell_type": "code",
   "execution_count": 41,
   "metadata": {},
   "outputs": [
    {
     "ename": "ValueError",
     "evalue": "shapes (1,442,10) and (2,1) not aligned: 10 (dim 2) != 2 (dim 0)",
     "output_type": "error",
     "traceback": [
      "\u001b[1;31m---------------------------------------------------------------------------\u001b[0m",
      "\u001b[1;31mValueError\u001b[0m                                Traceback (most recent call last)",
      "Cell \u001b[1;32mIn [41], line 12\u001b[0m\n\u001b[0;32m      9\u001b[0m weight \u001b[38;5;241m=\u001b[39m np\u001b[38;5;241m.\u001b[39mrandom\u001b[38;5;241m.\u001b[39mrandn(\u001b[38;5;241m2\u001b[39m, \u001b[38;5;241m1\u001b[39m)  \u001b[38;5;66;03m# 초기 랜덤 파라미터 설정\u001b[39;00m\n\u001b[0;32m     11\u001b[0m \u001b[38;5;28;01mfor\u001b[39;00m step \u001b[38;5;129;01min\u001b[39;00m \u001b[38;5;28mrange\u001b[39m(n_iterations): \n\u001b[1;32m---> 12\u001b[0m     gradients \u001b[38;5;241m=\u001b[39m \u001b[38;5;241m2\u001b[39m\u001b[38;5;241m/\u001b[39mm \u001b[38;5;241m*\u001b[39m X\u001b[38;5;241m.\u001b[39mT\u001b[38;5;241m.\u001b[39mdot(\u001b[43mX\u001b[49m\u001b[38;5;241;43m.\u001b[39;49m\u001b[43mdot\u001b[49m\u001b[43m(\u001b[49m\u001b[43mweight\u001b[49m\u001b[43m)\u001b[49m \u001b[38;5;241m-\u001b[39m y) \u001b[38;5;66;03m#기울기 계산\u001b[39;00m\n\u001b[0;32m     13\u001b[0m     weight \u001b[38;5;241m=\u001b[39m weight \u001b[38;5;241m-\u001b[39m eta \u001b[38;5;241m*\u001b[39m gradients \u001b[38;5;66;03m# 학습률의 크기만큼 기울기 방향으로 이동\u001b[39;00m\n\u001b[0;32m     15\u001b[0m      \u001b[38;5;66;03m#파라미터의 변화 파악\u001b[39;00m\n",
      "\u001b[1;31mValueError\u001b[0m: shapes (1,442,10) and (2,1) not aligned: 10 (dim 2) != 2 (dim 0)"
     ]
    }
   ],
   "source": [
    "#(8) 하이퍼 파라미터인 학습률 설정하기\n",
    "#학습률, learning rate 를 설정해주세요\n",
    "#만약 학습이 잘 되지 않는다면 learning rate 값을 한번 여러 가지로 설정하며 실험해 보세요.\n",
    "\n",
    "eta = 0.1  # 학습률\n",
    "n_iterations = 100 #반복횟수\n",
    "m = 100 # 샘플의 갯수\n",
    "\n",
    "weight = np.random.randn(2, 1)  # 초기 랜덤 파라미터 설정\n",
    "\n",
    "for step in range(n_iterations): \n",
    "    gradients = 2/m * X.T.dot(X.dot(weight) - y) #기울기 계산\n",
    "    weight = weight - eta * gradients # 학습률의 크기만큼 기울기 방향으로 이동\n",
    "     \n",
    "     #파라미터의 변화 파악\n",
    "    if (step+1) % 200 == 0:\n",
    "        print('Step :{:04d}, weight = \\n {}'.format(step+1, weight))\n",
    "    \n",
    "print('최종 결과값 : \\n{}'.format(weight))\n"
   ]
  },
  {
   "cell_type": "markdown",
   "metadata": {},
   "source": [
    "지속되는 shape 에러.... 하지만 이번에는 조금 다르다 두 데이터가 aligned 맞지 않는다고 합니다......"
   ]
  },
  {
   "cell_type": "code",
   "execution_count": null,
   "metadata": {},
   "outputs": [],
   "source": [
    "#(9) 모델 학습하기\n",
    "#정의된 손실함수와 기울기 함수로 모델을 학습해주세요.\n",
    "#loss값이 충분히 떨어질 때까지 학습을 진행해주세요.\n",
    "#입력하는 데이터인 X에 들어가는 특성 컬럼들을 몇 개 빼도 괜찮습니다. 다양한 데이터로 실험해 보세요."
   ]
  },
  {
   "cell_type": "code",
   "execution_count": null,
   "metadata": {},
   "outputs": [],
   "source": [
    "#(10) test 데이터에 대한 성능 확인하기\n",
    "#test 데이터에 대한 성능을 확인해주세요."
   ]
  },
  {
   "cell_type": "code",
   "execution_count": null,
   "metadata": {},
   "outputs": [],
   "source": [
    "#(11) 정답 데이터와 예측한 데이터 시각화하기\n",
    "#x축에는 X 데이터의 첫 번째 컬럼을, y축에는 정답인 target 데이터를 넣어서 모델이 예측한 데이터를 시각화해 주세요."
   ]
  },
  {
   "cell_type": "markdown",
   "metadata": {},
   "source": [
    "회고\n",
    "\n",
    "1)이번 프로젝트에서 어려웠던 점\n",
    "    사실 아직은 모든것이 어렵습니다......\n",
    "    실행취소 단축키인 ctrl+z를 자주 사용하는데, 셀안에서 사용할경우 의도되로 잘 작동하는데 실수로 셀 밖에서 실행되는 바람에 작성해온 셀들을 자주, 많이 날려먹었습니다.\n",
    "    자꾸만 shape 에러가 나와서 찾아보니 X가 3차원행렬로 되어 표기할수없는 에러가 자꾸 나왔습니다.\n",
    "\n",
    "2)프로젝트를 진행하면서 본인이 학습한 내용\n",
    "    깃헙과 비주얼스튜디오의 편리한 연동과 각종 다양한 기능, 작동방법 등\n",
    "    다양한 상황과 조건들이 수학적으로써 표현이 가능하고 이를 읽고 표현할수 있어야 한다는 점\n",
    "        \n",
    "\n",
    "    3)프로젝트를 진행하면서 알아낸 점 혹은 아직 모호한 점\n",
    "    4)루브릭 평가 지표를 맞추기 위해 시도한 것들\n",
    "    5)만약에 루브릭 평가 지표를 달성 하지 못했을 때, 이유에 관한 추정\n",
    "    6)자기 다짐\n",
    "\n"
   ]
  }
 ],
 "metadata": {
  "kernelspec": {
   "display_name": "Python 3.10.6 64-bit",
   "language": "python",
   "name": "python3"
  },
  "language_info": {
   "codemirror_mode": {
    "name": "ipython",
    "version": 3
   },
   "file_extension": ".py",
   "mimetype": "text/x-python",
   "name": "python",
   "nbconvert_exporter": "python",
   "pygments_lexer": "ipython3",
   "version": "3.10.6"
  },
  "orig_nbformat": 4,
  "vscode": {
   "interpreter": {
    "hash": "27f6fea6f47ae512550f0b8facdbd035a93e1dd89633f7bf2dd00a2502c71d0d"
   }
  }
 },
 "nbformat": 4,
 "nbformat_minor": 2
}
