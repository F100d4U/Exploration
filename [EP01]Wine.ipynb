{
 "cells": [
  {
   "cell_type": "code",
   "execution_count": 1,
   "metadata": {},
   "outputs": [
    {
     "name": "stdout",
     "output_type": "stream",
     "text": [
      "    alcohol malic_acid   ash alcalinity_of_ash magnesium total_phenols  \\\n",
      "0     14.23       1.71  2.43              15.6     127.0          2.80   \n",
      "1     13.20       1.78  2.14              11.2     100.0          2.65   \n",
      "2     13.16       2.36  2.67              18.6     101.0          2.80   \n",
      "3     14.37       1.95  2.50              16.8     113.0          3.85   \n",
      "4     13.24       2.59  2.87              21.0     118.0          2.80   \n",
      "..      ...        ...   ...               ...       ...           ...   \n",
      "173   13.71       5.65  2.45              20.5      95.0          1.68   \n",
      "174   13.40       3.91  2.48              23.0     102.0          1.80   \n",
      "175   13.27       4.28  2.26              20.0     120.0          1.59   \n",
      "176   13.17       2.59  2.37              20.0     120.0          1.65   \n",
      "177   14.13       4.10  2.74              24.5      96.0          2.05   \n",
      "\n",
      "    flavanoids nonflavanoid_phenols proanthocyanins color_intensity   hue  \\\n",
      "0         3.06                 0.28            2.29            5.64  1.04   \n",
      "1         2.76                 0.26            1.28            4.38  1.05   \n",
      "2         3.24                 0.30            2.81            5.68  1.03   \n",
      "3         3.49                 0.24            2.18            7.80  0.86   \n",
      "4         2.69                 0.39            1.82            4.32  1.04   \n",
      "..         ...                  ...             ...             ...   ...   \n",
      "173       0.61                 0.52            1.06            7.70  0.64   \n",
      "174       0.75                 0.43            1.41            7.30  0.70   \n",
      "175       0.69                 0.43            1.35           10.20  0.59   \n",
      "176       0.68                 0.53            1.46            9.30  0.60   \n",
      "177       0.76                 0.56            1.35            9.20  0.61   \n",
      "\n",
      "    od280/od315_of_diluted_wines proline target  \n",
      "0                           3.92  1065.0      0  \n",
      "1                           3.40  1050.0      0  \n",
      "2                           3.17  1185.0      0  \n",
      "3                           3.45  1480.0      0  \n",
      "4                           2.93   735.0      0  \n",
      "..                           ...     ...    ...  \n",
      "173                         1.74   740.0      2  \n",
      "174                         1.56   750.0      2  \n",
      "175                         1.56   835.0      2  \n",
      "176                         1.62   840.0      2  \n",
      "177                         1.60   560.0      2  \n",
      "\n",
      "[178 rows x 14 columns]\n",
      "0.38202247191011235\n"
     ]
    }
   ],
   "source": [
    "#준비과정\n",
    "from sklearn.datasets import load_wine\n",
    "from sklearn.model_selection import train_test_split\n",
    "from sklearn.metrics import classification_report\n",
    "from sklearn.tree import DecisionTreeClassifier\n",
    "\n",
    "import pandas as pd\n",
    "import numpy as np\n",
    "\n",
    "# 데이터 로드\n",
    "wine = load_wine()\n",
    "\n",
    "#feature 데이터\n",
    "wine_data = wine.data\n",
    "\n",
    "#target 데이터\n",
    "wine_target = wine.target\n",
    "\n",
    "#Dataframe을 만들기\n",
    "df_wine = pd.DataFrame(data = wine_data, columns=[wine.feature_names])\n",
    "\n",
    "# feature만 있는 데이터 프레임에 타겟 데이터 추가\n",
    "df_wine['target'] = wine.target\n",
    "\n",
    "#데이터출력 \n",
    "print(df_wine)\n",
    "\n",
    "#트레인 데이터, 테스트데이터 분할\n",
    "x_train, x_test, y_train, y_test = train_test_split(wine_data, wine_target, test_size=0.5, shuffle=False)\n",
    "\n",
    "#의사결정나무 분류모델, 트레인실행\n",
    "decision_tree = DecisionTreeClassifier(random_state=32)\n",
    "decision_tree.fit(x_train, y_train)\n",
    "\n",
    "#테스트 실행\n",
    "y_pred = decision_tree.predict(x_test)\n",
    "\n",
    "#성능평가 : 0.38밖에 안나왔다. 못쓰겠다.\n",
    "from sklearn.metrics import accuracy_score\n",
    "print(accuracy_score(y_test, y_pred))\n",
    "\n",
    "\n"
   ]
  }
 ],
 "metadata": {
  "kernelspec": {
   "display_name": "Python 3.10.6 64-bit",
   "language": "python",
   "name": "python3"
  },
  "language_info": {
   "codemirror_mode": {
    "name": "ipython",
    "version": 3
   },
   "file_extension": ".py",
   "mimetype": "text/x-python",
   "name": "python",
   "nbconvert_exporter": "python",
   "pygments_lexer": "ipython3",
   "version": "3.10.6"
  },
  "orig_nbformat": 4,
  "vscode": {
   "interpreter": {
    "hash": "27f6fea6f47ae512550f0b8facdbd035a93e1dd89633f7bf2dd00a2502c71d0d"
   }
  }
 },
 "nbformat": 4,
 "nbformat_minor": 2
}
