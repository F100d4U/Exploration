{
 "cells": [
  {
   "cell_type": "markdown",
   "metadata": {},
   "source": [
    "10. 번역기를 만들어보자\n",
    "\n",
    "<<목차>>\n",
    "\n",
    "1) 정제, 정규화, 전처리 (영어, 프랑스어 모두!)  \n",
    "\n",
    "2) 디코더의 문장에 시작 토큰과 종료 토큰을 넣어주세요.\n",
    "\n",
    "3) 케라스의 토크나이저로 텍스트를 숫자로 바꿔보세요.\n",
    "\n",
    "4) 임베딩 층(Embedding layer) 사용하기\n",
    "\n",
    "5) 모델 구현하기\n",
    "\n",
    "6) 모델 평가하기\n",
    "\n",
    "7) 시각화\n",
    "\n",
    "8) 루브릭\n",
    "\n",
    "9) 회고"
   ]
  },
  {
   "cell_type": "markdown",
   "metadata": {},
   "source": [
    "https://www.manythings.org/anki/\n",
    "\n",
    "사용할 데이터는  프랑스어와 영어의 병렬 코퍼스인 fra-eng.zip"
   ]
  },
  {
   "cell_type": "code",
   "execution_count": 18,
   "metadata": {},
   "outputs": [],
   "source": [
    "import pandas as pd\n",
    "import tensorflow as tf\n",
    "import numpy as np\n",
    "import os\n",
    "import re\n",
    "import matplotlib.pyplot as plt\n",
    "%matplotlib inline\n",
    "\n",
    "from tensorflow.keras.preprocessing.text import Tokenizer\n",
    "from tensorflow.keras.preprocessing.sequence import pad_sequences\n",
    "from tensorflow.keras.utils import to_categorical\n",
    "from tensorflow.keras.layers import Input, Embedding, Masking, LSTM, Dense, Dropout\n",
    "from tensorflow.keras.models import Model\n"
   ]
  },
  {
   "cell_type": "markdown",
   "metadata": {},
   "source": [
    "1) 정제, 정규화, 전처리"
   ]
  },
  {
   "cell_type": "code",
   "execution_count": 19,
   "metadata": {},
   "outputs": [
    {
     "name": "stdout",
     "output_type": "stream",
     "text": [
      "전체 샘플의 수 :  197463\n"
     ]
    },
    {
     "data": {
      "text/html": [
       "<div>\n",
       "<style scoped>\n",
       "    .dataframe tbody tr th:only-of-type {\n",
       "        vertical-align: middle;\n",
       "    }\n",
       "\n",
       "    .dataframe tbody tr th {\n",
       "        vertical-align: top;\n",
       "    }\n",
       "\n",
       "    .dataframe thead th {\n",
       "        text-align: right;\n",
       "    }\n",
       "</style>\n",
       "<table border=\"1\" class=\"dataframe\">\n",
       "  <thead>\n",
       "    <tr style=\"text-align: right;\">\n",
       "      <th></th>\n",
       "      <th>eng</th>\n",
       "      <th>fra</th>\n",
       "      <th>cc</th>\n",
       "    </tr>\n",
       "  </thead>\n",
       "  <tbody>\n",
       "    <tr>\n",
       "      <th>39959</th>\n",
       "      <td>Who locked the door?</td>\n",
       "      <td>Qui a verrouillé la porte ?</td>\n",
       "      <td>CC-BY 2.0 (France) Attribution: tatoeba.org #3...</td>\n",
       "    </tr>\n",
       "    <tr>\n",
       "      <th>88047</th>\n",
       "      <td>I think we're pretty lucky.</td>\n",
       "      <td>Je pense que nous avons pas mal de chance.</td>\n",
       "      <td>CC-BY 2.0 (France) Attribution: tatoeba.org #2...</td>\n",
       "    </tr>\n",
       "    <tr>\n",
       "      <th>42853</th>\n",
       "      <td>I need a clean shirt.</td>\n",
       "      <td>J'ai besoin d'une chemise propre.</td>\n",
       "      <td>CC-BY 2.0 (France) Attribution: tatoeba.org #2...</td>\n",
       "    </tr>\n",
       "    <tr>\n",
       "      <th>108036</th>\n",
       "      <td>Are you sure they can do this?</td>\n",
       "      <td>Es-tu sûre qu'elles peuvent faire ça ?</td>\n",
       "      <td>CC-BY 2.0 (France) Attribution: tatoeba.org #1...</td>\n",
       "    </tr>\n",
       "    <tr>\n",
       "      <th>39384</th>\n",
       "      <td>We can win this war.</td>\n",
       "      <td>Nous pouvons gagner cette guerre.</td>\n",
       "      <td>CC-BY 2.0 (France) Attribution: tatoeba.org #2...</td>\n",
       "    </tr>\n",
       "  </tbody>\n",
       "</table>\n",
       "</div>"
      ],
      "text/plain": [
       "                                   eng  \\\n",
       "39959             Who locked the door?   \n",
       "88047      I think we're pretty lucky.   \n",
       "42853            I need a clean shirt.   \n",
       "108036  Are you sure they can do this?   \n",
       "39384             We can win this war.   \n",
       "\n",
       "                                               fra  \\\n",
       "39959                  Qui a verrouillé la porte ?   \n",
       "88047   Je pense que nous avons pas mal de chance.   \n",
       "42853            J'ai besoin d'une chemise propre.   \n",
       "108036      Es-tu sûre qu'elles peuvent faire ça ?   \n",
       "39384            Nous pouvons gagner cette guerre.   \n",
       "\n",
       "                                                       cc  \n",
       "39959   CC-BY 2.0 (France) Attribution: tatoeba.org #3...  \n",
       "88047   CC-BY 2.0 (France) Attribution: tatoeba.org #2...  \n",
       "42853   CC-BY 2.0 (France) Attribution: tatoeba.org #2...  \n",
       "108036  CC-BY 2.0 (France) Attribution: tatoeba.org #1...  \n",
       "39384   CC-BY 2.0 (France) Attribution: tatoeba.org #2...  "
      ]
     },
     "execution_count": 19,
     "metadata": {},
     "output_type": "execute_result"
    }
   ],
   "source": [
    "file_path = '/home/june/data/translator_seq2seq/fra.txt'\n",
    "lines = pd.read_csv(file_path, names=['eng', 'fra', 'cc'], sep='\\t')\n",
    "print(\"전체 샘플의 수 : \", len(lines))\n",
    "lines.sample(5)"
   ]
  },
  {
   "cell_type": "code",
   "execution_count": 20,
   "metadata": {},
   "outputs": [
    {
     "data": {
      "text/html": [
       "<div>\n",
       "<style scoped>\n",
       "    .dataframe tbody tr th:only-of-type {\n",
       "        vertical-align: middle;\n",
       "    }\n",
       "\n",
       "    .dataframe tbody tr th {\n",
       "        vertical-align: top;\n",
       "    }\n",
       "\n",
       "    .dataframe thead th {\n",
       "        text-align: right;\n",
       "    }\n",
       "</style>\n",
       "<table border=\"1\" class=\"dataframe\">\n",
       "  <thead>\n",
       "    <tr style=\"text-align: right;\">\n",
       "      <th></th>\n",
       "      <th>eng</th>\n",
       "      <th>fra</th>\n",
       "    </tr>\n",
       "  </thead>\n",
       "  <tbody>\n",
       "    <tr>\n",
       "      <th>13239</th>\n",
       "      <td>Can I pay later?</td>\n",
       "      <td>Puis-je payer plus tard?</td>\n",
       "    </tr>\n",
       "    <tr>\n",
       "      <th>1131</th>\n",
       "      <td>I'd leave.</td>\n",
       "      <td>Je partirais.</td>\n",
       "    </tr>\n",
       "    <tr>\n",
       "      <th>40921</th>\n",
       "      <td>Did you behave today?</td>\n",
       "      <td>Tu t'es bien tenu aujourd'hui ?</td>\n",
       "    </tr>\n",
       "    <tr>\n",
       "      <th>9459</th>\n",
       "      <td>You're a doll!</td>\n",
       "      <td>Vous êtes un amour !</td>\n",
       "    </tr>\n",
       "    <tr>\n",
       "      <th>40056</th>\n",
       "      <td>Why did we say that?</td>\n",
       "      <td>Pourquoi avons-nous dit cela ?</td>\n",
       "    </tr>\n",
       "  </tbody>\n",
       "</table>\n",
       "</div>"
      ],
      "text/plain": [
       "                         eng                              fra\n",
       "13239       Can I pay later?         Puis-je payer plus tard?\n",
       "1131              I'd leave.                    Je partirais.\n",
       "40921  Did you behave today?  Tu t'es bien tenu aujourd'hui ?\n",
       "9459          You're a doll!             Vous êtes un amour !\n",
       "40056   Why did we say that?   Pourquoi avons-nous dit cela ?"
      ]
     },
     "execution_count": 20,
     "metadata": {},
     "output_type": "execute_result"
    }
   ],
   "source": [
    "lines = lines[['eng', 'fra']][:50000] # 5만개 샘플 사용\n",
    "lines.sample(5)"
   ]
  },
  {
   "cell_type": "code",
   "execution_count": 21,
   "metadata": {},
   "outputs": [
    {
     "name": "stdout",
     "output_type": "stream",
     "text": [
      "전체 샘플 수 :  50000\n"
     ]
    },
    {
     "data": {
      "text/html": [
       "<div>\n",
       "<style scoped>\n",
       "    .dataframe tbody tr th:only-of-type {\n",
       "        vertical-align: middle;\n",
       "    }\n",
       "\n",
       "    .dataframe tbody tr th {\n",
       "        vertical-align: top;\n",
       "    }\n",
       "\n",
       "    .dataframe thead th {\n",
       "        text-align: right;\n",
       "    }\n",
       "</style>\n",
       "<table border=\"1\" class=\"dataframe\">\n",
       "  <thead>\n",
       "    <tr style=\"text-align: right;\">\n",
       "      <th></th>\n",
       "      <th>eng</th>\n",
       "      <th>fra</th>\n",
       "    </tr>\n",
       "  </thead>\n",
       "  <tbody>\n",
       "    <tr>\n",
       "      <th>13350</th>\n",
       "      <td>Did he go there?</td>\n",
       "      <td>\\t S'y est-il rendu ? \\n</td>\n",
       "    </tr>\n",
       "    <tr>\n",
       "      <th>174</th>\n",
       "      <td>Be nice.</td>\n",
       "      <td>\\t Soyez gentille ! \\n</td>\n",
       "    </tr>\n",
       "    <tr>\n",
       "      <th>7674</th>\n",
       "      <td>I woke you up.</td>\n",
       "      <td>\\t Je t'ai réveillé. \\n</td>\n",
       "    </tr>\n",
       "    <tr>\n",
       "      <th>22555</th>\n",
       "      <td>Your room is big.</td>\n",
       "      <td>\\t Ta chambre est grande. \\n</td>\n",
       "    </tr>\n",
       "    <tr>\n",
       "      <th>25087</th>\n",
       "      <td>It was impressive.</td>\n",
       "      <td>\\t C'était impressionnant. \\n</td>\n",
       "    </tr>\n",
       "  </tbody>\n",
       "</table>\n",
       "</div>"
      ],
      "text/plain": [
       "                      eng                            fra\n",
       "13350    Did he go there?       \\t S'y est-il rendu ? \\n\n",
       "174              Be nice.         \\t Soyez gentille ! \\n\n",
       "7674       I woke you up.        \\t Je t'ai réveillé. \\n\n",
       "22555   Your room is big.   \\t Ta chambre est grande. \\n\n",
       "25087  It was impressive.  \\t C'était impressionnant. \\n"
      ]
     },
     "execution_count": 21,
     "metadata": {},
     "output_type": "execute_result"
    }
   ],
   "source": [
    "# 시작 토큰과 종료 토큰 추가\n",
    "sos_token = '\\t'\n",
    "eos_token = '\\n'\n",
    "\n",
    "lines.fra = lines.fra.apply(lambda x : '\\t ' + x + ' \\n')\n",
    "print(\"전체 샘플 수 : \", len(lines))\n",
    "lines.sample(5)"
   ]
  },
  {
   "cell_type": "code",
   "execution_count": 22,
   "metadata": {},
   "outputs": [],
   "source": [
    "def preprocess_sentence(sentence):\n",
    "    sentence = sentence.lower().strip()\n",
    "  \n",
    "    sentence = re.sub(r\"([?.!,¿])\", r\" \\1 \", sentence)\n",
    "    sentence = re.sub(r'[\" \"]+', \" \", sentence)\n",
    "    sentence = re.sub(r\"[^a-zA-Z?.!]+\", \" \", sentence)\n",
    "    \n",
    "    sentence = sentence.strip()\n",
    "    sentence = sentence.split(\" \")\n",
    "    \n",
    "    return sentence"
   ]
  },
  {
   "cell_type": "code",
   "execution_count": 23,
   "metadata": {},
   "outputs": [],
   "source": [
    "def preprocess_sentence_decoder(sentence):\n",
    "    sentence = sentence.lower().strip()\n",
    "  \n",
    "    sentence = re.sub(r\"([?.!,¿])\", r\" \\1 \", sentence)\n",
    "    sentence = re.sub(r'[\" \"]+', \" \", sentence)\n",
    "    sentence = re.sub(r\"[^a-zA-Z?.!]+\", \" \", sentence)\n",
    "    \n",
    "    sentence = sentence.strip()\n",
    "    sentence = '<start> ' + sentence + ' <end>'\n",
    "    sentence = sentence.split(\" \")\n",
    "    \n",
    "    return sentence"
   ]
  },
  {
   "cell_type": "code",
   "execution_count": 24,
   "metadata": {},
   "outputs": [
    {
     "data": {
      "text/plain": [
       "13199           [bite, the, bullet, .]\n",
       "27752        [you, are, very, rich, .]\n",
       "19706         [it, was, a, mistake, .]\n",
       "43066    [i, think, they, like, me, .]\n",
       "39557     [we, ll, find, out, soon, .]\n",
       "Name: eng, dtype: object"
      ]
     },
     "execution_count": 24,
     "metadata": {},
     "output_type": "execute_result"
    }
   ],
   "source": [
    "lines.eng = lines.eng.apply(lambda x : preprocess_sentence(x))\n",
    "\n",
    "lines.eng.sample(5)"
   ]
  },
  {
   "cell_type": "code",
   "execution_count": 25,
   "metadata": {},
   "outputs": [
    {
     "data": {
      "text/plain": [
       "19280    [<start>, je, ferai, n, importe, quoi, ., <end>]\n",
       "30431    [<start>, je, ne, dirai, pas, un, mot, ., <end>]\n",
       "41831    [<start>, il, a, t, envoy, en, prison, ., <end>]\n",
       "16455               [<start>, tom, tait, utile, ., <end>]\n",
       "18547         [<start>, je, ne, t, ai, pas, vu, ., <end>]\n",
       "Name: fra, dtype: object"
      ]
     },
     "execution_count": 25,
     "metadata": {},
     "output_type": "execute_result"
    }
   ],
   "source": [
    "lines.fra = lines.fra.apply(lambda x : preprocess_sentence_decoder(x))\n",
    "\n",
    "lines.fra.sample(5)"
   ]
  },
  {
   "cell_type": "markdown",
   "metadata": {},
   "source": [
    "3) 케라스의 토크나이저로 텍스트를 숫자로 바꿔보세요."
   ]
  },
  {
   "cell_type": "code",
   "execution_count": 26,
   "metadata": {},
   "outputs": [
    {
     "data": {
      "text/plain": [
       "[[33, 1], [33, 1], [33, 1], [33, 1], [908, 1]]"
      ]
     },
     "execution_count": 26,
     "metadata": {},
     "output_type": "execute_result"
    }
   ],
   "source": [
    "eng_tokenizer = Tokenizer()\n",
    "eng_tokenizer.fit_on_texts(lines.eng)\n",
    "input_text = eng_tokenizer.texts_to_sequences(lines.eng)\n",
    "input_text[:5]"
   ]
  },
  {
   "cell_type": "code",
   "execution_count": 27,
   "metadata": {},
   "outputs": [
    {
     "data": {
      "text/plain": [
       "[[1, 89, 15, 2],\n",
       " [1, 458, 3, 2],\n",
       " [1, 30, 649, 15, 2],\n",
       " [1, 935, 15, 2],\n",
       " [1, 936, 15, 2]]"
      ]
     },
     "execution_count": 27,
     "metadata": {},
     "output_type": "execute_result"
    }
   ],
   "source": [
    "fra_tokenizer = Tokenizer()\n",
    "fra_tokenizer.fit_on_texts(lines.fra)\n",
    "target_text = fra_tokenizer.texts_to_sequences(lines.fra)\n",
    "target_text[:5]"
   ]
  },
  {
   "cell_type": "code",
   "execution_count": 28,
   "metadata": {},
   "outputs": [
    {
     "name": "stdout",
     "output_type": "stream",
     "text": [
      "영어 단어장의 크기 : 5987\n",
      "프랑스어 단어장의 크기 : 9313\n"
     ]
    }
   ],
   "source": [
    "eng_vocab_size = len(eng_tokenizer.word_index) + 1\n",
    "fra_vocab_size = len(fra_tokenizer.word_index) + 1\n",
    "print('영어 단어장의 크기 :', eng_vocab_size)\n",
    "print('프랑스어 단어장의 크기 :', fra_vocab_size)"
   ]
  },
  {
   "cell_type": "code",
   "execution_count": 29,
   "metadata": {},
   "outputs": [
    {
     "name": "stdout",
     "output_type": "stream",
     "text": [
      "영어 시퀀스의 최대 길이 9\n",
      "프랑스어 시퀀스의 최대 길이 19\n"
     ]
    }
   ],
   "source": [
    "max_eng_seq_len = max([len(line) for line in input_text])\n",
    "max_fra_seq_len = max([len(line) for line in target_text])\n",
    "print('영어 시퀀스의 최대 길이', max_eng_seq_len)\n",
    "print('프랑스어 시퀀스의 최대 길이', max_fra_seq_len)"
   ]
  },
  {
   "cell_type": "code",
   "execution_count": 30,
   "metadata": {},
   "outputs": [
    {
     "name": "stdout",
     "output_type": "stream",
     "text": [
      "전체 샘플의 수 : 50000\n",
      "영어 단어장의 크기 : 5987\n",
      "프랑스어 단어장의 크기 : 9313\n",
      "영어 시퀀스의 최대 길이 9\n",
      "프랑스어 시퀀스의 최대 길이 19\n"
     ]
    }
   ],
   "source": [
    "print('전체 샘플의 수 :',len(lines))\n",
    "print('영어 단어장의 크기 :', eng_vocab_size)\n",
    "print('프랑스어 단어장의 크기 :', fra_vocab_size)   \n",
    "print('영어 시퀀스의 최대 길이', max_eng_seq_len)\n",
    "print('프랑스어 시퀀스의 최대 길이', max_fra_seq_len)"
   ]
  },
  {
   "cell_type": "code",
   "execution_count": 31,
   "metadata": {},
   "outputs": [],
   "source": [
    "sos_token = '<start>'\n",
    "eos_token = '<end>'\n",
    "\n",
    "encoder_input = input_text\n",
    "# 종료 토큰 제거\n",
    "decoder_input = [[ char for char in line if char != fra_tokenizer.word_index[eos_token] ] for line in target_text] \n",
    "# 시작 토큰 제거\n",
    "decoder_target = [[ char for char in line if char != fra_tokenizer.word_index[sos_token] ] for line in target_text]"
   ]
  },
  {
   "cell_type": "code",
   "execution_count": 32,
   "metadata": {},
   "outputs": [],
   "source": [
    "def pad_tensor(tensor):\n",
    "    total_data_text = list(tensor)\n",
    "    num_tokens = [len(tokens) for tokens in total_data_text]\n",
    "    max_tokens = max(num_tokens)\n",
    "#     max_tokens = np.mean(num_tokens) + 2 * np.std(num_tokens)\n",
    "    maxlen = int(max_tokens)\n",
    "    tensor = pad_sequences(tensor, padding='post', maxlen=maxlen)  \n",
    "    return tensor"
   ]
  },
  {
   "cell_type": "code",
   "execution_count": 33,
   "metadata": {},
   "outputs": [
    {
     "name": "stdout",
     "output_type": "stream",
     "text": [
      "영어 데이터의 크기(shape) : (50000, 9)\n",
      "프랑스어 입력 데이터의 크기(shape) : (50000, 19)\n",
      "프랑스어 출력 데이터의 크기(shape) : (50000, 19)\n"
     ]
    }
   ],
   "source": [
    "encoder_input = pad_sequences(encoder_input, maxlen = max_eng_seq_len, padding='post')\n",
    "decoder_input = pad_sequences(decoder_input, maxlen = max_fra_seq_len, padding='post')\n",
    "decoder_target = pad_sequences(decoder_target, maxlen = max_fra_seq_len, padding='post')\n",
    "\n",
    "print(\"영어 데이터의 크기(shape) :\", np.shape(encoder_input))\n",
    "print(\"프랑스어 입력 데이터의 크기(shape) :\", np.shape(decoder_input))\n",
    "print(\"프랑스어 출력 데이터의 크기(shape) :\", np.shape(decoder_target))"
   ]
  },
  {
   "cell_type": "code",
   "execution_count": 34,
   "metadata": {},
   "outputs": [],
   "source": [
    "indices = np.arange(encoder_input.shape[0])\n",
    "np.random.shuffle(indices)\n",
    "\n",
    "encoder_input = encoder_input[indices]\n",
    "decoder_input = decoder_input[indices]\n",
    "decoder_target = decoder_target[indices]"
   ]
  },
  {
   "cell_type": "code",
   "execution_count": 35,
   "metadata": {},
   "outputs": [
    {
     "name": "stdout",
     "output_type": "stream",
     "text": [
      "(47000, 9)\n",
      "(47000, 19)\n",
      "(47000, 19)\n",
      "(3000, 9)\n",
      "(3000, 19)\n",
      "(3000, 19)\n"
     ]
    }
   ],
   "source": [
    "n_of_val = 3000\n",
    "\n",
    "encoder_input_train = encoder_input[:-n_of_val]\n",
    "decoder_input_train = decoder_input[:-n_of_val]\n",
    "decoder_target_train = decoder_target[:-n_of_val]\n",
    "\n",
    "encoder_input_test = encoder_input[-n_of_val:]\n",
    "decoder_input_test = decoder_input[-n_of_val:]\n",
    "decoder_target_test = decoder_target[-n_of_val:]\n",
    "\n",
    "print(encoder_input_train.shape)\n",
    "print(decoder_input_train.shape)\n",
    "print(decoder_target_train.shape)\n",
    "print(encoder_input_test.shape)\n",
    "print(decoder_input_test.shape)\n",
    "print(decoder_target_test.shape)"
   ]
  },
  {
   "cell_type": "markdown",
   "metadata": {},
   "source": [
    "4) 임베딩 층(Embedding layer) 사용하기"
   ]
  },
  {
   "cell_type": "code",
   "execution_count": 36,
   "metadata": {},
   "outputs": [
    {
     "name": "stderr",
     "output_type": "stream",
     "text": [
      "2022-10-26 00:49:51.129214: I tensorflow/stream_executor/cuda/cuda_gpu_executor.cc:980] successful NUMA node read from SysFS had negative value (-1), but there must be at least one NUMA node, so returning NUMA node zero\n",
      "2022-10-26 00:49:51.183165: I tensorflow/stream_executor/cuda/cuda_gpu_executor.cc:980] successful NUMA node read from SysFS had negative value (-1), but there must be at least one NUMA node, so returning NUMA node zero\n",
      "2022-10-26 00:49:51.183460: I tensorflow/stream_executor/cuda/cuda_gpu_executor.cc:980] successful NUMA node read from SysFS had negative value (-1), but there must be at least one NUMA node, so returning NUMA node zero\n",
      "2022-10-26 00:49:51.184442: I tensorflow/core/platform/cpu_feature_guard.cc:193] This TensorFlow binary is optimized with oneAPI Deep Neural Network Library (oneDNN) to use the following CPU instructions in performance-critical operations:  AVX2 FMA\n",
      "To enable them in other operations, rebuild TensorFlow with the appropriate compiler flags.\n",
      "2022-10-26 00:49:51.185131: I tensorflow/stream_executor/cuda/cuda_gpu_executor.cc:980] successful NUMA node read from SysFS had negative value (-1), but there must be at least one NUMA node, so returning NUMA node zero\n",
      "2022-10-26 00:49:51.185284: I tensorflow/stream_executor/cuda/cuda_gpu_executor.cc:980] successful NUMA node read from SysFS had negative value (-1), but there must be at least one NUMA node, so returning NUMA node zero\n",
      "2022-10-26 00:49:51.185390: I tensorflow/stream_executor/cuda/cuda_gpu_executor.cc:980] successful NUMA node read from SysFS had negative value (-1), but there must be at least one NUMA node, so returning NUMA node zero\n",
      "2022-10-26 00:49:51.709989: I tensorflow/stream_executor/cuda/cuda_gpu_executor.cc:980] successful NUMA node read from SysFS had negative value (-1), but there must be at least one NUMA node, so returning NUMA node zero\n",
      "2022-10-26 00:49:51.710530: I tensorflow/stream_executor/cuda/cuda_gpu_executor.cc:980] successful NUMA node read from SysFS had negative value (-1), but there must be at least one NUMA node, so returning NUMA node zero\n",
      "2022-10-26 00:49:51.710743: I tensorflow/stream_executor/cuda/cuda_gpu_executor.cc:980] successful NUMA node read from SysFS had negative value (-1), but there must be at least one NUMA node, so returning NUMA node zero\n",
      "2022-10-26 00:49:51.710846: I tensorflow/core/common_runtime/gpu/gpu_device.cc:1616] Created device /job:localhost/replica:0/task:0/device:GPU:0 with 4117 MB memory:  -> device: 0, name: NVIDIA GeForce RTX 3060 Laptop GPU, pci bus id: 0000:01:00.0, compute capability: 8.6\n"
     ]
    }
   ],
   "source": [
    "embedding_size = 512\n",
    "hidden_size = 512\n",
    "\n",
    "encoder_inputs = Input(shape=(None, ), name='encoder_input')\n",
    "enc_emb =  Embedding(eng_vocab_size, embedding_size,\n",
    "                    input_length=max_eng_seq_len)(encoder_inputs)\n",
    "enc_masking = Masking(mask_value=0.0)(enc_emb)\n",
    "encoder_lstm = LSTM(hidden_size, dropout = 0.5, return_state=True)\n",
    "encoder_outputs, state_h, state_c = encoder_lstm(enc_masking)\n",
    "encoder_states = [state_h, state_c]"
   ]
  },
  {
   "cell_type": "code",
   "execution_count": 37,
   "metadata": {},
   "outputs": [],
   "source": [
    "decoder_inputs = Input(shape=(None, ), name='decoder_input')\n",
    "dec_emb =  Embedding(fra_vocab_size, embedding_size)(decoder_inputs)\n",
    "dec_masking = Masking(mask_value=0.0)(dec_emb)\n",
    "decoder_lstm = LSTM(hidden_size, dropout = 0.5, return_sequences = True, return_state=True)\n",
    "decoder_outputs, _, _ = decoder_lstm(dec_masking, initial_state = encoder_states)"
   ]
  },
  {
   "cell_type": "code",
   "execution_count": 38,
   "metadata": {},
   "outputs": [],
   "source": [
    "decoder_softmax_layer = Dense(fra_vocab_size, activation='softmax')\n",
    "decoder_outputs = decoder_softmax_layer(decoder_outputs)"
   ]
  },
  {
   "cell_type": "code",
   "execution_count": 39,
   "metadata": {},
   "outputs": [
    {
     "name": "stdout",
     "output_type": "stream",
     "text": [
      "Model: \"model\"\n",
      "__________________________________________________________________________________________________\n",
      " Layer (type)                   Output Shape         Param #     Connected to                     \n",
      "==================================================================================================\n",
      " encoder_input (InputLayer)     [(None, None)]       0           []                               \n",
      "                                                                                                  \n",
      " decoder_input (InputLayer)     [(None, None)]       0           []                               \n",
      "                                                                                                  \n",
      " embedding (Embedding)          (None, None, 512)    3065344     ['encoder_input[0][0]']          \n",
      "                                                                                                  \n",
      " embedding_1 (Embedding)        (None, None, 512)    4768256     ['decoder_input[0][0]']          \n",
      "                                                                                                  \n",
      " masking (Masking)              (None, None, 512)    0           ['embedding[0][0]']              \n",
      "                                                                                                  \n",
      " masking_1 (Masking)            (None, None, 512)    0           ['embedding_1[0][0]']            \n",
      "                                                                                                  \n",
      " lstm (LSTM)                    [(None, 512),        2099200     ['masking[0][0]']                \n",
      "                                 (None, 512),                                                     \n",
      "                                 (None, 512)]                                                     \n",
      "                                                                                                  \n",
      " lstm_1 (LSTM)                  [(None, None, 512),  2099200     ['masking_1[0][0]',              \n",
      "                                 (None, 512),                     'lstm[0][1]',                   \n",
      "                                 (None, 512)]                     'lstm[0][2]']                   \n",
      "                                                                                                  \n",
      " dense (Dense)                  (None, None, 9313)   4777569     ['lstm_1[0][0]']                 \n",
      "                                                                                                  \n",
      "==================================================================================================\n",
      "Total params: 16,809,569\n",
      "Trainable params: 16,809,569\n",
      "Non-trainable params: 0\n",
      "__________________________________________________________________________________________________\n"
     ]
    }
   ],
   "source": [
    "model = Model([encoder_inputs, decoder_inputs], decoder_outputs)\n",
    "model.compile(optimizer=\"rmsprop\", loss='sparse_categorical_crossentropy', metrics=['acc'])\n",
    "model.summary()"
   ]
  },
  {
   "cell_type": "code",
   "execution_count": 40,
   "metadata": {},
   "outputs": [
    {
     "name": "stdout",
     "output_type": "stream",
     "text": [
      "Epoch 1/50\n"
     ]
    },
    {
     "name": "stderr",
     "output_type": "stream",
     "text": [
      "2022-10-26 00:49:57.614387: W tensorflow/core/common_runtime/forward_type_inference.cc:332] Type inference failed. This indicates an invalid graph that escaped type checking. Error message: INVALID_ARGUMENT: expected compatible input types, but input 1:\n",
      "type_id: TFT_OPTIONAL\n",
      "args {\n",
      "  type_id: TFT_PRODUCT\n",
      "  args {\n",
      "    type_id: TFT_TENSOR\n",
      "    args {\n",
      "      type_id: TFT_INT32\n",
      "    }\n",
      "  }\n",
      "}\n",
      " is neither a subtype nor a supertype of the combined inputs preceding it:\n",
      "type_id: TFT_OPTIONAL\n",
      "args {\n",
      "  type_id: TFT_PRODUCT\n",
      "  args {\n",
      "    type_id: TFT_TENSOR\n",
      "    args {\n",
      "      type_id: TFT_FLOAT\n",
      "    }\n",
      "  }\n",
      "}\n",
      "\n",
      "\twhile inferring type of node 'cond_40/output/_23'\n",
      "2022-10-26 00:49:58.872504: I tensorflow/stream_executor/cuda/cuda_dnn.cc:384] Loaded cuDNN version 8600\n",
      "2022-10-26 00:49:59.169449: I tensorflow/stream_executor/cuda/cuda_blas.cc:1614] TensorFloat-32 will be used for the matrix multiplication. This will only be logged once.\n"
     ]
    },
    {
     "name": "stdout",
     "output_type": "stream",
     "text": [
      "1469/1469 [==============================] - 34s 19ms/step - loss: 1.2503 - acc: 0.8049 - val_loss: 1.0472 - val_acc: 0.8347\n",
      "Epoch 2/50\n",
      "1469/1469 [==============================] - 26s 18ms/step - loss: 0.9522 - acc: 0.8460 - val_loss: 0.8983 - val_acc: 0.8541\n",
      "Epoch 3/50\n",
      "1469/1469 [==============================] - 26s 18ms/step - loss: 0.8327 - acc: 0.8623 - val_loss: 0.8198 - val_acc: 0.8658\n",
      "Epoch 4/50\n",
      "1469/1469 [==============================] - 26s 18ms/step - loss: 0.7546 - acc: 0.8742 - val_loss: 0.7693 - val_acc: 0.8728\n",
      "Epoch 5/50\n",
      "1469/1469 [==============================] - 27s 18ms/step - loss: 0.7004 - acc: 0.8834 - val_loss: 0.7408 - val_acc: 0.8790\n",
      "Epoch 6/50\n",
      "1469/1469 [==============================] - 26s 18ms/step - loss: 0.6671 - acc: 0.8913 - val_loss: 0.7271 - val_acc: 0.8832\n",
      "Epoch 7/50\n",
      "1469/1469 [==============================] - 27s 18ms/step - loss: 0.6361 - acc: 0.8972 - val_loss: 0.7132 - val_acc: 0.8862\n",
      "Epoch 8/50\n",
      "1469/1469 [==============================] - 27s 18ms/step - loss: 0.6187 - acc: 0.9025 - val_loss: 0.7165 - val_acc: 0.8895\n",
      "Epoch 9/50\n",
      "1469/1469 [==============================] - 26s 18ms/step - loss: 0.6122 - acc: 0.9062 - val_loss: 0.7150 - val_acc: 0.8905\n",
      "Epoch 10/50\n",
      "1469/1469 [==============================] - 26s 18ms/step - loss: 0.5939 - acc: 0.9095 - val_loss: 0.7116 - val_acc: 0.8909\n",
      "Epoch 11/50\n",
      "1469/1469 [==============================] - 27s 18ms/step - loss: 0.5867 - acc: 0.9122 - val_loss: 0.7142 - val_acc: 0.8921\n",
      "Epoch 12/50\n",
      "1469/1469 [==============================] - 27s 18ms/step - loss: 0.5822 - acc: 0.9138 - val_loss: 0.7141 - val_acc: 0.8929\n",
      "Epoch 13/50\n",
      "1469/1469 [==============================] - 27s 18ms/step - loss: 0.5622 - acc: 0.9165 - val_loss: 0.7012 - val_acc: 0.8944\n",
      "Epoch 14/50\n",
      "1469/1469 [==============================] - 27s 18ms/step - loss: 0.5560 - acc: 0.9182 - val_loss: 0.7010 - val_acc: 0.8959\n",
      "Epoch 15/50\n",
      "1469/1469 [==============================] - 27s 18ms/step - loss: 0.5478 - acc: 0.9195 - val_loss: 0.7008 - val_acc: 0.8953\n",
      "Epoch 16/50\n",
      "1469/1469 [==============================] - 26s 18ms/step - loss: 0.5417 - acc: 0.9204 - val_loss: 0.6963 - val_acc: 0.8944\n",
      "Epoch 17/50\n",
      "1469/1469 [==============================] - 26s 18ms/step - loss: 0.5332 - acc: 0.9219 - val_loss: 0.6909 - val_acc: 0.8962\n",
      "Epoch 18/50\n",
      "1469/1469 [==============================] - 26s 18ms/step - loss: 0.5234 - acc: 0.9231 - val_loss: 0.6865 - val_acc: 0.8954\n",
      "Epoch 19/50\n",
      "1469/1469 [==============================] - 27s 18ms/step - loss: 0.5145 - acc: 0.9240 - val_loss: 0.6800 - val_acc: 0.8959\n",
      "Epoch 20/50\n",
      "1469/1469 [==============================] - 26s 18ms/step - loss: 0.5047 - acc: 0.9252 - val_loss: 0.6765 - val_acc: 0.8970\n",
      "Epoch 21/50\n",
      "1469/1469 [==============================] - 26s 18ms/step - loss: 0.4973 - acc: 0.9264 - val_loss: 0.6731 - val_acc: 0.8963\n",
      "Epoch 22/50\n",
      "1469/1469 [==============================] - 27s 18ms/step - loss: 0.4906 - acc: 0.9271 - val_loss: 0.6716 - val_acc: 0.8976\n",
      "Epoch 23/50\n",
      "1469/1469 [==============================] - 27s 18ms/step - loss: 0.4843 - acc: 0.9280 - val_loss: 0.6703 - val_acc: 0.8970\n",
      "Epoch 24/50\n",
      "1469/1469 [==============================] - 26s 18ms/step - loss: 0.4785 - acc: 0.9288 - val_loss: 0.6702 - val_acc: 0.8967\n",
      "Epoch 25/50\n",
      "1469/1469 [==============================] - 27s 18ms/step - loss: 0.4745 - acc: 0.9293 - val_loss: 0.6688 - val_acc: 0.8970\n",
      "Epoch 26/50\n",
      "1469/1469 [==============================] - 26s 18ms/step - loss: 0.4698 - acc: 0.9299 - val_loss: 0.6690 - val_acc: 0.8962\n",
      "Epoch 27/50\n",
      "1469/1469 [==============================] - 27s 18ms/step - loss: 0.4653 - acc: 0.9304 - val_loss: 0.6711 - val_acc: 0.8965\n",
      "Epoch 28/50\n",
      "1469/1469 [==============================] - 27s 18ms/step - loss: 0.4614 - acc: 0.9309 - val_loss: 0.6697 - val_acc: 0.8973\n",
      "Epoch 29/50\n",
      "1469/1469 [==============================] - 26s 18ms/step - loss: 0.4574 - acc: 0.9313 - val_loss: 0.6694 - val_acc: 0.8961\n",
      "Epoch 30/50\n",
      "1469/1469 [==============================] - 27s 18ms/step - loss: 0.4536 - acc: 0.9318 - val_loss: 0.6683 - val_acc: 0.8974\n",
      "Epoch 31/50\n",
      "1469/1469 [==============================] - 27s 18ms/step - loss: 0.4510 - acc: 0.9321 - val_loss: 0.6701 - val_acc: 0.8963\n",
      "Epoch 32/50\n",
      "1469/1469 [==============================] - 27s 18ms/step - loss: 0.4493 - acc: 0.9324 - val_loss: 0.6673 - val_acc: 0.8966\n",
      "Epoch 33/50\n",
      "1469/1469 [==============================] - 27s 18ms/step - loss: 0.4469 - acc: 0.9329 - val_loss: 0.6673 - val_acc: 0.8976\n",
      "Epoch 34/50\n",
      "1469/1469 [==============================] - 27s 18ms/step - loss: 0.4456 - acc: 0.9330 - val_loss: 0.6697 - val_acc: 0.8968\n",
      "Epoch 35/50\n",
      "1469/1469 [==============================] - 27s 18ms/step - loss: 0.4438 - acc: 0.9333 - val_loss: 0.6678 - val_acc: 0.8979\n",
      "Epoch 36/50\n",
      "1469/1469 [==============================] - 26s 18ms/step - loss: 0.4412 - acc: 0.9338 - val_loss: 0.6687 - val_acc: 0.8968\n",
      "Epoch 37/50\n",
      "1469/1469 [==============================] - 27s 18ms/step - loss: 0.4398 - acc: 0.9337 - val_loss: 0.6695 - val_acc: 0.8972\n",
      "Epoch 38/50\n",
      "1469/1469 [==============================] - 27s 18ms/step - loss: 0.4381 - acc: 0.9340 - val_loss: 0.6692 - val_acc: 0.8973\n",
      "Epoch 39/50\n",
      "1469/1469 [==============================] - 26s 18ms/step - loss: 0.4366 - acc: 0.9341 - val_loss: 0.6660 - val_acc: 0.8972\n",
      "Epoch 40/50\n",
      "1469/1469 [==============================] - 27s 18ms/step - loss: 0.4353 - acc: 0.9342 - val_loss: 0.6720 - val_acc: 0.8971\n",
      "Epoch 41/50\n",
      "1469/1469 [==============================] - 27s 18ms/step - loss: 0.4342 - acc: 0.9346 - val_loss: 0.6692 - val_acc: 0.8981\n",
      "Epoch 42/50\n",
      "1469/1469 [==============================] - 27s 18ms/step - loss: 0.4323 - acc: 0.9346 - val_loss: 0.6713 - val_acc: 0.8985\n",
      "Epoch 43/50\n",
      "1469/1469 [==============================] - 27s 18ms/step - loss: 0.4313 - acc: 0.9346 - val_loss: 0.6701 - val_acc: 0.8975\n",
      "Epoch 44/50\n",
      "1469/1469 [==============================] - 27s 18ms/step - loss: 0.4307 - acc: 0.9348 - val_loss: 0.6680 - val_acc: 0.8983\n",
      "Epoch 45/50\n",
      "1469/1469 [==============================] - 27s 18ms/step - loss: 0.4285 - acc: 0.9348 - val_loss: 0.6728 - val_acc: 0.8974\n",
      "Epoch 46/50\n",
      "1469/1469 [==============================] - 27s 18ms/step - loss: 0.4282 - acc: 0.9348 - val_loss: 0.6709 - val_acc: 0.8982\n",
      "Epoch 47/50\n",
      "1469/1469 [==============================] - 27s 18ms/step - loss: 0.4262 - acc: 0.9352 - val_loss: 0.6729 - val_acc: 0.8973\n",
      "Epoch 48/50\n",
      "1469/1469 [==============================] - 27s 18ms/step - loss: 0.4255 - acc: 0.9351 - val_loss: 0.6728 - val_acc: 0.8976\n",
      "Epoch 49/50\n",
      "1469/1469 [==============================] - 26s 18ms/step - loss: 0.4245 - acc: 0.9352 - val_loss: 0.6739 - val_acc: 0.8971\n",
      "Epoch 50/50\n",
      "1469/1469 [==============================] - 27s 18ms/step - loss: 0.4230 - acc: 0.9354 - val_loss: 0.6734 - val_acc: 0.8977\n"
     ]
    }
   ],
   "source": [
    "history = model.fit(x=[encoder_input_train, decoder_input_train], \n",
    "          y=decoder_target_train, \n",
    "          validation_data = ([encoder_input_test, decoder_input_test], \n",
    "                             decoder_target_test),\n",
    "          batch_size=32, \n",
    "          epochs=50)"
   ]
  },
  {
   "cell_type": "markdown",
   "metadata": {},
   "source": [
    "5) 모델 구현하기"
   ]
  },
  {
   "cell_type": "code",
   "execution_count": 52,
   "metadata": {},
   "outputs": [
    {
     "name": "stdout",
     "output_type": "stream",
     "text": [
      "Model: \"model_2\"\n",
      "_________________________________________________________________\n",
      " Layer (type)                Output Shape              Param #   \n",
      "=================================================================\n",
      " encoder_input (InputLayer)  [(None, None)]            0         \n",
      "                                                                 \n",
      " embedding (Embedding)       (None, None, 512)         3065344   \n",
      "                                                                 \n",
      " masking (Masking)           (None, None, 512)         0         \n",
      "                                                                 \n",
      " lstm (LSTM)                 [(None, 512),             2099200   \n",
      "                              (None, 512),                       \n",
      "                              (None, 512)]                       \n",
      "                                                                 \n",
      "=================================================================\n",
      "Total params: 5,164,544\n",
      "Trainable params: 5,164,544\n",
      "Non-trainable params: 0\n",
      "_________________________________________________________________\n"
     ]
    }
   ],
   "source": [
    "encoder_model = Model(inputs = encoder_inputs, outputs = encoder_states)\n",
    "encoder_model.summary()"
   ]
  },
  {
   "cell_type": "code",
   "execution_count": 53,
   "metadata": {},
   "outputs": [],
   "source": [
    "decoder_state_input_h = Input(shape=(embedding_size,))\n",
    "decoder_state_input_c = Input(shape=(embedding_size,))\n",
    "decoder_states_inputs = [decoder_state_input_h, decoder_state_input_c]\n",
    "\n",
    "dec_emb2 = Embedding(fra_vocab_size, embedding_size)(decoder_inputs)\n",
    "decoder_outputs2, state_h2, state_c2 = decoder_lstm(dec_emb2, initial_state = decoder_states_inputs)\n",
    "decoder_states2 = [state_h2, state_c2]\n",
    "\n",
    "decoder_outputs2 = decoder_softmax_layer(decoder_outputs2)"
   ]
  },
  {
   "cell_type": "code",
   "execution_count": 54,
   "metadata": {},
   "outputs": [
    {
     "name": "stdout",
     "output_type": "stream",
     "text": [
      "Model: \"model_3\"\n",
      "__________________________________________________________________________________________________\n",
      " Layer (type)                   Output Shape         Param #     Connected to                     \n",
      "==================================================================================================\n",
      " decoder_input (InputLayer)     [(None, None)]       0           []                               \n",
      "                                                                                                  \n",
      " embedding_3 (Embedding)        (None, None, 512)    4768256     ['decoder_input[0][0]']          \n",
      "                                                                                                  \n",
      " input_3 (InputLayer)           [(None, 512)]        0           []                               \n",
      "                                                                                                  \n",
      " input_4 (InputLayer)           [(None, 512)]        0           []                               \n",
      "                                                                                                  \n",
      " lstm_1 (LSTM)                  [(None, None, 512),  2099200     ['embedding_3[0][0]',            \n",
      "                                 (None, 512),                     'input_3[0][0]',                \n",
      "                                 (None, 512)]                     'input_4[0][0]']                \n",
      "                                                                                                  \n",
      " dense (Dense)                  (None, None, 9313)   4777569     ['lstm_1[2][0]']                 \n",
      "                                                                                                  \n",
      "==================================================================================================\n",
      "Total params: 11,645,025\n",
      "Trainable params: 11,645,025\n",
      "Non-trainable params: 0\n",
      "__________________________________________________________________________________________________\n"
     ]
    }
   ],
   "source": [
    "decoder_model = Model(inputs=[decoder_inputs] + decoder_states_inputs, outputs=[decoder_outputs2] + decoder_states2)\n",
    "decoder_model.summary()"
   ]
  },
  {
   "cell_type": "code",
   "execution_count": 58,
   "metadata": {},
   "outputs": [],
   "source": [
    "eng2idx = eng_tokenizer.word_index\n",
    "fra2idx = fra_tokenizer.word_index\n",
    "idx2eng = eng_tokenizer.index_word\n",
    "idx2fra = fra_tokenizer.index_word"
   ]
  },
  {
   "cell_type": "code",
   "execution_count": 60,
   "metadata": {},
   "outputs": [],
   "source": [
    "def decode_sequence(input_seq):\n",
    "    # 입력으로부터 인코더의 상태를 얻음\n",
    "    states_value = encoder_model.predict(input_seq)\n",
    "\n",
    "    # <start>에 해당하는 원-핫 벡터 생성\n",
    "    target_seq = np.zeros((1,1))\n",
    "    target_seq[0, 0] = fra2idx['<start>']\n",
    "    \n",
    "    stop_condition = False\n",
    "    decoded_sentence = \"\"\n",
    "\n",
    "    # stop_condition이 True가 될 때까지 루프 반복\n",
    "    while not stop_condition:\n",
    "        # 이점 시점의 상태 states_value를 현 시점의 초기 상태로 사용\n",
    "        output_tokens, h, c = decoder_model.predict([target_seq] + states_value)\n",
    "\n",
    "        # 예측 결과를 문자로 변환\n",
    "        sampled_token_index = np.argmax(output_tokens[0, -1, :])\n",
    "        sampled_char = idx2fra[sampled_token_index]\n",
    "\n",
    "        # 현재 시점의 예측 문자를 예측 문장에 추가\n",
    "        decoded_sentence += ' '+sampled_char\n",
    "\n",
    "        # <eos>에 도달하거나 최대 길이를 넘으면 중단.\n",
    "        if (sampled_char == '<end>' or\n",
    "           len(decoded_sentence) > max_fra_seq_len):\n",
    "            stop_condition = True\n",
    "\n",
    "        # 현재 시점의 예측 결과를 다음 시점의 입력으로 사용하기 위해 저장\n",
    "        target_seq = np.zeros((1, 1))\n",
    "        target_seq[0, 0] = sampled_token_index\n",
    "\n",
    "        # 현재 시점의 상태를 다음 시점의 상태로 사용하기 위해 저장\n",
    "        states_value = [h, c]\n",
    "\n",
    "    return decoded_sentence"
   ]
  },
  {
   "cell_type": "code",
   "execution_count": 61,
   "metadata": {},
   "outputs": [],
   "source": [
    "# 원문의 정수 시퀀스를 텍스트 시퀀스로 변환\n",
    "def seq2src(input_seq):\n",
    "    temp=''\n",
    "    for i in input_seq:\n",
    "        if(i!=0):\n",
    "            temp = temp + idx2eng[i]+' '\n",
    "    return temp"
   ]
  },
  {
   "cell_type": "code",
   "execution_count": 62,
   "metadata": {},
   "outputs": [],
   "source": [
    "# 번역문의 정수 시퀀스를 텍스트 시퀀스로 변환\n",
    "def seq2tar(input_seq):\n",
    "    temp=''\n",
    "    for i in input_seq:\n",
    "        if((i!=0 and i!=fra2idx['<start>']) and i!=fra2idx['<end>']):\n",
    "            temp = temp + idx2fra[i] + ' '\n",
    "    return temp"
   ]
  },
  {
   "cell_type": "markdown",
   "metadata": {},
   "source": [
    "6) 모델 평가하기"
   ]
  },
  {
   "cell_type": "code",
   "execution_count": 63,
   "metadata": {},
   "outputs": [
    {
     "name": "stdout",
     "output_type": "stream",
     "text": [
      "1/1 [==============================] - 0s 27ms/step\n",
      "1/1 [==============================] - 0s 235ms/step\n",
      "1/1 [==============================] - 0s 17ms/step\n",
      "1/1 [==============================] - 0s 17ms/step\n",
      "1/1 [==============================] - 0s 17ms/step\n",
      "1/1 [==============================] - 0s 18ms/step\n",
      "1/1 [==============================] - 0s 18ms/step\n",
      "1/1 [==============================] - 0s 18ms/step\n",
      "1/1 [==============================] - 0s 18ms/step\n",
      "-----------------------------------\n",
      "입력 문장: he took us to the zoo . \n",
      "정답 문장: il nous a emmen s au zoo . \n",
      "번역기가 번역한 문장:  il nous r l la . . \n",
      "1/1 [==============================] - 0s 27ms/step\n",
      "1/1 [==============================] - 0s 28ms/step\n",
      "1/1 [==============================] - 0s 26ms/step\n",
      "1/1 [==============================] - 0s 24ms/step\n",
      "1/1 [==============================] - 0s 24ms/step\n",
      "1/1 [==============================] - 0s 28ms/step\n",
      "1/1 [==============================] - 0s 22ms/step\n",
      "-----------------------------------\n",
      "입력 문장: stop overreacting . \n",
      "정답 문장: cesse d exag rer . \n",
      "번역기가 번역한 문장:  cesse de de de de le\n",
      "1/1 [==============================] - 0s 22ms/step\n",
      "1/1 [==============================] - 0s 23ms/step\n",
      "1/1 [==============================] - 0s 25ms/step\n",
      "1/1 [==============================] - 0s 25ms/step\n",
      "1/1 [==============================] - 0s 19ms/step\n",
      "-----------------------------------\n",
      "입력 문장: i can sing . \n",
      "정답 문장: je sais chanter . \n",
      "번역기가 번역한 문장:  je sais chanter chante\n",
      "1/1 [==============================] - 0s 18ms/step\n",
      "1/1 [==============================] - 0s 16ms/step\n",
      "1/1 [==============================] - 0s 15ms/step\n",
      "1/1 [==============================] - 0s 15ms/step\n",
      "1/1 [==============================] - 0s 15ms/step\n",
      "1/1 [==============================] - 0s 16ms/step\n",
      "1/1 [==============================] - 0s 15ms/step\n",
      "-----------------------------------\n",
      "입력 문장: give me a chance . \n",
      "정답 문장: accorde moi une chance ! \n",
      "번역기가 번역한 문장:  pr moi une une une maintenan\n",
      "1/1 [==============================] - 0s 15ms/step\n",
      "1/1 [==============================] - 0s 15ms/step\n",
      "1/1 [==============================] - 0s 14ms/step\n",
      "1/1 [==============================] - 0s 16ms/step\n",
      "1/1 [==============================] - 0s 15ms/step\n",
      "1/1 [==============================] - 0s 15ms/step\n",
      "1/1 [==============================] - 0s 15ms/step\n",
      "1/1 [==============================] - 0s 16ms/step\n",
      "-----------------------------------\n",
      "입력 문장: this is outrageous . \n",
      "정답 문장: c est effarant ! \n",
      "번역기가 번역한 문장:  c sont du . . que \n",
      "1/1 [==============================] - 0s 14ms/step\n",
      "1/1 [==============================] - 0s 16ms/step\n",
      "1/1 [==============================] - 0s 15ms/step\n",
      "1/1 [==============================] - 0s 15ms/step\n",
      "1/1 [==============================] - 0s 15ms/step\n",
      "-----------------------------------\n",
      "입력 문장: i feel terrible . \n",
      "정답 문장: je me sens super mal . \n",
      "번역기가 번역한 문장:  je me sens tellemen\n"
     ]
    }
   ],
   "source": [
    "for seq_index in [1,150,300,909,1600, 2022]:\n",
    "    input_seq = encoder_input_test[seq_index: seq_index + 1]\n",
    "    decoded_sentence = decode_sequence(input_seq)\n",
    "    print(35 * \"-\")\n",
    "    print('입력 문장:', seq2src(encoder_input_test[seq_index]))\n",
    "    print('정답 문장:', seq2tar(decoder_input_test[seq_index]))\n",
    "    print('번역기가 번역한 문장:', decoded_sentence[:len(decoded_sentence)-1])"
   ]
  },
  {
   "cell_type": "markdown",
   "metadata": {},
   "source": [
    "입력 문장: he took us to the zoo . \n",
    "\n",
    "정답 문장: il nous a emmen s au zoo . \n",
    "\n",
    "번역기가 번역한 문장:  il nous r l la . . \n",
    "\n",
    "=>결과를 구글번역기에 돌렸을 때 : 그녀는 거기에. .\n",
    "\n",
    "------------------------------------------------------------------\n",
    "\n",
    "입력 문장: stop overreacting .\n",
    "\n",
    "정답 문장: cesse d exag rer . \n",
    "\n",
    "번역기가 번역한 문장:  cesse de de de de le\n",
    "\n",
    "=>결과를 구글번역기에 돌렸을 때 : 의 중단\n",
    "\n",
    "------------------------------------------------------------------\n",
    "\n",
    "입력 문장: i can sing . \n",
    "\n",
    "정답 문장: je sais chanter . \n",
    "\n",
    "번역기가 번역한 문장:  je sais chanter chante\n",
    "\n",
    "=> 결과를 구글번역기에 돌렸을 때 : 나는 노래를 부를 수 있다\n",
    "\n",
    "------------------------------------------------------------------\n",
    "\n",
    "입력 문장: give me a chance . \n",
    "\n",
    "정답 문장: accorde moi une chance ! \n",
    "\n",
    "번역기가 번역한 문장:  pr moi une une une maintenan\n",
    "\n",
    "=> 결과를 구글번역기에 돌렸을 때 : 지금 나를 위해\n",
    "\n",
    "------------------------------------------------------------------\n",
    "\n",
    "입력 문장: this is outrageous . \n",
    "\n",
    "정답 문장: c est effarant ! \n",
    "\n",
    "번역기가 번역한 문장:  c sont du . . que \n",
    "\n",
    "=> 결과를 구글번역기에 돌렸을 때 : 그들은 . . 저것\n",
    "\n",
    "------------------------------------------------------------------\n",
    "\n",
    "입력 문장: i feel terrible . \n",
    "\n",
    "정답 문장: je me sens super mal . \n",
    "\n",
    "번역기가 번역한 문장:  je me sens tellemen\n",
    "\n",
    "=>결과를 구글번역기에 돌렸을 때 : 나는 그렇게 느낀다"
   ]
  },
  {
   "cell_type": "markdown",
   "metadata": {},
   "source": []
  },
  {
   "cell_type": "markdown",
   "metadata": {},
   "source": [
    "7) 시각화"
   ]
  },
  {
   "cell_type": "code",
   "execution_count": 64,
   "metadata": {},
   "outputs": [
    {
     "data": {
      "image/png": "[encoded data removed]",
      "text/plain": [
       "<Figure size 432x288 with 1 Axes>"
      ]
     },
     "metadata": {
      "needs_background": "light"
     },
     "output_type": "display_data"
    }
   ],
   "source": [
    "plt.plot(history.history['acc'])\n",
    "plt.plot(history.history['val_acc'])\n",
    "plt.title('Model accuracy')\n",
    "plt.xlabel('Epoch')\n",
    "plt.ylabel('Accuracy')\n",
    "plt.legend(['Train', 'Test'], loc='upper left')\n",
    "plt.show()"
   ]
  },
  {
   "cell_type": "code",
   "execution_count": 66,
   "metadata": {},
   "outputs": [
    {
     "data": {
      "image/png": "[encoded data removed]",
      "text/plain": [
       "<Figure size 432x288 with 1 Axes>"
      ]
     },
     "metadata": {
      "needs_background": "light"
     },
     "output_type": "display_data"
    }
   ],
   "source": [
    "plt.plot(history.history['loss'])\n",
    "plt.plot(history.history['val_loss'])\n",
    "plt.title('Model loss')\n",
    "plt.xlabel('Epoch')\n",
    "plt.ylabel('Loss')\n",
    "plt.legend(['Train', 'Test'], loc='upper left')\n",
    "plt.show()"
   ]
  },
  {
   "cell_type": "markdown",
   "metadata": {},
   "source": [
    "8) 루브릭"
   ]
  },
  {
   "cell_type": "markdown",
   "metadata": {},
   "source": [
    "1. 번역기 모델 학습에 필요한 텍스트 데이터 전처리가 잘 이루어졌다.\n",
    "\n",
    "구두점, 대소문자, 띄어쓰기 등 번역기 모델에 요구되는 전처리가 정상적으로 진행되었다.\n",
    "\n",
    "\n",
    "2. seq2seq 기반의 번역기 모델이 정상적으로 구동된다.\n",
    "\n",
    "seq2seq 모델 훈련결과를 그래프로 출력해보고, validation loss그래프가 우하향하는 경향성을 보이며 학습이 진행됨이 확인되었다.\n",
    "\n",
    "\n",
    "3. 테스트 결과 의미가 통하는 수준의 번역문이 생성되었다.\n",
    "\n",
    "테스트용 디코더 모델이 정상적으로 만들어졌으며, input(영어)와 output(프랑스어) 모두 한글로 번역해서 결과를 출력해보았고, 둘의 내용이 유사함을 확인하였다."
   ]
  },
  {
   "cell_type": "markdown",
   "metadata": {},
   "source": [
    "9) 회고\n",
    "\n",
    "- 이번 프로젝트에서 **어려웠던 점,**\n",
    "\n",
    "정확하게 이해하지 못해 아직은 추상적인 개념들이 있고 그 과정들이 복잡한것 같다.\n",
    "\n",
    "\n",
    "- 프로젝트를 진행하면서 **알아낸 점** 혹은 **아직 모호한 점**\n",
    "\n",
    "번역기라는게 굉장히 복잡한 회로를 가지고 있다는 점을 알게 되었다. 구글, 대단해!\n",
    "\n",
    "같은 조건일지라도 매번 할때마다 acc와 loss가 다른데 경향성마저도 다른것 같다. 이해하고 싶다.\n",
    "\n",
    "\n",
    "- 루브릭 평가 지표를 맞추기 위해 **시도한 것들**\n",
    "\n",
    "파라미터들을 조정해보았다.\n",
    "\n",
    "\n",
    "- 만약에 루브릭 평가 관련 지표를 **달성 하지 못했을 때, 이유에 관한 추정**\n",
    "\n",
    "\n",
    "- **자기 다짐**\n",
    "\n",
    "나름 언어에 대한 끼가 있다고 생각했는데 NLP 노드를 할때마다 아닌것 같다는 생각이 든다. 겸손해야겠다."
   ]
  }
 ],
 "metadata": {
  "kernelspec": {
   "display_name": "Python 3.9.12 ('base')",
   "language": "python",
   "name": "python3"
  },
  "language_info": {
   "codemirror_mode": {
    "name": "ipython",
    "version": 3
   },
   "file_extension": ".py",
   "mimetype": "text/x-python",
   "name": "python",
   "nbconvert_exporter": "python",
   "pygments_lexer": "ipython3",
   "version": "3.9.12"
  },
  "orig_nbformat": 4,
  "vscode": {
   "interpreter": {
    "hash": "64f60db5d244171661447d9f571ca5a7e4bf0bab2148f20540b6d51562bb9ca4"
   }
  }
 },
 "nbformat": 4,
 "nbformat_minor": 2
}
