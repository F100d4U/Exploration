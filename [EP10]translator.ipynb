{
 "cells": [
  {
   "cell_type": "markdown",
   "metadata": {},
   "source": [
    "10. 번역기를 만들어보자\n",
    "\n",
    "<<목차>>\n",
    "\n",
    "1) 정제, 정규화, 전처리 (영어, 프랑스어 모두!)\n",
    "2) 디코더의 문장에 시작 토큰과 종료 토큰을 넣어주세요.\n",
    "3) 케라스의 토크나이저로 텍스트를 숫자로 바꿔보세요.\n",
    "4) 임베딩 층(Embedding layer) 사용하기\n",
    "5) 모델 구현하기\n",
    "6) 모델 평가하기\n",
    "7) 루브릭\n",
    "8) 회고"
   ]
  },
  {
   "cell_type": "code",
   "execution_count": null,
   "metadata": {},
   "outputs": [],
   "source": []
  }
 ],
 "metadata": {
  "kernelspec": {
   "display_name": "Python 3.9.12 ('base')",
   "language": "python",
   "name": "python3"
  },
  "language_info": {
   "name": "python",
   "version": "3.9.12"
  },
  "orig_nbformat": 4,
  "vscode": {
   "interpreter": {
    "hash": "64f60db5d244171661447d9f571ca5a7e4bf0bab2148f20540b6d51562bb9ca4"
   }
  }
 },
 "nbformat": 4,
 "nbformat_minor": 2
}
