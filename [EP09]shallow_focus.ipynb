{
 "cells": [
  {
   "cell_type": "markdown",
   "metadata": {},
   "source": [
    "[EP09]인물사진을 만들어 보자\n",
    "\n",
    "<<목차>>\n",
    "\n",
    "1) 인물모드 직접 해 보기\n",
    "2) 사진에서 문제점 찾기\n",
    "3) 해결 방법을 제안해 보기\n",
    "4) 루브릭\n",
    "5) 회고"
   ]
  },
  {
   "cell_type": "markdown",
   "metadata": {},
   "source": [
    "1) 인물모드 직접 해 보기"
   ]
  },
  {
   "cell_type": "code",
   "execution_count": null,
   "metadata": {},
   "outputs": [],
   "source": [
    "\n",
    "\n"
   ]
  },
  {
   "cell_type": "markdown",
   "metadata": {},
   "source": [
    "4) 루브릭\n",
    "\n",
    "1. 인물모드 사진을 성공적으로 제작하였다.\n",
    "\n",
    "아웃포커싱 효과가 적용된 인물모드 사진과 동물 사진, 배경전환 크로마키사진을 각각 1장 이상 성공적으로 제작하였다.\n",
    "\n",
    "\n",
    "2. 제작한 인물모드 사진들에서 나타나는 문제점을 정확히 지적하였다.\n",
    "\n",
    "인물사진에서 발생한 문제점을 정확히 지적한 사진을 제출하였다.\n",
    "\n",
    "\n",
    "3. 인물모드 사진의 문제점을 개선할 수 있는 솔루션을 적절히 제시하였다.\n",
    "\n",
    "semantic segmentation mask의 오류를 보완할 수 있는 좋은 솔루션을 이유와 함께 제시하였다."
   ]
  },
  {
   "cell_type": "markdown",
   "metadata": {},
   "source": [
    "5) 회고\n",
    "\n",
    "- 이번 프로젝트에서 **어려웠던 점,**\n",
    "- 프로젝트를 진행하면서 **알아낸 점** 혹은 **아직 모호한 점**.\n",
    "- 루브릭 평가 지표를 맞추기 위해 **시도한 것들**.\n",
    "- 만약에 루브릭 평가 관련 지표를 **달성 하지 못했을 때, 이유에 관한 추정**.\n",
    "- **자기 다짐**"
   ]
  }
 ],
 "metadata": {
  "kernelspec": {
   "display_name": "Python 3.9.12 ('base')",
   "language": "python",
   "name": "python3"
  },
  "language_info": {
   "name": "python",
   "version": "3.9.12"
  },
  "orig_nbformat": 4,
  "vscode": {
   "interpreter": {
    "hash": "64f60db5d244171661447d9f571ca5a7e4bf0bab2148f20540b6d51562bb9ca4"
   }
  }
 },
 "nbformat": 4,
 "nbformat_minor": 2
}
