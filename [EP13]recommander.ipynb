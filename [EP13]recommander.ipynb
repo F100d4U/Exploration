{
 "cells": [
  {
   "cell_type": "markdown",
   "metadata": {},
   "source": [
    "[EP13] 아이유팬이 좋아할 만한 다른 아티스트 찾기\n"
   ]
  },
  {
   "cell_type": "markdown",
   "metadata": {},
   "source": [
    "<<목차>>\n",
    "\n",
    "\n",
    "1) 데이터 준비와 전처리\n",
    "\n",
    "2) 분석해 봅시다.\n",
    "\n",
    "3) 내가 선호하는 영화를 5가지 골라서 ratings에 추가해 줍시다.\n",
    "\n",
    "4) CSR matrix를 직접 만들어 봅시다.\n",
    "\n",
    "5) als_model = AlternatingLeastSquares 모델을 직접 구성하여 훈련시켜 봅시다.\n",
    "\n",
    "6) 내가 선호하는 5가지 영화 중 하나와 그 외의 영화 하나를 골라 훈련된 모델이 예측한 나의 선호도를 파악해 보세요.\n",
    "\n",
    "7) 내가 좋아하는 영화와 비슷한 영화를 추천받아 봅시다.\n",
    "\n",
    "8) 내가 가장 좋아할 만한 영화들을 추천받아 봅시다.\n",
    "\n",
    "9) 루브릭\n",
    "\n",
    "10) 회고"
   ]
  },
  {
   "cell_type": "markdown",
   "metadata": {},
   "source": [
    "1) 데이터 준비와 전처리"
   ]
  },
  {
   "cell_type": "code",
   "execution_count": null,
   "metadata": {},
   "outputs": [],
   "source": []
  },
  {
   "cell_type": "markdown",
   "metadata": {},
   "source": [
    "9) 루브릭\n",
    "\n",
    "1. CSR matrix가 정상적으로 만들어졌다.\n",
    "\n",
    "사용자와 아이템 개수를 바탕으로 정확한 사이즈로 만들었다.\n",
    "\n",
    "\n",
    "2. MF 모델이 정상적으로 훈련되어 그럴듯한 추천이 이루어졌다.\n",
    "\n",
    "사용자와 아이템 벡터 내적수치가 의미있게 형성되었다.\n",
    "\n",
    "\n",
    "3. 비슷한 영화 찾기와 유저에게 추천하기의 과정이 정상적으로 진행되었다.\n",
    "\n",
    "MF모델이 예측한 유저 선호도 및 아이템간 유사도, 기여도를 측정하고 의미를 분석해보았다."
   ]
  },
  {
   "cell_type": "markdown",
   "metadata": {},
   "source": [
    "10) 회고\n",
    "\n",
    "- 이번 프로젝트에서 **어려웠던 점,**\n",
    "\n",
    "\n",
    "\n",
    "\n",
    "\n",
    "- 프로젝트를 진행하면서 **알아낸 점** 혹은 **아직 모호한 점**\n",
    "\n",
    "\n",
    "\n",
    "\n",
    "- 루브릭 평가 지표를 맞추기 위해 **시도한 것들**\n",
    "\n",
    "\n",
    "\n",
    "\n",
    "- 만약에 루브릭 평가 관련 지표를 **달성 하지 못했을 때, 이유에 관한 추정**\n",
    "\n",
    "\n",
    "\n",
    "- **자기 다짐**"
   ]
  }
 ],
 "metadata": {
  "kernelspec": {
   "display_name": "Python 3.9.12 ('base')",
   "language": "python",
   "name": "python3"
  },
  "language_info": {
   "name": "python",
   "version": "3.9.12"
  },
  "orig_nbformat": 4,
  "vscode": {
   "interpreter": {
    "hash": "64f60db5d244171661447d9f571ca5a7e4bf0bab2148f20540b6d51562bb9ca4"
   }
  }
 },
 "nbformat": 4,
 "nbformat_minor": 2
}
