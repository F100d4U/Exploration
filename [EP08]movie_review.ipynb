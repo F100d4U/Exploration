{
 "cells": [
  {
   "cell_type": "markdown",
   "metadata": {},
   "source": [
    "[EP08] 영화리뷰 텍스트 감성분석하기\n",
    "\n",
    "<<목차>>\n",
    "\n",
    "1) 데이터 준비와 확인\n",
    "2) 데이터로더 구성\n",
    "3) 모델 구성을 위한 데이터 분석 및 가공\n",
    "4) 모델 구성 및 validation set 구성\n",
    "5) 모델 훈련 개시\n",
    "6) Loss, Accuracy 그래프 시각화\n",
    "7) 학습된 Embedding 레이어 분석\n",
    "8) 한국어 Word2Vec 임베딩 활용하여 성능 개선\n",
    "9) 루브릭\n",
    "10) 회고"
   ]
  },
  {
   "cell_type": "markdown",
   "metadata": {},
   "source": [
    "1) 데이터 준비와 확인"
   ]
  },
  {
   "cell_type": "code",
   "execution_count": 23,
   "metadata": {},
   "outputs": [],
   "source": [
    "import pandas as pd\n",
    "import numpy as np\n",
    "import urllib.request\n",
    "import matplotlib.pyplot as plt\n",
    "%matplotlib inline\n",
    "import seaborn as sns\n",
    "import re\n",
    "import gensim\n",
    "\n",
    "from konlpy.tag import Okt, Mecab\n",
    "from tensorflow import keras\n",
    "from tensorflow.keras.models import load_model\n",
    "from tensorflow.keras.callbacks import EarlyStopping, ModelCheckpoint\n",
    "from tensorflow.keras.preprocessing.text import Tokenizer\n",
    "from tensorflow.keras.preprocessing.sequence import pad_sequences\n",
    "from collections import Counter\n",
    "from gensim.models.keyedvectors import Word2VecKeyedVectors\n",
    "from gensim.models import Word2Vec\n",
    "from tensorflow.keras.initializers import Constant\n"
   ]
  },
  {
   "cell_type": "code",
   "execution_count": 24,
   "metadata": {},
   "outputs": [
    {
     "data": {
      "text/html": [
       "<div>\n",
       "<style scoped>\n",
       "    .dataframe tbody tr th:only-of-type {\n",
       "        vertical-align: middle;\n",
       "    }\n",
       "\n",
       "    .dataframe tbody tr th {\n",
       "        vertical-align: top;\n",
       "    }\n",
       "\n",
       "    .dataframe thead th {\n",
       "        text-align: right;\n",
       "    }\n",
       "</style>\n",
       "<table border=\"1\" class=\"dataframe\">\n",
       "  <thead>\n",
       "    <tr style=\"text-align: right;\">\n",
       "      <th></th>\n",
       "      <th>id</th>\n",
       "      <th>document</th>\n",
       "      <th>label</th>\n",
       "    </tr>\n",
       "  </thead>\n",
       "  <tbody>\n",
       "    <tr>\n",
       "      <th>0</th>\n",
       "      <td>9976970</td>\n",
       "      <td>아 더빙.. 진짜 짜증나네요 목소리</td>\n",
       "      <td>0</td>\n",
       "    </tr>\n",
       "    <tr>\n",
       "      <th>1</th>\n",
       "      <td>3819312</td>\n",
       "      <td>흠...포스터보고 초딩영화줄....오버연기조차 가볍지 않구나</td>\n",
       "      <td>1</td>\n",
       "    </tr>\n",
       "    <tr>\n",
       "      <th>2</th>\n",
       "      <td>10265843</td>\n",
       "      <td>너무재밓었다그래서보는것을추천한다</td>\n",
       "      <td>0</td>\n",
       "    </tr>\n",
       "    <tr>\n",
       "      <th>3</th>\n",
       "      <td>9045019</td>\n",
       "      <td>교도소 이야기구먼 ..솔직히 재미는 없다..평점 조정</td>\n",
       "      <td>0</td>\n",
       "    </tr>\n",
       "    <tr>\n",
       "      <th>4</th>\n",
       "      <td>6483659</td>\n",
       "      <td>사이몬페그의 익살스런 연기가 돋보였던 영화!스파이더맨에서 늙어보이기만 했던 커스틴 ...</td>\n",
       "      <td>1</td>\n",
       "    </tr>\n",
       "  </tbody>\n",
       "</table>\n",
       "</div>"
      ],
      "text/plain": [
       "         id                                           document  label\n",
       "0   9976970                                아 더빙.. 진짜 짜증나네요 목소리      0\n",
       "1   3819312                  흠...포스터보고 초딩영화줄....오버연기조차 가볍지 않구나      1\n",
       "2  10265843                                  너무재밓었다그래서보는것을추천한다      0\n",
       "3   9045019                      교도소 이야기구먼 ..솔직히 재미는 없다..평점 조정      0\n",
       "4   6483659  사이몬페그의 익살스런 연기가 돋보였던 영화!스파이더맨에서 늙어보이기만 했던 커스틴 ...      1"
      ]
     },
     "execution_count": 24,
     "metadata": {},
     "output_type": "execute_result"
    }
   ],
   "source": [
    "# 데이터를 읽어봅시다. \n",
    "train_data = pd.read_table('~/movie_review/ratings_train.txt')\n",
    "test_data = pd.read_table('~/movie_review/ratings_test.txt')\n",
    "\n",
    "train_data.head()"
   ]
  },
  {
   "cell_type": "markdown",
   "metadata": {},
   "source": [
    "2) 데이터로더 구성"
   ]
  },
  {
   "cell_type": "code",
   "execution_count": 25,
   "metadata": {},
   "outputs": [
    {
     "data": {
      "text/plain": [
       "document    146182\n",
       "label            2\n",
       "dtype: int64"
      ]
     },
     "execution_count": 25,
     "metadata": {},
     "output_type": "execute_result"
    }
   ],
   "source": [
    "# 중복하지 않은 데이터의 개수\n",
    "train_data[['document', 'label']].nunique()"
   ]
  },
  {
   "cell_type": "code",
   "execution_count": 26,
   "metadata": {},
   "outputs": [
    {
     "name": "stderr",
     "output_type": "stream",
     "text": [
      "/tmp/ipykernel_5962/215865904.py:2: FutureWarning: The default value of regex will change from True to False in a future version.\n",
      "  train_data['document'] = train_data['document'].str.replace(\"[^ㄱ-ㅎㅏ-ㅣ가-힣0-9 ]\", \"\")\n"
     ]
    },
    {
     "data": {
      "text/html": [
       "<div>\n",
       "<style scoped>\n",
       "    .dataframe tbody tr th:only-of-type {\n",
       "        vertical-align: middle;\n",
       "    }\n",
       "\n",
       "    .dataframe tbody tr th {\n",
       "        vertical-align: top;\n",
       "    }\n",
       "\n",
       "    .dataframe thead th {\n",
       "        text-align: right;\n",
       "    }\n",
       "</style>\n",
       "<table border=\"1\" class=\"dataframe\">\n",
       "  <thead>\n",
       "    <tr style=\"text-align: right;\">\n",
       "      <th></th>\n",
       "      <th>id</th>\n",
       "      <th>document</th>\n",
       "      <th>label</th>\n",
       "    </tr>\n",
       "  </thead>\n",
       "  <tbody>\n",
       "    <tr>\n",
       "      <th>0</th>\n",
       "      <td>9976970</td>\n",
       "      <td>아 더빙 진짜 짜증나네요 목소리</td>\n",
       "      <td>0</td>\n",
       "    </tr>\n",
       "    <tr>\n",
       "      <th>1</th>\n",
       "      <td>3819312</td>\n",
       "      <td>흠포스터보고 초딩영화줄오버연기조차 가볍지 않구나</td>\n",
       "      <td>1</td>\n",
       "    </tr>\n",
       "    <tr>\n",
       "      <th>2</th>\n",
       "      <td>10265843</td>\n",
       "      <td>너무재밓었다그래서보는것을추천한다</td>\n",
       "      <td>0</td>\n",
       "    </tr>\n",
       "    <tr>\n",
       "      <th>3</th>\n",
       "      <td>9045019</td>\n",
       "      <td>교도소 이야기구먼 솔직히 재미는 없다평점 조정</td>\n",
       "      <td>0</td>\n",
       "    </tr>\n",
       "    <tr>\n",
       "      <th>4</th>\n",
       "      <td>6483659</td>\n",
       "      <td>사이몬페그의 익살스런 연기가 돋보였던 영화스파이더맨에서 늙어보이기만 했던 커스틴 던...</td>\n",
       "      <td>1</td>\n",
       "    </tr>\n",
       "  </tbody>\n",
       "</table>\n",
       "</div>"
      ],
      "text/plain": [
       "         id                                           document  label\n",
       "0   9976970                                  아 더빙 진짜 짜증나네요 목소리      0\n",
       "1   3819312                         흠포스터보고 초딩영화줄오버연기조차 가볍지 않구나      1\n",
       "2  10265843                                  너무재밓었다그래서보는것을추천한다      0\n",
       "3   9045019                          교도소 이야기구먼 솔직히 재미는 없다평점 조정      0\n",
       "4   6483659  사이몬페그의 익살스런 연기가 돋보였던 영화스파이더맨에서 늙어보이기만 했던 커스틴 던...      1"
      ]
     },
     "execution_count": 26,
     "metadata": {},
     "output_type": "execute_result"
    }
   ],
   "source": [
    "# 정규 표현식을 이용하여 한글, 숫자, 공백을 제외하고 모두 제거 \n",
    "train_data['document'] = train_data['document'].str.replace(\"[^ㄱ-ㅎㅏ-ㅣ가-힣0-9 ]\", \"\")\n",
    "\n",
    "train_data[:5]"
   ]
  },
  {
   "cell_type": "code",
   "execution_count": 27,
   "metadata": {},
   "outputs": [
    {
     "data": {
      "text/plain": [
       "id            0\n",
       "document    694\n",
       "label         0\n",
       "dtype: int64"
      ]
     },
     "execution_count": 27,
     "metadata": {},
     "output_type": "execute_result"
    }
   ],
   "source": [
    "# train_data에 document 열에 빈 값을 가진 행이 있다면 Null 값으로 변경\n",
    "train_data['document'].replace('', np.nan, inplace=True)\n",
    "\n",
    "# 다시 한 번 Null 값이 존재하는지 확인\n",
    "train_data.isnull().sum()"
   ]
  },
  {
   "cell_type": "code",
   "execution_count": 28,
   "metadata": {},
   "outputs": [
    {
     "data": {
      "text/html": [
       "<div>\n",
       "<style scoped>\n",
       "    .dataframe tbody tr th:only-of-type {\n",
       "        vertical-align: middle;\n",
       "    }\n",
       "\n",
       "    .dataframe tbody tr th {\n",
       "        vertical-align: top;\n",
       "    }\n",
       "\n",
       "    .dataframe thead th {\n",
       "        text-align: right;\n",
       "    }\n",
       "</style>\n",
       "<table border=\"1\" class=\"dataframe\">\n",
       "  <thead>\n",
       "    <tr style=\"text-align: right;\">\n",
       "      <th></th>\n",
       "      <th>id</th>\n",
       "      <th>document</th>\n",
       "      <th>label</th>\n",
       "    </tr>\n",
       "  </thead>\n",
       "  <tbody>\n",
       "    <tr>\n",
       "      <th>668</th>\n",
       "      <td>1600635</td>\n",
       "      <td>NaN</td>\n",
       "      <td>0</td>\n",
       "    </tr>\n",
       "    <tr>\n",
       "      <th>1559</th>\n",
       "      <td>6918082</td>\n",
       "      <td>NaN</td>\n",
       "      <td>1</td>\n",
       "    </tr>\n",
       "    <tr>\n",
       "      <th>1840</th>\n",
       "      <td>7095375</td>\n",
       "      <td>NaN</td>\n",
       "      <td>1</td>\n",
       "    </tr>\n",
       "    <tr>\n",
       "      <th>2073</th>\n",
       "      <td>384233</td>\n",
       "      <td>NaN</td>\n",
       "      <td>1</td>\n",
       "    </tr>\n",
       "    <tr>\n",
       "      <th>2648</th>\n",
       "      <td>423224</td>\n",
       "      <td>NaN</td>\n",
       "      <td>1</td>\n",
       "    </tr>\n",
       "    <tr>\n",
       "      <th>2834</th>\n",
       "      <td>3645129</td>\n",
       "      <td>NaN</td>\n",
       "      <td>0</td>\n",
       "    </tr>\n",
       "    <tr>\n",
       "      <th>2867</th>\n",
       "      <td>9197016</td>\n",
       "      <td>NaN</td>\n",
       "      <td>1</td>\n",
       "    </tr>\n",
       "    <tr>\n",
       "      <th>2968</th>\n",
       "      <td>7957379</td>\n",
       "      <td>NaN</td>\n",
       "      <td>1</td>\n",
       "    </tr>\n",
       "    <tr>\n",
       "      <th>3692</th>\n",
       "      <td>2192935</td>\n",
       "      <td>NaN</td>\n",
       "      <td>0</td>\n",
       "    </tr>\n",
       "    <tr>\n",
       "      <th>3887</th>\n",
       "      <td>6959675</td>\n",
       "      <td>NaN</td>\n",
       "      <td>1</td>\n",
       "    </tr>\n",
       "  </tbody>\n",
       "</table>\n",
       "</div>"
      ],
      "text/plain": [
       "           id document  label\n",
       "668   1600635      NaN      0\n",
       "1559  6918082      NaN      1\n",
       "1840  7095375      NaN      1\n",
       "2073   384233      NaN      1\n",
       "2648   423224      NaN      1\n",
       "2834  3645129      NaN      0\n",
       "2867  9197016      NaN      1\n",
       "2968  7957379      NaN      1\n",
       "3692  2192935      NaN      0\n",
       "3887  6959675      NaN      1"
      ]
     },
     "execution_count": 28,
     "metadata": {},
     "output_type": "execute_result"
    }
   ],
   "source": [
    "# Null 값이 있는 행 10개만 출력\n",
    "train_data.loc[train_data.document.isnull()][:10]"
   ]
  },
  {
   "cell_type": "code",
   "execution_count": 29,
   "metadata": {},
   "outputs": [
    {
     "name": "stdout",
     "output_type": "stream",
     "text": [
      "전처리 후 학습용 데이터 개수 : 149306\n"
     ]
    }
   ],
   "source": [
    "# NaN은 아무런 의미가 없는 데이터 이므로 제거\n",
    "train_data = train_data.dropna(how = 'any')\n",
    "\n",
    "print('전처리 후 학습용 데이터 개수 :', len(train_data))"
   ]
  },
  {
   "cell_type": "code",
   "execution_count": 30,
   "metadata": {},
   "outputs": [
    {
     "name": "stdout",
     "output_type": "stream",
     "text": [
      "전처리 후 테스트용 데이터 개수 : 49773\n"
     ]
    },
    {
     "name": "stderr",
     "output_type": "stream",
     "text": [
      "/tmp/ipykernel_5962/2423763838.py:2: FutureWarning: The default value of regex will change from True to False in a future version.\n",
      "  test_data['document'] = test_data['document'].str.replace(\"[^ㄱ-ㅎㅏ-ㅣ가-힣0-9 ]\", \"\")\n"
     ]
    }
   ],
   "source": [
    "# 테스트 데이터도 정규 표현식을 이용하여 한글, 숫자, 공백을 제외하고 모두 제거 \n",
    "test_data['document'] = test_data['document'].str.replace(\"[^ㄱ-ㅎㅏ-ㅣ가-힣0-9 ]\", \"\")\n",
    "# test_data에 document 열에 빈 값을 가진 행이 있다면 Null 값으로 변경\n",
    "test_data['document'].replace('', np.nan, inplace=True)\n",
    "# NaN은 아무런 의미가 없는 데이터 이므로 제거\n",
    "test_data = test_data.dropna(how = 'any')\n",
    "\n",
    "print('전처리 후 테스트용 데이터 개수 :', len(test_data))"
   ]
  },
  {
   "cell_type": "code",
   "execution_count": 31,
   "metadata": {},
   "outputs": [],
   "source": [
    "tokenizer = Mecab()\n",
    "\n",
    "# 불용어 리스트\n",
    "stopwords = ['의','가','이','은','들','는','좀','잘','걍','과','도','를','으로','자','에','와','한','하다']\n",
    "\n",
    "def load_data(train_data, test_data, num_words=10000):\n",
    "    # 학습용 데이터에서 document 열에서 중복 데이터 제거\n",
    "    train_data.drop_duplicates(subset=['document'], inplace=True)\n",
    "    # 학습용 데이터에서 Null 값이 존재하는 행 제거\n",
    "    train_data = train_data.dropna(how = 'any') \n",
    "    # 테스트용 데이터에서 document 열에서 중복 데이터 제거\n",
    "    test_data.drop_duplicates(subset=['document'], inplace=True)\n",
    "    # 테스트용 데이터에서 Null 값이 존재하는 행 제거\n",
    "    test_data = test_data.dropna(how = 'any') \n",
    "    \n",
    "    # 한국어 토크나이저로 토큰화 및 불용어 제거\n",
    "    x_train = []\n",
    "    for sentence in train_data['document']:\n",
    "        temp_x = tokenizer.morphs(sentence) # 형태소 단위로 토큰화\n",
    "        temp_x = [word for word in temp_x if not word in stopwords] # 불용어 제거\n",
    "        x_train.append(temp_x)\n",
    "\n",
    "    x_test = []\n",
    "    for sentence in test_data['document']:\n",
    "        temp_x = tokenizer.morphs(sentence) \n",
    "        temp_x = [word for word in temp_x if not word in stopwords] \n",
    "        x_test.append(temp_x)\n",
    "\n",
    "    # 사전 작성\n",
    "    words = np.concatenate(x_train).tolist()   # .tolist() : array를 list로 변경\n",
    "    counter = Counter(words)                   # collection 모듈의 Counter 클래스로 데이터의 개수 확인\n",
    "    counter = counter.most_common(10000-4)     # most_common() : 데이터의 개수가 많은 순으로 정렬된 배열 리턴\n",
    "    vocab = ['<PAD>', '<BOS>', '<UNK>', '<UNUSED>'] + [key for key, _ in counter]\n",
    "    word_to_index = {word:index for index, word in enumerate(vocab)}\n",
    "\n",
    "    # word_to_index\n",
    "    def wordlist_to_indexlist(wordlist):\n",
    "        return [word_to_index[word] if word in word_to_index else word_to_index['<UNK>'] for word in wordlist]\n",
    "        # wordlist에 있는 word에 대해서 만약에 word가 word_to_index에 존재하면 인덱스 값을, 존재하지 않으면 <UNK>를 인덱스로 반환함\n",
    "\n",
    "    x_train = list(map(wordlist_to_indexlist, x_train))   # x_train 대상으로 wordlist_to_indexlist 함수를 수행하여 리스트로 반환\n",
    "    x_test = list(map(wordlist_to_indexlist, x_test))\n",
    "\n",
    "    return x_train, np.array(list(train_data['label'])), x_test, np.array(list(test_data['label'])), word_to_index\n",
    "\n",
    "x_train, y_train, x_test, y_test, word_to_index = load_data(train_data, test_data) "
   ]
  },
  {
   "cell_type": "code",
   "execution_count": 32,
   "metadata": {},
   "outputs": [
    {
     "name": "stdout",
     "output_type": "stream",
     "text": [
      "훈련 데이터 개수: 143856,  테스트 데이터 개수: 48498\n"
     ]
    }
   ],
   "source": [
    "print(\"훈련 데이터 개수: {},  테스트 데이터 개수: {}\".format(len(x_train), len(x_test)))"
   ]
  },
  {
   "cell_type": "code",
   "execution_count": 33,
   "metadata": {},
   "outputs": [],
   "source": [
    "# key= index, value= word로 변경\n",
    "index_to_word = {index:word for word, index in word_to_index.items()}"
   ]
  },
  {
   "cell_type": "code",
   "execution_count": 34,
   "metadata": {},
   "outputs": [],
   "source": [
    "# 활용할 딕셔너리와 함께 문장 1개를 주면, 단어 인덱스 리스트 벡터로 변환해 주는 함수입니다. 단, 모든 문장은 <BOS>로 시작하는 것으로 합니다. \n",
    "def get_encoded_sentence(sentence, word_to_index):\n",
    "    return [word_to_index['<BOS>']] + [word_to_index[word] if word in word_to_index else word_to_index['<UNK>'] for word in sentence.split()]\n",
    "\n",
    "# 여러 개의 문장 리스트를 한꺼번에 단어 인덱스 리스트 벡터로 encode해 주는 함수입니다. \n",
    "def get_encoded_sentences(sentences, word_to_index):\n",
    "    return [get_encoded_sentence(sentence, word_to_index) for sentence in sentences]\n",
    "\n",
    "# 숫자 벡터로 encode된 문장을 원래대로 decode하는 함수입니다. \n",
    "def get_decoded_sentence(encoded_sentence, index_to_word):\n",
    "    return ' '.join(index_to_word[index] if index in index_to_word else '<UNK>' for index in encoded_sentence[1:])  #[1:]를 통해 <BOS>를 제외\n",
    "\n",
    "# 여러개의 숫자 벡터로 encode된 문장을 한꺼번에 원래대로 decode하는 함수입니다. \n",
    "def get_decoded_sentences(encoded_sentences, index_to_word):\n",
    "    return [get_decoded_sentence(encoded_sentence, index_to_word) for encoded_sentence in encoded_sentences]"
   ]
  },
  {
   "cell_type": "markdown",
   "metadata": {},
   "source": [
    "3) 모델 구성을 위한 데이터 분석 및 가공"
   ]
  },
  {
   "cell_type": "code",
   "execution_count": 35,
   "metadata": {},
   "outputs": [
    {
     "name": "stdout",
     "output_type": "stream",
     "text": [
      "문장길이 평균 :  14.105529388523244\n",
      "문장길이 최대 :  84\n",
      "문장길이 표준편차 :  11.58677388511839\n"
     ]
    }
   ],
   "source": [
    "total_data_text = list(x_train) + list(x_test)\n",
    "# 텍스트데이터 문장길이의 리스트를 생성한 후\n",
    "num_tokens = [len(tokens) for tokens in total_data_text]\n",
    "num_tokens = np.array(num_tokens)\n",
    "\n",
    "# 문장길이의 평균값, 최대값, 표준편차를 계산해 본다. \n",
    "print('문장길이 평균 : ', np.mean(num_tokens))\n",
    "print('문장길이 최대 : ', np.max(num_tokens))\n",
    "print('문장길이 표준편차 : ', np.std(num_tokens))"
   ]
  },
  {
   "cell_type": "code",
   "execution_count": 36,
   "metadata": {},
   "outputs": [
    {
     "name": "stderr",
     "output_type": "stream",
     "text": [
      "/home/june/anaconda3/lib/python3.9/site-packages/seaborn/distributions.py:2619: FutureWarning: `distplot` is a deprecated function and will be removed in a future version. Please adapt your code to use either `displot` (a figure-level function with similar flexibility) or `histplot` (an axes-level function for histograms).\n",
      "  warnings.warn(msg, FutureWarning)\n"
     ]
    },
    {
     "data": {
      "text/plain": [
       "<AxesSubplot:ylabel='Density'>"
      ]
     },
     "execution_count": 36,
     "metadata": {},
     "output_type": "execute_result"
    },
    {
     "data": {
      "image/png": "[encoded data removed]",
      "text/plain": [
       "<Figure size 432x288 with 1 Axes>"
      ]
     },
     "metadata": {
      "needs_background": "light"
     },
     "output_type": "display_data"
    }
   ],
   "source": [
    "# 문장 길이 분포 시각화\n",
    "sns.distplot(num_tokens)"
   ]
  },
  {
   "cell_type": "code",
   "execution_count": 37,
   "metadata": {},
   "outputs": [
    {
     "name": "stdout",
     "output_type": "stream",
     "text": [
      "pad_sequences maxlen :  48\n",
      "전체 문장의 97.04867068010023%가 maxlen 설정값 이내에 포함됩니다. \n"
     ]
    }
   ],
   "source": [
    "# 최대 길이를 (평균 + 3*표준편차)로 한다면,  \n",
    "max_tokens = np.mean(num_tokens) + 3 * np.std(num_tokens)\n",
    "maxlen = int(max_tokens)\n",
    "\n",
    "print('pad_sequences maxlen : ', maxlen)\n",
    "print('전체 문장의 {}%가 maxlen 설정값 이내에 포함됩니다. '.format(np.sum(num_tokens < max_tokens) / len(num_tokens) * 100))"
   ]
  },
  {
   "cell_type": "code",
   "execution_count": 38,
   "metadata": {},
   "outputs": [
    {
     "name": "stdout",
     "output_type": "stream",
     "text": [
      "shape of x_train :  (143856, 48)\n",
      "shape of x_test :  (48498, 48)\n"
     ]
    }
   ],
   "source": [
    "# 문장의 길이가 maxlen 보다 짧은 문장에 <PAD>를 앞부분에 추가\n",
    "x_train = keras.preprocessing.sequence.pad_sequences(x_train,\n",
    "                                                        value=word_to_index[\"<PAD>\"],\n",
    "                                                        padding='pre', \n",
    "                                                        maxlen=maxlen)\n",
    "\n",
    "x_test = keras.preprocessing.sequence.pad_sequences(x_test,\n",
    "                                                       value=word_to_index[\"<PAD>\"],\n",
    "                                                       padding='pre', \n",
    "                                                       maxlen=maxlen)\n",
    "\n",
    "print('shape of x_train : ', x_train.shape)\n",
    "print('shape of x_test : ', x_test.shape)"
   ]
  },
  {
   "cell_type": "markdown",
   "metadata": {},
   "source": [
    "4) 모델 구성 및 validation set 구성"
   ]
  },
  {
   "cell_type": "code",
   "execution_count": 39,
   "metadata": {},
   "outputs": [
    {
     "name": "stdout",
     "output_type": "stream",
     "text": [
      "partial_x_train : (115084, 48)\n",
      "partial_y_train : (115084,)\n",
      "x_valid : (28772, 48)\n",
      "y_valid : (28772,)\n"
     ]
    }
   ],
   "source": [
    "# train data set에서 80:20의 비율로 train과 validation으로 분리, RNN에서는 순서가 중요하므로 shuffle은 진행하지 않도록 한다.\n",
    "# train set\n",
    "partial_x_train = x_train[:int(x_train.shape[0]*0.8)]\n",
    "partial_y_train = y_train[:int(y_train.shape[0]*0.8)]\n",
    "\n",
    "# validation set\n",
    "x_valid = x_train[int(x_train.shape[0]*0.8):]\n",
    "y_valid = y_train[int(x_train.shape[0]*0.8):]\n",
    "\n",
    "print('partial_x_train :', partial_x_train.shape)\n",
    "print('partial_y_train :', partial_y_train.shape)\n",
    "print('x_valid :', x_valid.shape)\n",
    "print('y_valid :', y_valid.shape)"
   ]
  },
  {
   "cell_type": "markdown",
   "metadata": {},
   "source": [
    "5) 모델 훈련 개시"
   ]
  },
  {
   "cell_type": "code",
   "execution_count": 40,
   "metadata": {},
   "outputs": [
    {
     "name": "stdout",
     "output_type": "stream",
     "text": [
      "Model: \"sequential_1\"\n",
      "_________________________________________________________________\n",
      " Layer (type)                Output Shape              Param #   \n",
      "=================================================================\n",
      " embedding_1 (Embedding)     (None, None, 200)         2000000   \n",
      "                                                                 \n",
      " gru (GRU)                   (None, 128)               126720    \n",
      "                                                                 \n",
      " dense_1 (Dense)             (None, 16)                2064      \n",
      "                                                                 \n",
      " dense_2 (Dense)             (None, 1)                 17        \n",
      "                                                                 \n",
      "=================================================================\n",
      "Total params: 2,128,801\n",
      "Trainable params: 2,128,801\n",
      "Non-trainable params: 0\n",
      "_________________________________________________________________\n"
     ]
    }
   ],
   "source": [
    "##RNN##\n",
    "\n",
    "vocab_size = 10000  # 어휘 사전의 크기(10,000개의 단어)\n",
    "word_vector_dim = 200  # 단어 하나를 표현하는 임베딩 벡터의 차원 \n",
    "\n",
    "RNNmodel1 = keras.Sequential()\n",
    "RNNmodel1.add(keras.layers.Embedding(vocab_size, word_vector_dim, input_shape=(None,)))\n",
    "# RNNmodel1.add(keras.layers.LSTM(128))                        #  RNN에서 가장 널리 사용하는 LSTM 레이어 사용\n",
    "RNNmodel1.add(keras.layers.GRU(128))                            # LSTM 모델을 발전 시킨 모델\n",
    "RNNmodel1.add(keras.layers.Dense(16, activation='relu'))\n",
    "RNNmodel1.add(keras.layers.Dense(1, activation='sigmoid'))  # 최종 출력은 긍정/부정을 나타내는 1 dim \n",
    "\n",
    "RNNmodel1.summary()"
   ]
  },
  {
   "cell_type": "code",
   "execution_count": 41,
   "metadata": {},
   "outputs": [
    {
     "name": "stdout",
     "output_type": "stream",
     "text": [
      "Epoch 1/10\n",
      "450/450 [==============================] - 5s 8ms/step - loss: 0.3916 - accuracy: 0.8209 - val_loss: 0.3371 - val_accuracy: 0.8531\n",
      "Epoch 2/10\n",
      "450/450 [==============================] - 3s 7ms/step - loss: 0.3005 - accuracy: 0.8709 - val_loss: 0.3316 - val_accuracy: 0.8557\n",
      "Epoch 3/10\n",
      "450/450 [==============================] - 3s 7ms/step - loss: 0.2598 - accuracy: 0.8893 - val_loss: 0.3370 - val_accuracy: 0.8543\n",
      "Epoch 4/10\n",
      "450/450 [==============================] - 3s 8ms/step - loss: 0.2290 - accuracy: 0.9039 - val_loss: 0.3563 - val_accuracy: 0.8532\n",
      "Epoch 5/10\n",
      "450/450 [==============================] - 3s 8ms/step - loss: 0.2007 - accuracy: 0.9163 - val_loss: 0.3878 - val_accuracy: 0.8512\n",
      "Epoch 6/10\n",
      "450/450 [==============================] - 3s 7ms/step - loss: 0.1726 - accuracy: 0.9286 - val_loss: 0.4351 - val_accuracy: 0.8496\n",
      "Epoch 7/10\n",
      "450/450 [==============================] - 3s 8ms/step - loss: 0.1472 - accuracy: 0.9389 - val_loss: 0.4900 - val_accuracy: 0.8472\n",
      "Epoch 8/10\n",
      "450/450 [==============================] - 3s 8ms/step - loss: 0.1258 - accuracy: 0.9480 - val_loss: 0.5561 - val_accuracy: 0.8440\n",
      "Epoch 9/10\n",
      "450/450 [==============================] - 4s 8ms/step - loss: 0.1065 - accuracy: 0.9560 - val_loss: 0.6413 - val_accuracy: 0.8375\n",
      "Epoch 10/10\n",
      "450/450 [==============================] - 3s 8ms/step - loss: 0.0939 - accuracy: 0.9605 - val_loss: 0.7382 - val_accuracy: 0.8379\n"
     ]
    }
   ],
   "source": [
    "# 학습 환경 설정\n",
    "RNNmodel1.compile(optimizer='adam',\n",
    "              loss='binary_crossentropy',\n",
    "              metrics=['accuracy'])\n",
    "              \n",
    "epochs=10  # 몇 epoch를 훈련하면 좋을지 결과를 보면서 바꾸어 봅시다. \n",
    "\n",
    "# 모델 학습\n",
    "history = RNNmodel1.fit(partial_x_train,\n",
    "                    partial_y_train,\n",
    "                    epochs=epochs,\n",
    "                    batch_size=256,\n",
    "                    validation_data=(x_valid, y_valid),\n",
    "                    verbose=1)"
   ]
  },
  {
   "cell_type": "markdown",
   "metadata": {},
   "source": [
    "6) Loss, Accuracy 그래프 시각화"
   ]
  },
  {
   "cell_type": "code",
   "execution_count": 42,
   "metadata": {},
   "outputs": [
    {
     "name": "stdout",
     "output_type": "stream",
     "text": [
      "dict_keys(['loss', 'accuracy', 'val_loss', 'val_accuracy'])\n"
     ]
    },
    {
     "data": {
      "image/png": "[encoded data removed]",
      "text/plain": [
       "<Figure size 432x288 with 1 Axes>"
      ]
     },
     "metadata": {
      "needs_background": "light"
     },
     "output_type": "display_data"
    },
    {
     "data": {
      "image/png": "[encoded data removed]",
      "text/plain": [
       "<Figure size 432x288 with 1 Axes>"
      ]
     },
     "metadata": {
      "needs_background": "light"
     },
     "output_type": "display_data"
    }
   ],
   "source": [
    "## Loss, Accuracy 그래프 시각화\n",
    "\n",
    "history_dict = history.history\n",
    "print(history_dict.keys()) # epoch에 따른 그래프를 그려볼 수 있는 항목들\n",
    "\n",
    "acc = history_dict['accuracy']\n",
    "val_acc = history_dict['val_accuracy']\n",
    "loss = history_dict['loss']\n",
    "val_loss = history_dict['val_loss']\n",
    "\n",
    "epochs = range(1, len(acc) + 1)\n",
    "\n",
    "# \"bo\"는 \"파란색 점\"입니다\n",
    "plt.plot(epochs, loss, 'ro', label='Training loss')\n",
    "# b는 \"파란 실선\"입니다\n",
    "plt.plot(epochs, val_loss, 'r', label='Validation loss')\n",
    "plt.title('Training and validation loss')\n",
    "plt.xlabel('Epochs')\n",
    "plt.ylabel('Loss')\n",
    "plt.legend()\n",
    "\n",
    "plt.show()\n",
    "\n",
    "plt.clf()   # 그림을 초기화합니다\n",
    "\n",
    "plt.plot(epochs, acc, 'bo', label='Training acc')\n",
    "plt.plot(epochs, val_acc, 'b', label='Validation acc')\n",
    "plt.title('Training and validation accuracy')\n",
    "plt.xlabel('Epochs')\n",
    "plt.ylabel('Accuracy')\n",
    "plt.legend()\n",
    "\n",
    "plt.show()"
   ]
  },
  {
   "cell_type": "code",
   "execution_count": 43,
   "metadata": {},
   "outputs": [
    {
     "name": "stdout",
     "output_type": "stream",
     "text": [
      "1516/1516 - 4s - loss: 0.7099 - accuracy: 0.8421 - 4s/epoch - 3ms/step\n",
      "[0.7098637819290161, 0.8420965671539307]\n"
     ]
    }
   ],
   "source": [
    "# test 결과\n",
    "results = RNNmodel1.evaluate(x_test, y_test, verbose=2)\n",
    "\n",
    "print(results)"
   ]
  },
  {
   "cell_type": "markdown",
   "metadata": {},
   "source": [
    "7) 학습된 Embedding 레이어 분석"
   ]
  },
  {
   "cell_type": "code",
   "execution_count": 44,
   "metadata": {},
   "outputs": [
    {
     "name": "stdout",
     "output_type": "stream",
     "text": [
      "(10000, 200)\n"
     ]
    }
   ],
   "source": [
    "embedding_layer = RNNmodel1.layers[0]\n",
    "weights = embedding_layer.get_weights()[0]\n",
    "print(weights.shape)"
   ]
  },
  {
   "cell_type": "code",
   "execution_count": 45,
   "metadata": {},
   "outputs": [],
   "source": [
    "word2vec_file_path = '/home/june/movie_review/word2vec.txt'\n",
    "f = open(word2vec_file_path, 'w')\n",
    "f.write('{} {}\\n'.format(vocab_size-4, word_vector_dim))\n",
    "\n",
    "vectors = RNNmodel1.get_weights()[0]\n",
    "for i in range(4,vocab_size):\n",
    "    f.write('{} {}\\n'.format(index_to_word[i], ' '.join(map(str, list(vectors[i, :])))))\n",
    "f.close()"
   ]
  },
  {
   "cell_type": "code",
   "execution_count": 46,
   "metadata": {},
   "outputs": [
    {
     "data": {
      "text/plain": [
       "array([-6.29072189e-02, -1.39242234e-02,  2.99953332e-04,  3.19971368e-02,\n",
       "        4.40031812e-02,  8.31831433e-03,  2.42975950e-02,  8.29617530e-02,\n",
       "       -2.60638185e-02, -4.76677790e-02, -3.43544222e-02,  3.88854109e-02,\n",
       "        4.81487289e-02, -5.60402032e-03, -4.40733880e-02, -2.95892637e-02,\n",
       "       -8.55856165e-02,  1.02371047e-03, -3.60028557e-02, -2.82874797e-02,\n",
       "        1.95963662e-02, -8.08622502e-03, -1.81090273e-02, -2.22242028e-02,\n",
       "        2.55763195e-02,  2.96708811e-02,  1.60585660e-02, -9.18463431e-03,\n",
       "        4.45711464e-02,  2.62844414e-02,  4.28804457e-02,  8.70348979e-03,\n",
       "       -2.85525452e-02, -1.02823293e-02, -1.03872336e-01, -5.40985540e-02,\n",
       "        4.83282469e-03, -2.38753902e-03,  2.35170908e-02,  3.46691953e-03,\n",
       "       -1.16564604e-02,  2.84499601e-02, -1.20280413e-02, -6.89675892e-03,\n",
       "       -1.55896908e-02,  1.32625541e-02,  3.88897359e-02, -1.29093686e-02,\n",
       "       -2.04137508e-02, -4.39422019e-02, -8.11789557e-02,  4.19983193e-02,\n",
       "        1.01577975e-02, -6.26060963e-02,  1.89567395e-02, -3.96120409e-03,\n",
       "        3.14107910e-02, -9.30314511e-02, -2.02715173e-02,  7.33074248e-02,\n",
       "       -3.56662050e-02,  3.88957299e-02, -6.64338693e-02, -6.35728091e-02,\n",
       "       -3.35745141e-03,  2.16104779e-02, -3.18328589e-02, -3.75240259e-02,\n",
       "       -2.48679668e-02, -2.80875899e-02, -2.46075392e-02, -5.39444503e-04,\n",
       "        7.36902328e-03,  5.61082363e-02, -4.16892134e-02, -6.41433597e-02,\n",
       "        3.84818129e-02, -4.18406501e-02,  1.84913948e-02,  1.04989705e-03,\n",
       "        1.90583821e-02, -1.09246671e-02, -4.46779206e-02, -7.95286298e-02,\n",
       "       -1.86124500e-02, -2.10449509e-02, -4.27833647e-02,  3.71482670e-02,\n",
       "       -3.82807441e-02, -2.36953273e-02,  7.09133446e-02,  8.38295091e-03,\n",
       "        4.11260575e-02, -3.91371921e-02,  1.12583330e-02,  1.29006252e-01,\n",
       "        5.72811775e-02,  2.14912556e-02,  9.92548466e-02, -1.62713546e-02,\n",
       "        3.66532803e-02, -2.57733539e-02, -2.22507510e-02,  5.35699446e-03,\n",
       "       -2.83091562e-03, -2.65714675e-02,  5.05575426e-02,  2.60446835e-02,\n",
       "        2.93058809e-02, -2.44972203e-02, -4.50602658e-02, -7.41981193e-02,\n",
       "        9.66646075e-02,  1.98975904e-03,  4.46486510e-02, -1.72924921e-02,\n",
       "        1.84831321e-02, -1.99889243e-02, -5.99635318e-02,  8.15614089e-02,\n",
       "        1.11234142e-02,  5.00424989e-02, -1.36485770e-01,  7.01551139e-02,\n",
       "        2.96334010e-02, -6.28991947e-02,  3.76705192e-02,  9.02949926e-03,\n",
       "       -4.55507264e-02,  7.77111426e-02,  1.29029257e-04, -3.38656083e-02,\n",
       "       -3.44907381e-02,  1.02366786e-02, -3.25510912e-02,  1.34582222e-02,\n",
       "       -5.74186891e-02,  6.91645546e-03,  7.79224560e-02, -2.94919647e-02,\n",
       "        3.91595587e-02,  5.48161902e-02, -7.74876773e-02, -1.16838738e-02,\n",
       "        1.89112909e-02,  1.01126373e-01,  7.61658847e-02, -5.19388530e-04,\n",
       "       -9.66771226e-03,  6.43314868e-02,  3.45215993e-03,  9.40736849e-03,\n",
       "        5.07335179e-02,  5.04299253e-03, -1.95903983e-02, -5.67275211e-02,\n",
       "        6.23243079e-02, -3.16795446e-02,  1.87814403e-02, -3.72722894e-02,\n",
       "        3.10627315e-02, -3.98999167e-04,  6.92899600e-02,  6.41257912e-02,\n",
       "        5.63633889e-02, -3.79533395e-02,  1.45395054e-02, -5.51250800e-02,\n",
       "       -6.49954304e-02,  2.32524183e-02,  3.57459746e-02,  7.76988966e-03,\n",
       "        5.64761274e-02,  1.98159665e-02,  4.70430311e-03, -4.48398031e-02,\n",
       "        1.99748352e-01, -5.24387658e-02,  1.00871183e-01, -1.66873839e-02,\n",
       "        7.52706022e-04, -6.72661886e-02,  1.74639206e-02,  5.69858737e-02,\n",
       "        2.66880337e-02,  5.03144041e-02, -1.48237194e-03, -4.47528623e-03,\n",
       "       -2.57874895e-02, -1.46217635e-02, -4.49232906e-02, -4.18372639e-02,\n",
       "        5.36405705e-02, -1.71038061e-02,  1.75116002e-03,  8.05414319e-02,\n",
       "       -1.65229589e-02,  7.59541802e-03,  3.72297205e-02, -2.22342890e-02],\n",
       "      dtype=float32)"
      ]
     },
     "execution_count": 46,
     "metadata": {},
     "output_type": "execute_result"
    }
   ],
   "source": [
    "word_vectors = Word2VecKeyedVectors.load_word2vec_format(word2vec_file_path, binary=False)\n",
    "vector = word_vectors['영화']\n",
    "vector"
   ]
  },
  {
   "cell_type": "code",
   "execution_count": 47,
   "metadata": {},
   "outputs": [
    {
     "data": {
      "text/plain": [
       "[('들어간다', 0.5246351957321167),\n",
       " ('오', 0.5111040472984314),\n",
       " ('더라고요', 0.5109429359436035),\n",
       " ('작품', 0.5107095241546631),\n",
       " ('점', 0.5087099075317383),\n",
       " ('천국', 0.5041117072105408),\n",
       " ('흡사', 0.49011844396591187),\n",
       " ('능가', 0.4839653968811035),\n",
       " ('을려나', 0.480087012052536),\n",
       " ('꾼', 0.4773670732975006)]"
      ]
     },
     "execution_count": 47,
     "metadata": {},
     "output_type": "execute_result"
    }
   ],
   "source": [
    "word_vectors.similar_by_word(\"영화\")"
   ]
  },
  {
   "cell_type": "markdown",
   "metadata": {},
   "source": [
    "8) 한국어 Word2Vec 임베딩 활용하여 성능 개선"
   ]
  },
  {
   "cell_type": "code",
   "execution_count": 48,
   "metadata": {},
   "outputs": [
    {
     "data": {
      "text/plain": [
       "array([-1.8007389 , -1.1790098 , -2.4066596 ,  2.1384156 , -0.3537603 ,\n",
       "        1.3749527 , -4.894612  , -3.6517198 ,  0.4411444 ,  0.78153926,\n",
       "       -2.696888  , -1.7812852 , -2.1514654 , -4.813236  ,  2.7465918 ,\n",
       "       -2.1620324 , -0.11467794, -1.2431171 ,  2.3979309 , -1.1060628 ,\n",
       "       -0.41043055,  1.9500391 ,  0.7821002 ,  1.5899978 ,  1.6447444 ,\n",
       "       -2.1265035 , -1.7981595 ,  1.7535795 ,  0.53717697, -1.212121  ,\n",
       "       -4.466316  ,  4.5488324 ,  1.334441  , -0.9070271 ,  1.1931889 ,\n",
       "        4.1563215 ,  1.9758307 , -0.9437562 , -0.2592725 ,  0.34935686,\n",
       "        1.8562875 , -3.3249645 ,  1.1221625 ,  1.2836524 ,  3.9211376 ,\n",
       "        3.8023994 ,  2.766269  ,  0.67293745,  2.2853644 , -5.1131716 ,\n",
       "        0.32525915, -3.3079958 ,  5.3043513 , -3.8813758 , -0.32960036,\n",
       "       -1.9527504 ,  3.8865075 , -3.5470378 , -0.21991685,  0.82119733,\n",
       "       -0.9492492 ,  3.5472107 ,  1.322048  , -0.70640826,  0.52253807,\n",
       "        1.4683235 , -1.1018689 ,  2.262941  , -0.7204685 , -1.766201  ,\n",
       "        5.2237577 ,  3.0748682 ,  1.0977576 ,  3.3191733 , -0.4100423 ,\n",
       "       -1.7022891 , -0.78379875,  0.82586575, -0.54520637,  1.2355382 ,\n",
       "        2.02674   , -0.652447  ,  1.0866054 ,  0.8977641 ,  0.7928342 ,\n",
       "        3.7770627 ,  3.0274863 ,  5.1660023 ,  2.6461644 ,  2.8926868 ,\n",
       "        1.970944  , -3.3746543 , -5.2656593 , -1.1041485 ,  2.357547  ,\n",
       "       -2.3570824 , -4.8172383 ,  3.7290223 ,  4.62329   ,  1.5004613 ],\n",
       "      dtype=float32)"
      ]
     },
     "execution_count": 48,
     "metadata": {},
     "output_type": "execute_result"
    }
   ],
   "source": [
    "from gensim.models import Word2Vec\n",
    "\n",
    "word2vec_path = '/home/june/movie_review/word2vec_ko.model'\n",
    "word2vec = gensim.models.Word2Vec.load(word2vec_path)\n",
    "vector = word2vec.wv['영화']\n",
    "vector"
   ]
  },
  {
   "cell_type": "code",
   "execution_count": 49,
   "metadata": {},
   "outputs": [
    {
     "data": {
      "text/plain": [
       "[('들어간다', 0.5246351957321167),\n",
       " ('오', 0.5111040472984314),\n",
       " ('더라고요', 0.5109429359436035),\n",
       " ('작품', 0.5107095241546631),\n",
       " ('점', 0.5087099075317383),\n",
       " ('천국', 0.5041117072105408),\n",
       " ('흡사', 0.49011844396591187),\n",
       " ('능가', 0.4839653968811035),\n",
       " ('을려나', 0.480087012052536),\n",
       " ('꾼', 0.4773670732975006)]"
      ]
     },
     "execution_count": 49,
     "metadata": {},
     "output_type": "execute_result"
    }
   ],
   "source": [
    "# 단어를 하나 주고 가장 유사한 단어와 유사도 확인\n",
    "word_vectors.similar_by_word(\"영화\")"
   ]
  },
  {
   "cell_type": "code",
   "execution_count": 50,
   "metadata": {},
   "outputs": [],
   "source": [
    "vocab_size = 10000\n",
    "word_vector_dim = 200\n",
    "\n",
    "embedding_matrix = np.random.rand(vocab_size, word_vector_dim)\n",
    "\n",
    "for i in range(4,vocab_size):\n",
    "    if index_to_word[i] == word2vec:\n",
    "        embedding_matrix[i] = word2vec[index_to_word[i]]\n",
    "\n",
    "RNNmodel2_ko = keras.Sequential()\n",
    "RNNmodel2_ko.add(keras.layers.Embedding(vocab_size, \n",
    "                                 word_vector_dim, \n",
    "                                 embeddings_initializer=Constant(embedding_matrix),\n",
    "                                 input_length=maxlen, \n",
    "                                 trainable=True))\n",
    "RNNmodel2_ko.add(keras.layers.Conv1D(64, 7, activation='relu'))\n",
    "RNNmodel2_ko.add(keras.layers.MaxPooling1D(5))\n",
    "RNNmodel2_ko.add(keras.layers.Conv1D(64, 7, activation='relu'))\n",
    "RNNmodel2_ko.add(keras.layers.GlobalMaxPooling1D())\n",
    "RNNmodel2_ko.add(keras.layers.Dense(128, activation='relu'))\n",
    "RNNmodel2_ko.add(keras.layers.Dense(1, activation='sigmoid'))"
   ]
  },
  {
   "cell_type": "code",
   "execution_count": 51,
   "metadata": {},
   "outputs": [
    {
     "name": "stdout",
     "output_type": "stream",
     "text": [
      "Model: \"sequential_2\"\n",
      "_________________________________________________________________\n",
      " Layer (type)                Output Shape              Param #   \n",
      "=================================================================\n",
      " embedding_2 (Embedding)     (None, 48, 200)           2000000   \n",
      "                                                                 \n",
      " conv1d (Conv1D)             (None, 42, 64)            89664     \n",
      "                                                                 \n",
      " max_pooling1d (MaxPooling1D  (None, 8, 64)            0         \n",
      " )                                                               \n",
      "                                                                 \n",
      " conv1d_1 (Conv1D)           (None, 2, 64)             28736     \n",
      "                                                                 \n",
      " global_max_pooling1d (Globa  (None, 64)               0         \n",
      " lMaxPooling1D)                                                  \n",
      "                                                                 \n",
      " dense_3 (Dense)             (None, 128)               8320      \n",
      "                                                                 \n",
      " dense_4 (Dense)             (None, 1)                 129       \n",
      "                                                                 \n",
      "=================================================================\n",
      "Total params: 2,126,849\n",
      "Trainable params: 2,126,849\n",
      "Non-trainable params: 0\n",
      "_________________________________________________________________\n"
     ]
    }
   ],
   "source": [
    "RNNmodel2_ko.summary()"
   ]
  },
  {
   "cell_type": "code",
   "execution_count": 52,
   "metadata": {},
   "outputs": [
    {
     "name": "stdout",
     "output_type": "stream",
     "text": [
      "Epoch 1/10\n",
      "450/450 [==============================] - 4s 6ms/step - loss: 0.6187 - accuracy: 0.6115 - val_loss: 0.4675 - val_accuracy: 0.7752\n",
      "Epoch 2/10\n",
      "450/450 [==============================] - 3s 6ms/step - loss: 0.4263 - accuracy: 0.7991 - val_loss: 0.4257 - val_accuracy: 0.7971\n",
      "Epoch 3/10\n",
      "450/450 [==============================] - 3s 6ms/step - loss: 0.3815 - accuracy: 0.8243 - val_loss: 0.4238 - val_accuracy: 0.8026\n",
      "Epoch 4/10\n",
      "450/450 [==============================] - 3s 6ms/step - loss: 0.3557 - accuracy: 0.8391 - val_loss: 0.4254 - val_accuracy: 0.8023\n",
      "Epoch 5/10\n",
      "450/450 [==============================] - 3s 6ms/step - loss: 0.3249 - accuracy: 0.8562 - val_loss: 0.4469 - val_accuracy: 0.7961\n",
      "Epoch 6/10\n",
      "450/450 [==============================] - 3s 6ms/step - loss: 0.2975 - accuracy: 0.8710 - val_loss: 0.4686 - val_accuracy: 0.7920\n",
      "Epoch 7/10\n",
      "450/450 [==============================] - 3s 6ms/step - loss: 0.2639 - accuracy: 0.8878 - val_loss: 0.5029 - val_accuracy: 0.7901\n",
      "Epoch 8/10\n",
      "450/450 [==============================] - 2s 5ms/step - loss: 0.2407 - accuracy: 0.8987 - val_loss: 0.5185 - val_accuracy: 0.7853\n",
      "Epoch 9/10\n",
      "450/450 [==============================] - 2s 5ms/step - loss: 0.2150 - accuracy: 0.9104 - val_loss: 0.5877 - val_accuracy: 0.7808\n",
      "Epoch 10/10\n",
      "450/450 [==============================] - 3s 6ms/step - loss: 0.1909 - accuracy: 0.9208 - val_loss: 0.6191 - val_accuracy: 0.7815\n"
     ]
    }
   ],
   "source": [
    "RNNmodel2_ko.compile(optimizer='adam',\n",
    "              loss='binary_crossentropy',\n",
    "              metrics=['accuracy'])\n",
    "history = RNNmodel2_ko.fit(partial_x_train,\n",
    "                    partial_y_train,\n",
    "                    epochs=10,\n",
    "                    batch_size=256,\n",
    "                    validation_data=(x_valid, y_valid),\n",
    "                    verbose=1)"
   ]
  },
  {
   "cell_type": "code",
   "execution_count": 53,
   "metadata": {},
   "outputs": [
    {
     "name": "stdout",
     "output_type": "stream",
     "text": [
      "dict_keys(['loss', 'accuracy', 'val_loss', 'val_accuracy'])\n"
     ]
    },
    {
     "data": {
      "image/png": "[encoded data removed]",
      "text/plain": [
       "<Figure size 432x288 with 1 Axes>"
      ]
     },
     "metadata": {
      "needs_background": "light"
     },
     "output_type": "display_data"
    },
    {
     "data": {
      "image/png": "[encoded data removed]",
      "text/plain": [
       "<Figure size 432x288 with 1 Axes>"
      ]
     },
     "metadata": {
      "needs_background": "light"
     },
     "output_type": "display_data"
    }
   ],
   "source": [
    "## Loss, Accuracy 그래프 시각화\n",
    "\n",
    "history_dict = history.history\n",
    "print(history_dict.keys()) # epoch에 따른 그래프를 그려볼 수 있는 항목들\n",
    "\n",
    "acc = history_dict['accuracy']\n",
    "val_acc = history_dict['val_accuracy']\n",
    "loss = history_dict['loss']\n",
    "val_loss = history_dict['val_loss']\n",
    "\n",
    "epochs = range(1, len(acc) + 1)\n",
    "\n",
    "# \"bo\"는 \"파란색 점\"입니다\n",
    "plt.plot(epochs, loss, 'ro', label='Training loss')\n",
    "# b는 \"파란 실선\"입니다\n",
    "plt.plot(epochs, val_loss, 'r', label='Validation loss')\n",
    "plt.title('Training and validation loss')\n",
    "plt.xlabel('Epochs')\n",
    "plt.ylabel('Loss')\n",
    "plt.legend()\n",
    "\n",
    "plt.show()\n",
    "\n",
    "plt.clf()   # 그림을 초기화합니다\n",
    "\n",
    "plt.plot(epochs, acc, 'bo', label='Training acc')\n",
    "plt.plot(epochs, val_acc, 'b', label='Validation acc')\n",
    "plt.title('Training and validation accuracy')\n",
    "plt.xlabel('Epochs')\n",
    "plt.ylabel('Accuracy')\n",
    "plt.legend()\n",
    "\n",
    "plt.show()"
   ]
  },
  {
   "cell_type": "code",
   "execution_count": 54,
   "metadata": {},
   "outputs": [
    {
     "name": "stdout",
     "output_type": "stream",
     "text": [
      "1516/1516 - 3s - loss: 0.6283 - accuracy: 0.7779 - 3s/epoch - 2ms/step\n",
      "[0.6282691955566406, 0.7778671383857727]\n"
     ]
    }
   ],
   "source": [
    "# 테스트셋을 통한 모델 평가\n",
    "results = RNNmodel2_ko.evaluate(x_test,  y_test, verbose=2)\n",
    "\n",
    "print(results)"
   ]
  },
  {
   "cell_type": "markdown",
   "metadata": {},
   "source": [
    "★다양한 모델"
   ]
  },
  {
   "cell_type": "code",
   "execution_count": 55,
   "metadata": {},
   "outputs": [
    {
     "name": "stdout",
     "output_type": "stream",
     "text": [
      "Model: \"sequential_3\"\n",
      "_________________________________________________________________\n",
      " Layer (type)                Output Shape              Param #   \n",
      "=================================================================\n",
      " embedding_3 (Embedding)     (None, None, 64)          640000    \n",
      "                                                                 \n",
      " conv1d_2 (Conv1D)           (None, None, 64)          28736     \n",
      "                                                                 \n",
      " max_pooling1d_1 (MaxPooling  (None, None, 64)         0         \n",
      " 1D)                                                             \n",
      "                                                                 \n",
      " conv1d_3 (Conv1D)           (None, None, 64)          28736     \n",
      "                                                                 \n",
      " global_max_pooling1d_1 (Glo  (None, 64)               0         \n",
      " balMaxPooling1D)                                                \n",
      "                                                                 \n",
      " dense_5 (Dense)             (None, 128)               8320      \n",
      "                                                                 \n",
      " dense_6 (Dense)             (None, 1)                 129       \n",
      "                                                                 \n",
      "=================================================================\n",
      "Total params: 705,921\n",
      "Trainable params: 705,921\n",
      "Non-trainable params: 0\n",
      "_________________________________________________________________\n"
     ]
    }
   ],
   "source": [
    "vocab_size = 10000\n",
    "word_vector_dim = 64\n",
    "\n",
    "conv1d_model = keras.Sequential()\n",
    "conv1d_model.add(keras.layers.Embedding(vocab_size, word_vector_dim, input_shape=(None,)))\n",
    "conv1d_model.add(keras.layers.Conv1D(64, 7, activation='relu'))\n",
    "conv1d_model.add(keras.layers.MaxPooling1D(5))\n",
    "conv1d_model.add(keras.layers.Conv1D(64, 7, activation='relu'))\n",
    "conv1d_model.add(keras.layers.GlobalMaxPooling1D())\n",
    "conv1d_model.add(keras.layers.Dense(128, activation='relu'))\n",
    "conv1d_model.add(keras.layers.Dense(1, activation='sigmoid'))\n",
    "conv1d_model.summary()"
   ]
  },
  {
   "cell_type": "code",
   "execution_count": 56,
   "metadata": {},
   "outputs": [
    {
     "name": "stdout",
     "output_type": "stream",
     "text": [
      "Epoch 1/10\n",
      "3597/3597 [==============================] - 18s 5ms/step - loss: 0.4392 - accuracy: 0.7836 - val_loss: 0.3959 - val_accuracy: 0.8133\n",
      "Epoch 2/10\n",
      "3597/3597 [==============================] - 18s 5ms/step - loss: 0.3385 - accuracy: 0.8440 - val_loss: 0.4022 - val_accuracy: 0.8153\n",
      "Epoch 3/10\n",
      "3597/3597 [==============================] - 18s 5ms/step - loss: 0.2566 - accuracy: 0.8843 - val_loss: 0.4626 - val_accuracy: 0.8048\n",
      "Epoch 4/10\n",
      "3597/3597 [==============================] - 18s 5ms/step - loss: 0.1893 - accuracy: 0.9143 - val_loss: 0.5617 - val_accuracy: 0.7980\n",
      "Epoch 5/10\n",
      "3597/3597 [==============================] - 18s 5ms/step - loss: 0.1486 - accuracy: 0.9315 - val_loss: 0.6426 - val_accuracy: 0.7998\n",
      "Epoch 6/10\n",
      "3597/3597 [==============================] - 17s 5ms/step - loss: 0.1238 - accuracy: 0.9420 - val_loss: 0.7063 - val_accuracy: 0.7915\n",
      "Epoch 7/10\n",
      "3597/3597 [==============================] - 18s 5ms/step - loss: 0.1078 - accuracy: 0.9478 - val_loss: 0.8191 - val_accuracy: 0.7873\n",
      "Epoch 8/10\n",
      "3597/3597 [==============================] - 18s 5ms/step - loss: 0.0973 - accuracy: 0.9525 - val_loss: 0.9762 - val_accuracy: 0.7924\n",
      "Epoch 9/10\n",
      "3597/3597 [==============================] - 18s 5ms/step - loss: 0.0894 - accuracy: 0.9556 - val_loss: 1.0475 - val_accuracy: 0.7958\n",
      "Epoch 10/10\n",
      "3597/3597 [==============================] - 18s 5ms/step - loss: 0.0829 - accuracy: 0.9586 - val_loss: 1.0429 - val_accuracy: 0.7887\n"
     ]
    }
   ],
   "source": [
    "conv1d_model.compile(optimizer='adam',\n",
    "              loss='binary_crossentropy',\n",
    "              metrics=['accuracy'])\n",
    "conv1d_history = conv1d_model.fit(partial_x_train,\n",
    "                    partial_y_train,\n",
    "                    epochs=10,\n",
    "                    batch_size=32,\n",
    "                    validation_data=(x_valid, y_valid),\n",
    "                    verbose=1)"
   ]
  },
  {
   "cell_type": "code",
   "execution_count": 57,
   "metadata": {},
   "outputs": [
    {
     "name": "stdout",
     "output_type": "stream",
     "text": [
      "1516/1516 - 3s - loss: 1.0496 - accuracy: 0.7850 - 3s/epoch - 2ms/step\n",
      "[1.049578309059143, 0.7849602103233337]\n"
     ]
    }
   ],
   "source": [
    "results = conv1d_model.evaluate(x_test,  y_test, verbose=2)\n",
    "\n",
    "print(results)"
   ]
  },
  {
   "cell_type": "code",
   "execution_count": 58,
   "metadata": {},
   "outputs": [
    {
     "name": "stdout",
     "output_type": "stream",
     "text": [
      "dict_keys(['loss', 'accuracy', 'val_loss', 'val_accuracy'])\n"
     ]
    },
    {
     "data": {
      "image/png": "[encoded data removed]",
      "text/plain": [
       "<Figure size 432x288 with 1 Axes>"
      ]
     },
     "metadata": {
      "needs_background": "light"
     },
     "output_type": "display_data"
    },
    {
     "data": {
      "image/png": "[encoded data removed]",
      "text/plain": [
       "<Figure size 432x288 with 1 Axes>"
      ]
     },
     "metadata": {
      "needs_background": "light"
     },
     "output_type": "display_data"
    }
   ],
   "source": [
    "## Loss, Accuracy 그래프 시각화\n",
    "\n",
    "history_dict = history.history\n",
    "print(history_dict.keys()) # epoch에 따른 그래프를 그려볼 수 있는 항목들\n",
    "\n",
    "acc = history_dict['accuracy']\n",
    "val_acc = history_dict['val_accuracy']\n",
    "loss = history_dict['loss']\n",
    "val_loss = history_dict['val_loss']\n",
    "\n",
    "epochs = range(1, len(acc) + 1)\n",
    "\n",
    "# \"bo\"는 \"파란색 점\"입니다\n",
    "plt.plot(epochs, loss, 'ro', label='Training loss')\n",
    "# b는 \"파란 실선\"입니다\n",
    "plt.plot(epochs, val_loss, 'r', label='Validation loss')\n",
    "plt.title('Training and validation loss')\n",
    "plt.xlabel('Epochs')\n",
    "plt.ylabel('Loss')\n",
    "plt.legend()\n",
    "\n",
    "plt.show()\n",
    "\n",
    "plt.clf()   # 그림을 초기화합니다\n",
    "\n",
    "plt.plot(epochs, acc, 'bo', label='Training acc')\n",
    "plt.plot(epochs, val_acc, 'b', label='Validation acc')\n",
    "plt.title('Training and validation accuracy')\n",
    "plt.xlabel('Epochs')\n",
    "plt.ylabel('Accuracy')\n",
    "plt.legend()\n",
    "\n",
    "plt.show()"
   ]
  },
  {
   "cell_type": "code",
   "execution_count": 59,
   "metadata": {},
   "outputs": [
    {
     "name": "stdout",
     "output_type": "stream",
     "text": [
      "(10000, 64)\n"
     ]
    }
   ],
   "source": [
    "embedding_layer = conv1d_model.layers[0]\n",
    "weights = embedding_layer.get_weights()[0]\n",
    "print(weights.shape)"
   ]
  },
  {
   "cell_type": "code",
   "execution_count": 60,
   "metadata": {},
   "outputs": [
    {
     "data": {
      "text/plain": [
       "array([ 0.04925826,  0.20526172, -0.09151779,  0.13736813, -0.02199855,\n",
       "       -0.05165334, -0.2956065 , -0.02144566,  0.07739383, -0.12475446,\n",
       "       -0.02547732,  0.014899  , -0.03831469, -0.05243574, -0.1399936 ,\n",
       "        0.02146734, -0.0979605 , -0.2817227 , -0.01906992, -0.07673535,\n",
       "        0.18999399, -0.1047303 ,  0.07731375,  0.04711425,  0.06015249,\n",
       "       -0.11158656, -0.03391605, -0.0636792 , -0.38536134, -0.03318309,\n",
       "        0.07347295,  0.15344568,  0.15033253, -0.10628718, -0.10055444,\n",
       "       -0.00141014,  0.07986456, -0.0113338 , -0.1778345 ,  0.08497158,\n",
       "       -0.04459934, -0.07761587,  0.3251365 , -0.24583146,  0.04293126,\n",
       "        0.27703565, -0.04164285, -0.08604749,  0.17587495,  0.25815108,\n",
       "       -0.02728944, -0.01662206, -0.14649576,  0.22877972,  0.11900971,\n",
       "        0.07347644,  0.08527268, -0.21412112, -0.11178777,  0.16067353,\n",
       "       -0.00710672, -0.17157987, -0.22259408, -0.13105953], dtype=float32)"
      ]
     },
     "execution_count": 60,
     "metadata": {},
     "output_type": "execute_result"
    }
   ],
   "source": [
    "word2vec_file_path = '/home/june/movie_review/word2vec_ko2.model'\n",
    "f = open(word2vec_file_path, 'w')\n",
    "f.write('{} {}\\n'.format(vocab_size-4, word_vector_dim))\n",
    "\n",
    "vectors = conv1d_model.get_weights()[0]\n",
    "for i in range(4,vocab_size):\n",
    "    f.write('{} {}\\n'.format(index_to_word[i], ' '.join(map(str, list(vectors[i, :])))))\n",
    "f.close()\n",
    "word_vectors = Word2VecKeyedVectors.load_word2vec_format(word2vec_file_path, binary=False)\n",
    "vector = word_vectors['악당']\n",
    "vector"
   ]
  },
  {
   "cell_type": "code",
   "execution_count": 61,
   "metadata": {},
   "outputs": [
    {
     "data": {
      "text/plain": [
       "[('귀여워', 0.7168909907341003),\n",
       " ('웃겨요', 0.6821069121360779),\n",
       " ('못할', 0.6751304864883423),\n",
       " ('인권', 0.6700026988983154),\n",
       " ('멋져', 0.6691322922706604),\n",
       " ('명복', 0.6663233637809753),\n",
       " ('맛깔', 0.6618707776069641),\n",
       " ('관해', 0.659599781036377),\n",
       " ('카타르시스', 0.6558892726898193),\n",
       " ('굉장', 0.6537660360336304)]"
      ]
     },
     "execution_count": 61,
     "metadata": {},
     "output_type": "execute_result"
    }
   ],
   "source": [
    "word_vectors.similar_by_word(\"감동\")"
   ]
  },
  {
   "cell_type": "code",
   "execution_count": 62,
   "metadata": {},
   "outputs": [],
   "source": [
    "vocab_size = 10000    # 어휘 사전의 크기입니다(10,000개의 단어)\n",
    "word_vector_dim = 200  # 워드 벡터의 차원수 (변경가능한 하이퍼파라미터)\n",
    "\n",
    "embedding_matrix = np.random.rand(vocab_size, word_vector_dim)\n",
    "\n",
    "# embedding_matrix에 Word2Vec 워드벡터를 단어 하나씩마다 차례차례 카피한다.\n",
    "for i in range(4, vocab_size):\n",
    "    if index_to_word[i] == word2vec:\n",
    "        embedding_matrix[i] = word2vec[index_to_word[i]]"
   ]
  },
  {
   "cell_type": "code",
   "execution_count": 63,
   "metadata": {},
   "outputs": [
    {
     "name": "stdout",
     "output_type": "stream",
     "text": [
      "Model: \"sequential_4\"\n",
      "_________________________________________________________________\n",
      " Layer (type)                Output Shape              Param #   \n",
      "=================================================================\n",
      " embedding_4 (Embedding)     (None, 48, 200)           2000000   \n",
      "                                                                 \n",
      " conv1d_4 (Conv1D)           (None, 42, 32)            44832     \n",
      "                                                                 \n",
      " max_pooling1d_2 (MaxPooling  (None, 8, 32)            0         \n",
      " 1D)                                                             \n",
      "                                                                 \n",
      " conv1d_5 (Conv1D)           (None, 2, 32)             7200      \n",
      "                                                                 \n",
      " global_max_pooling1d_2 (Glo  (None, 32)               0         \n",
      " balMaxPooling1D)                                                \n",
      "                                                                 \n",
      " dense_7 (Dense)             (None, 128)               4224      \n",
      "                                                                 \n",
      " dense_8 (Dense)             (None, 1)                 129       \n",
      "                                                                 \n",
      "=================================================================\n",
      "Total params: 2,056,385\n",
      "Trainable params: 2,056,385\n",
      "Non-trainable params: 0\n",
      "_________________________________________________________________\n"
     ]
    }
   ],
   "source": [
    "conv1d_model2 = keras.Sequential()\n",
    "conv1d_model2.add(keras.layers.Embedding(vocab_size, \n",
    "                                 word_vector_dim, \n",
    "                                 embeddings_initializer=Constant(embedding_matrix),  # 카피한 임베딩을 여기서 활용\n",
    "                                 input_length=maxlen, \n",
    "                                 trainable=True))   # trainable을 True로 주면 Fine-tuning\n",
    "conv1d_model2.add(keras.layers.Conv1D(32, 7, activation='relu'))\n",
    "conv1d_model2.add(keras.layers.MaxPooling1D(5))\n",
    "conv1d_model2.add(keras.layers.Conv1D(32, 7, activation='relu'))\n",
    "conv1d_model2.add(keras.layers.GlobalMaxPooling1D())\n",
    "conv1d_model2.add(keras.layers.Dense(128, activation='relu'))\n",
    "conv1d_model2.add(keras.layers.Dense(1, activation='sigmoid')) \n",
    "\n",
    "conv1d_model2.summary()"
   ]
  },
  {
   "cell_type": "code",
   "execution_count": 64,
   "metadata": {},
   "outputs": [
    {
     "name": "stdout",
     "output_type": "stream",
     "text": [
      "Epoch 1/20\n",
      "450/450 [==============================] - 3s 6ms/step - loss: 0.6935 - accuracy: 0.5014 - val_loss: 0.6931 - val_accuracy: 0.5051\n",
      "Epoch 2/20\n",
      "450/450 [==============================] - 3s 6ms/step - loss: 0.6932 - accuracy: 0.4997 - val_loss: 0.6931 - val_accuracy: 0.5051\n",
      "Epoch 3/20\n",
      "450/450 [==============================] - 3s 6ms/step - loss: 0.6932 - accuracy: 0.5007 - val_loss: 0.6931 - val_accuracy: 0.5051\n",
      "Epoch 4/20\n",
      "450/450 [==============================] - 2s 5ms/step - loss: 0.6932 - accuracy: 0.4997 - val_loss: 0.6931 - val_accuracy: 0.5051\n",
      "Epoch 5/20\n",
      "450/450 [==============================] - 2s 5ms/step - loss: 0.6932 - accuracy: 0.5007 - val_loss: 0.6931 - val_accuracy: 0.5051\n",
      "Epoch 6/20\n",
      "450/450 [==============================] - 3s 6ms/step - loss: 0.6932 - accuracy: 0.5001 - val_loss: 0.6931 - val_accuracy: 0.5051\n",
      "Epoch 7/20\n",
      "450/450 [==============================] - 3s 6ms/step - loss: 0.6932 - accuracy: 0.5015 - val_loss: 0.6931 - val_accuracy: 0.5051\n",
      "Epoch 8/20\n",
      "450/450 [==============================] - 2s 5ms/step - loss: 0.6931 - accuracy: 0.5003 - val_loss: 0.6931 - val_accuracy: 0.5051\n",
      "Epoch 9/20\n",
      "450/450 [==============================] - 3s 6ms/step - loss: 0.6932 - accuracy: 0.5017 - val_loss: 0.6931 - val_accuracy: 0.5051\n",
      "Epoch 10/20\n",
      "450/450 [==============================] - 3s 6ms/step - loss: 0.6932 - accuracy: 0.5001 - val_loss: 0.6931 - val_accuracy: 0.5051\n",
      "Epoch 11/20\n",
      "450/450 [==============================] - 3s 6ms/step - loss: 0.6932 - accuracy: 0.5003 - val_loss: 0.6931 - val_accuracy: 0.5051\n",
      "Epoch 12/20\n",
      "450/450 [==============================] - 3s 6ms/step - loss: 0.6932 - accuracy: 0.5013 - val_loss: 0.6931 - val_accuracy: 0.5051\n",
      "Epoch 13/20\n",
      "450/450 [==============================] - 3s 6ms/step - loss: 0.6932 - accuracy: 0.5011 - val_loss: 0.6931 - val_accuracy: 0.5051\n",
      "Epoch 14/20\n",
      "450/450 [==============================] - 3s 6ms/step - loss: 0.6931 - accuracy: 0.5003 - val_loss: 0.6931 - val_accuracy: 0.5051\n",
      "Epoch 15/20\n",
      "450/450 [==============================] - 2s 6ms/step - loss: 0.6932 - accuracy: 0.5021 - val_loss: 0.6931 - val_accuracy: 0.5051\n",
      "Epoch 16/20\n",
      "450/450 [==============================] - 3s 6ms/step - loss: 0.6932 - accuracy: 0.5004 - val_loss: 0.6931 - val_accuracy: 0.5051\n",
      "Epoch 17/20\n",
      "450/450 [==============================] - 3s 6ms/step - loss: 0.6932 - accuracy: 0.5021 - val_loss: 0.6931 - val_accuracy: 0.5051\n",
      "Epoch 18/20\n",
      "450/450 [==============================] - 3s 6ms/step - loss: 0.6932 - accuracy: 0.5001 - val_loss: 0.6931 - val_accuracy: 0.5051\n",
      "Epoch 19/20\n",
      "450/450 [==============================] - 3s 6ms/step - loss: 0.6931 - accuracy: 0.5013 - val_loss: 0.6931 - val_accuracy: 0.5051\n",
      "Epoch 20/20\n",
      "450/450 [==============================] - 3s 6ms/step - loss: 0.6932 - accuracy: 0.5015 - val_loss: 0.6931 - val_accuracy: 0.5051\n"
     ]
    }
   ],
   "source": [
    "conv1d_model2.compile(optimizer='adam',\n",
    "              loss='binary_crossentropy',\n",
    "              metrics=['accuracy'])\n",
    "              \n",
    "epochs=20\n",
    "\n",
    "\n",
    "history = conv1d_model2.fit(partial_x_train,\n",
    "                    partial_y_train,\n",
    "                    epochs=epochs,\n",
    "                    batch_size=256,\n",
    "                    validation_data=(x_valid, y_valid),\n",
    "                    verbose=1)"
   ]
  },
  {
   "cell_type": "code",
   "execution_count": 65,
   "metadata": {},
   "outputs": [
    {
     "name": "stdout",
     "output_type": "stream",
     "text": [
      "dict_keys(['loss', 'accuracy', 'val_loss', 'val_accuracy'])\n"
     ]
    },
    {
     "data": {
      "image/png": "[encoded data removed]",
      "text/plain": [
       "<Figure size 432x288 with 1 Axes>"
      ]
     },
     "metadata": {
      "needs_background": "light"
     },
     "output_type": "display_data"
    },
    {
     "data": {
      "image/png": "[encoded data removed]",
      "text/plain": [
       "<Figure size 432x288 with 1 Axes>"
      ]
     },
     "metadata": {
      "needs_background": "light"
     },
     "output_type": "display_data"
    }
   ],
   "source": [
    "history_dict = history.history\n",
    "print(history_dict.keys()) # epoch에 따른 그래프를 그려볼 수 있는 항목들\n",
    "\n",
    "acc = history_dict['accuracy']\n",
    "val_acc = history_dict['val_accuracy']\n",
    "loss = history_dict['loss']\n",
    "val_loss = history_dict['val_loss']\n",
    "\n",
    "epochs = range(1, len(acc) + 1)\n",
    "\n",
    "# \"bo\"는 \"파란색 점\"입니다\n",
    "plt.plot(epochs, loss, 'ro', label='Training loss')\n",
    "# b는 \"파란 실선\"입니다\n",
    "plt.plot(epochs, val_loss, 'r', label='Validation loss')\n",
    "plt.title('Training and validation loss')\n",
    "plt.xlabel('Epochs')\n",
    "plt.ylabel('Loss')\n",
    "plt.legend()\n",
    "\n",
    "plt.show()\n",
    "\n",
    "plt.clf()   # 그림을 초기화합니다\n",
    "\n",
    "plt.plot(epochs, acc, 'bo', label='Training acc')\n",
    "plt.plot(epochs, val_acc, 'b', label='Validation acc')\n",
    "plt.title('Training and validation accuracy')\n",
    "plt.xlabel('Epochs')\n",
    "plt.ylabel('Accuracy')\n",
    "plt.legend()\n",
    "\n",
    "plt.show()"
   ]
  },
  {
   "cell_type": "code",
   "execution_count": 66,
   "metadata": {},
   "outputs": [
    {
     "name": "stdout",
     "output_type": "stream",
     "text": [
      "1516/1516 - 3s - loss: 0.6932 - accuracy: 0.4985 - 3s/epoch - 2ms/step\n",
      "[0.6931628584861755, 0.4984947741031647]\n"
     ]
    }
   ],
   "source": [
    "results = conv1d_model2.evaluate(x_test,  y_test, verbose=2)\n",
    "\n",
    "print(results)"
   ]
  },
  {
   "cell_type": "markdown",
   "metadata": {},
   "source": [
    "★다양한 모델 2"
   ]
  },
  {
   "cell_type": "code",
   "execution_count": 67,
   "metadata": {},
   "outputs": [
    {
     "name": "stdout",
     "output_type": "stream",
     "text": [
      "Model: \"sequential_5\"\n",
      "_________________________________________________________________\n",
      " Layer (type)                Output Shape              Param #   \n",
      "=================================================================\n",
      " embedding_5 (Embedding)     (None, None, 200)         2000000   \n",
      "                                                                 \n",
      " lstm_1 (LSTM)               (None, 64)                67840     \n",
      "                                                                 \n",
      " dense_9 (Dense)             (None, 1)                 65        \n",
      "                                                                 \n",
      "=================================================================\n",
      "Total params: 2,067,905\n",
      "Trainable params: 2,067,905\n",
      "Non-trainable params: 0\n",
      "_________________________________________________________________\n"
     ]
    }
   ],
   "source": [
    "vocab_size = 10000\n",
    "word_vector_dim = 200\n",
    "\n",
    "LSTM_ = keras.Sequential()\n",
    "LSTM_.add(keras.layers.Embedding(vocab_size, word_vector_dim, input_shape=(None,)))\n",
    "LSTM_.add(keras.layers.LSTM(64))\n",
    "LSTM_.add(keras.layers.Dense(1, activation='sigmoid'))\n",
    "LSTM_.summary()"
   ]
  },
  {
   "cell_type": "code",
   "execution_count": 68,
   "metadata": {},
   "outputs": [
    {
     "name": "stdout",
     "output_type": "stream",
     "text": [
      "Epoch 1/10\n",
      "3594/3597 [============================>.] - ETA: 0s - loss: 0.3690 - accuracy: 0.8348\n",
      "Epoch 1: saving model to best_model.h5\n",
      "3597/3597 [==============================] - 23s 6ms/step - loss: 0.3690 - accuracy: 0.8349 - val_loss: 0.3230 - val_accuracy: 0.8600\n",
      "Epoch 2/10\n",
      "3596/3597 [============================>.] - ETA: 0s - loss: 0.2804 - accuracy: 0.8799\n",
      "Epoch 2: saving model to best_model.h5\n",
      "3597/3597 [==============================] - 21s 6ms/step - loss: 0.2804 - accuracy: 0.8799 - val_loss: 0.3159 - val_accuracy: 0.8657\n",
      "Epoch 3/10\n",
      "3588/3597 [============================>.] - ETA: 0s - loss: 0.2318 - accuracy: 0.9038\n",
      "Epoch 3: saving model to best_model.h5\n",
      "3597/3597 [==============================] - 22s 6ms/step - loss: 0.2319 - accuracy: 0.9037 - val_loss: 0.3295 - val_accuracy: 0.8642\n",
      "Epoch 4/10\n",
      "3595/3597 [============================>.] - ETA: 0s - loss: 0.1881 - accuracy: 0.9233\n",
      "Epoch 4: saving model to best_model.h5\n",
      "3597/3597 [==============================] - 21s 6ms/step - loss: 0.1881 - accuracy: 0.9233 - val_loss: 0.3679 - val_accuracy: 0.8559\n",
      "Epoch 5/10\n",
      "3595/3597 [============================>.] - ETA: 0s - loss: 0.1505 - accuracy: 0.9397\n",
      "Epoch 5: saving model to best_model.h5\n",
      "3597/3597 [==============================] - 21s 6ms/step - loss: 0.1504 - accuracy: 0.9397 - val_loss: 0.4221 - val_accuracy: 0.8528\n",
      "Epoch 6/10\n",
      "3588/3597 [============================>.] - ETA: 0s - loss: 0.1185 - accuracy: 0.9541\n",
      "Epoch 6: saving model to best_model.h5\n",
      "3597/3597 [==============================] - 22s 6ms/step - loss: 0.1185 - accuracy: 0.9541 - val_loss: 0.5008 - val_accuracy: 0.8496\n",
      "Epoch 7/10\n",
      "3596/3597 [============================>.] - ETA: 0s - loss: 0.0938 - accuracy: 0.9642\n",
      "Epoch 7: saving model to best_model.h5\n",
      "3597/3597 [==============================] - 22s 6ms/step - loss: 0.0939 - accuracy: 0.9642 - val_loss: 0.5733 - val_accuracy: 0.8460\n",
      "Epoch 7: early stopping\n"
     ]
    }
   ],
   "source": [
    "LSTM_.compile(optimizer='adam',\n",
    "              loss='binary_crossentropy',\n",
    "              metrics=['accuracy'])\n",
    "early = EarlyStopping(monitor='val_loss', mode='min', verbose=1, patience=5)\n",
    "check = ModelCheckpoint('best_model.h5', monitor='val_acc', mode='max', verbose=1, save_bast_only=True)\n",
    "LSTM_history = LSTM_.fit(partial_x_train,\n",
    "                    partial_y_train,\n",
    "                    epochs=10,\n",
    "                    callbacks=[early, check],\n",
    "                    batch_size=32,\n",
    "                    validation_data=(x_valid, y_valid),\n",
    "                    verbose=1)"
   ]
  },
  {
   "cell_type": "code",
   "execution_count": 69,
   "metadata": {},
   "outputs": [
    {
     "name": "stdout",
     "output_type": "stream",
     "text": [
      "1516/1516 - 4s - loss: 0.5537 - accuracy: 0.8470 - 4s/epoch - 2ms/step\n",
      "[0.5537224411964417, 0.8470039963722229]\n"
     ]
    }
   ],
   "source": [
    "loaded_model = load_model('best_model.h5')\n",
    "results = loaded_model.evaluate(x_test,  y_test, verbose=2)\n",
    "\n",
    "print(results)"
   ]
  },
  {
   "cell_type": "code",
   "execution_count": 70,
   "metadata": {},
   "outputs": [
    {
     "name": "stdout",
     "output_type": "stream",
     "text": [
      "dict_keys(['loss', 'accuracy', 'val_loss', 'val_accuracy'])\n"
     ]
    },
    {
     "data": {
      "image/png": "[encoded data removed]",
      "text/plain": [
       "<Figure size 432x288 with 1 Axes>"
      ]
     },
     "metadata": {
      "needs_background": "light"
     },
     "output_type": "display_data"
    },
    {
     "data": {
      "image/png": "[encoded data removed]",
      "text/plain": [
       "<Figure size 432x288 with 1 Axes>"
      ]
     },
     "metadata": {
      "needs_background": "light"
     },
     "output_type": "display_data"
    }
   ],
   "source": [
    "history_dict = history.history\n",
    "print(history_dict.keys()) # epoch에 따른 그래프를 그려볼 수 있는 항목들\n",
    "\n",
    "acc = history_dict['accuracy']\n",
    "val_acc = history_dict['val_accuracy']\n",
    "loss = history_dict['loss']\n",
    "val_loss = history_dict['val_loss']\n",
    "\n",
    "epochs = range(1, len(acc) + 1)\n",
    "\n",
    "# \"bo\"는 \"파란색 점\"입니다\n",
    "plt.plot(epochs, loss, 'ro', label='Training loss')\n",
    "# b는 \"파란 실선\"입니다\n",
    "plt.plot(epochs, val_loss, 'r', label='Validation loss')\n",
    "plt.title('Training and validation loss')\n",
    "plt.xlabel('Epochs')\n",
    "plt.ylabel('Loss')\n",
    "plt.legend()\n",
    "\n",
    "plt.show()\n",
    "\n",
    "plt.clf()   # 그림을 초기화합니다\n",
    "\n",
    "plt.plot(epochs, acc, 'bo', label='Training acc')\n",
    "plt.plot(epochs, val_acc, 'b', label='Validation acc')\n",
    "plt.title('Training and validation accuracy')\n",
    "plt.xlabel('Epochs')\n",
    "plt.ylabel('Accuracy')\n",
    "plt.legend()\n",
    "\n",
    "plt.show()"
   ]
  },
  {
   "cell_type": "code",
   "execution_count": 71,
   "metadata": {},
   "outputs": [
    {
     "name": "stdout",
     "output_type": "stream",
     "text": [
      "(10000, 200)\n"
     ]
    }
   ],
   "source": [
    "embedding_layer = LSTM_.layers[0]\n",
    "weights = embedding_layer.get_weights()[0]\n",
    "print(weights.shape)"
   ]
  },
  {
   "cell_type": "code",
   "execution_count": 72,
   "metadata": {},
   "outputs": [],
   "source": [
    "word2vec_file_path = '/home/june/movie_review/word2vec.txt'\n",
    "f = open(word2vec_file_path, 'w')\n",
    "f.write('{} {}\\n'.format(vocab_size-4, word_vector_dim))\n",
    "\n",
    "vectors = LSTM_.get_weights()[0]\n",
    "for i in range(4,vocab_size):\n",
    "    f.write('{} {}\\n'.format(index_to_word[i], ' '.join(map(str, list(vectors[i, :])))))\n",
    "f.close()"
   ]
  },
  {
   "cell_type": "code",
   "execution_count": 73,
   "metadata": {},
   "outputs": [
    {
     "data": {
      "text/plain": [
       "array([ 0.11528244,  0.20293   ,  0.04355571, -0.22249109, -0.08017095,\n",
       "        0.02130465,  0.00341184,  0.10134786, -0.04252659,  0.03647081,\n",
       "        0.05885269,  0.22775984, -0.07320397,  0.05308719, -0.10688861,\n",
       "        0.04014566,  0.02026018,  0.02022763,  0.02814739, -0.0461684 ,\n",
       "        0.11153336,  0.05697232,  0.14628601, -0.1194447 , -0.10416766,\n",
       "       -0.19759493,  0.02113898, -0.05596198, -0.11180481,  0.18370056,\n",
       "       -0.12978871,  0.05512014,  0.010388  , -0.215866  , -0.20393804,\n",
       "       -0.08665814,  0.02449067,  0.08449262,  0.019382  ,  0.09389205,\n",
       "        0.08775812,  0.19736104, -0.10310142,  0.03646832,  0.00125526,\n",
       "       -0.05529849, -0.20722982, -0.3239285 ,  0.01322813,  0.08218254,\n",
       "       -0.06320926,  0.21337244, -0.01533518, -0.02599421, -0.10449773,\n",
       "       -0.08733229, -0.12474084, -0.12559985,  0.15855347,  0.03500714,\n",
       "        0.09818054,  0.11667581, -0.03595849, -0.0622998 ,  0.1378659 ,\n",
       "        0.16807248,  0.16985938, -0.02294382, -0.02694793,  0.09114387,\n",
       "        0.05192407, -0.00115627,  0.1479221 , -0.11152081, -0.12974425,\n",
       "       -0.09051973, -0.08877461, -0.01002874,  0.16464746,  0.02197296,\n",
       "        0.07490788,  0.01093967,  0.03385181, -0.00203308, -0.11626573,\n",
       "       -0.15915298,  0.04343177,  0.13137393,  0.09782253, -0.09239344,\n",
       "       -0.12435935, -0.02976578,  0.09246965,  0.06174133,  0.07346189,\n",
       "        0.08654913,  0.04520259,  0.04810652,  0.01791366, -0.03637849,\n",
       "        0.20457995,  0.04054493,  0.29936454,  0.00186414,  0.07902316,\n",
       "        0.13544783,  0.09347661, -0.08291554, -0.0416685 , -0.07644729,\n",
       "       -0.13646623, -0.04791147,  0.03672271,  0.0998113 ,  0.04039179,\n",
       "       -0.06579721,  0.0156086 , -0.00391989, -0.0819298 ,  0.01482501,\n",
       "        0.09836118,  0.00756803,  0.03027995,  0.13600078, -0.02216959,\n",
       "       -0.01367807,  0.10779316,  0.01038033, -0.0406975 ,  0.02819609,\n",
       "       -0.05469183,  0.0971396 ,  0.11133927,  0.05719564, -0.02642666,\n",
       "       -0.10088354, -0.02481679,  0.01613028,  0.24331145,  0.13339409,\n",
       "       -0.0452598 ,  0.01408393, -0.05708514,  0.00511149,  0.09324784,\n",
       "       -0.23280223, -0.00174082, -0.02638087, -0.08456333,  0.08396567,\n",
       "       -0.18328507,  0.1256218 ,  0.08340374, -0.09084015, -0.30314615,\n",
       "        0.20725681,  0.13096316,  0.1767601 , -0.06552321,  0.00344225,\n",
       "       -0.0159957 ,  0.03373622, -0.2211756 , -0.07173138, -0.10005245,\n",
       "       -0.3901558 , -0.17647365,  0.06709988, -0.00168021,  0.1904499 ,\n",
       "       -0.08466195, -0.08806245,  0.04249799, -0.05391474, -0.02038324,\n",
       "       -0.03737394,  0.22704658, -0.05962132, -0.27165115, -0.02778033,\n",
       "       -0.10764499,  0.06048299, -0.04122876, -0.00759116,  0.05457973,\n",
       "       -0.10970009, -0.03738206, -0.15900634,  0.01232587,  0.09312899,\n",
       "       -0.0854677 , -0.15294757,  0.12758774,  0.00383207, -0.04648754,\n",
       "       -0.08083805,  0.0063917 ,  0.18647884, -0.00777804,  0.00799629],\n",
       "      dtype=float32)"
      ]
     },
     "execution_count": 73,
     "metadata": {},
     "output_type": "execute_result"
    }
   ],
   "source": [
    "word_vectors = Word2VecKeyedVectors.load_word2vec_format(word2vec_file_path, binary=False)\n",
    "vector = word_vectors['컴퓨터']\n",
    "vector"
   ]
  },
  {
   "cell_type": "code",
   "execution_count": 74,
   "metadata": {},
   "outputs": [
    {
     "data": {
      "text/plain": [
       "[('장엄', 0.8173152804374695),\n",
       " ('쿨', 0.7967877388000488),\n",
       " ('재해석', 0.7965972423553467),\n",
       " ('명작', 0.7889525890350342),\n",
       " ('100', 0.7853142619132996),\n",
       " ('즐거운', 0.7766128778457642),\n",
       " ('꿀', 0.7750331163406372),\n",
       " ('기발', 0.7733831405639648),\n",
       " ('고발', 0.7684131860733032),\n",
       " ('훗', 0.7660568356513977)]"
      ]
     },
     "execution_count": 74,
     "metadata": {},
     "output_type": "execute_result"
    }
   ],
   "source": [
    "word_vectors.similar_by_word(\"감동\")"
   ]
  },
  {
   "cell_type": "code",
   "execution_count": 75,
   "metadata": {},
   "outputs": [
    {
     "data": {
      "text/plain": [
       "array([ 1.6886336e+00, -8.8218474e-01, -1.2896419e+00,  2.5040355e+00,\n",
       "       -4.5103076e-01,  5.8807695e-01, -9.8949218e-01, -1.5304710e+00,\n",
       "       -2.1662366e+00, -9.3073243e-01, -1.2209069e+00, -9.7218412e-01,\n",
       "       -1.8635572e+00,  6.3495600e-01,  1.9941779e+00,  1.0890286e+00,\n",
       "        1.4299811e+00, -5.9615660e-01,  2.6718228e+00, -9.8027158e-01,\n",
       "       -1.8336409e+00,  2.4086542e-01,  1.3570993e+00, -1.2861749e+00,\n",
       "       -5.1862460e-01,  1.6423082e+00,  1.4120526e+00,  1.4504031e+00,\n",
       "        8.1195611e-01,  2.3343067e+00,  1.5104469e-03,  2.0123785e+00,\n",
       "       -2.7879514e-03,  1.1694963e+00, -1.0715398e+00,  5.6646183e-02,\n",
       "        9.1134518e-01, -4.0823716e-01, -3.1470737e-01,  8.4557647e-01,\n",
       "       -5.0691139e-02, -1.3891499e+00,  1.1918504e-01,  8.5657275e-01,\n",
       "       -6.8871933e-01,  1.7444822e+00,  2.1598165e+00, -1.8779206e+00,\n",
       "       -1.5118138e-01, -1.2720869e+00, -6.5695003e-02, -7.8258085e-01,\n",
       "        2.3476975e+00,  7.0148546e-01, -4.1551420e-01,  2.2513196e-01,\n",
       "        2.8881357e+00, -8.3028334e-01, -1.4922942e-01, -3.5676369e-01,\n",
       "        3.6859593e-01,  3.8592916e-02, -1.1820734e-01, -6.6989595e-01,\n",
       "       -8.4075254e-01, -5.9249973e-01,  3.1299017e-02,  2.2071288e+00,\n",
       "        4.4235349e-01, -1.2134784e+00,  1.8487388e+00,  1.5617388e+00,\n",
       "       -5.9679795e-02,  1.3726172e-01, -1.1762451e+00, -1.4257346e+00,\n",
       "       -5.0431263e-01, -2.6000223e+00,  4.9868051e-02,  8.5338843e-01,\n",
       "       -1.4418337e+00, -1.2532809e+00,  5.1911402e-01,  1.0698218e+00,\n",
       "       -1.4168433e+00, -3.5291225e-01,  4.9163121e-01,  1.4811008e+00,\n",
       "        1.9745445e+00,  1.4142954e+00, -1.0032506e+00, -1.3690889e+00,\n",
       "       -2.5652480e+00,  3.9833617e-01, -7.7237505e-01,  7.7811468e-01,\n",
       "       -1.3738455e+00, -1.2950345e+00,  5.0957417e-01, -1.4113585e+00],\n",
       "      dtype=float32)"
      ]
     },
     "execution_count": 75,
     "metadata": {},
     "output_type": "execute_result"
    }
   ],
   "source": [
    "from gensim.models import Word2Vec\n",
    "\n",
    "word2vec_path = '/home/june/movie_review/word2vec_ko3.model'\n",
    "word2vec = gensim.models.Word2Vec.load(word2vec_path)\n",
    "vector = word2vec.wv['악당']\n",
    "vector"
   ]
  },
  {
   "cell_type": "code",
   "execution_count": 76,
   "metadata": {},
   "outputs": [
    {
     "data": {
      "text/plain": [
       "[('불친절', 0.9002704620361328),\n",
       " ('떨어뜨리', 0.8932379484176636),\n",
       " ('후지', 0.8922048807144165),\n",
       " ('222', 0.8919565081596375),\n",
       " ('찌푸리', 0.8904157280921936),\n",
       " ('맛없', 0.887333869934082),\n",
       " ('교제', 0.8859341740608215),\n",
       " ('서세원', 0.8844959735870361),\n",
       " ('최악', 0.8819296956062317),\n",
       " ('하품', 0.8814677596092224)]"
      ]
     },
     "execution_count": 76,
     "metadata": {},
     "output_type": "execute_result"
    }
   ],
   "source": [
    "word_vectors.similar_by_word(\"전략\")"
   ]
  },
  {
   "cell_type": "code",
   "execution_count": 77,
   "metadata": {},
   "outputs": [],
   "source": [
    "vocab_size = 10000\n",
    "word_vector_dim = 200\n",
    "\n",
    "embedding_matrix = np.random.rand(vocab_size, word_vector_dim)\n",
    "\n",
    "for i in range(4,vocab_size):\n",
    "    if index_to_word[i] == word2vec:\n",
    "        embedding_matrix[i] = word2vec[index_to_word[i]]"
   ]
  },
  {
   "cell_type": "code",
   "execution_count": 78,
   "metadata": {},
   "outputs": [
    {
     "name": "stdout",
     "output_type": "stream",
     "text": [
      "Model: \"sequential_6\"\n",
      "_________________________________________________________________\n",
      " Layer (type)                Output Shape              Param #   \n",
      "=================================================================\n",
      " embedding_6 (Embedding)     (None, 48, 200)           2000000   \n",
      "                                                                 \n",
      " lstm_2 (LSTM)               (None, 16)                13888     \n",
      "                                                                 \n",
      " dense_10 (Dense)            (None, 64)                1088      \n",
      "                                                                 \n",
      " dense_11 (Dense)            (None, 1)                 65        \n",
      "                                                                 \n",
      "=================================================================\n",
      "Total params: 2,015,041\n",
      "Trainable params: 2,015,041\n",
      "Non-trainable params: 0\n",
      "_________________________________________________________________\n"
     ]
    }
   ],
   "source": [
    "vocab_size = 10000\n",
    "word_vector_dim = 200\n",
    "\n",
    "LSTM_ko = keras.Sequential()\n",
    "LSTM_ko.add(keras.layers.Embedding(vocab_size, \n",
    "                                 word_vector_dim, \n",
    "                                 embeddings_initializer=Constant(embedding_matrix),\n",
    "                                 input_length=maxlen, \n",
    "                                 trainable=True))\n",
    "LSTM_ko.add(keras.layers.LSTM(16))\n",
    "LSTM_ko.add(keras.layers.Dense(64, activation='relu'))\n",
    "LSTM_ko.add(keras.layers.Dense(1, activation='sigmoid'))\n",
    "LSTM_ko.summary()"
   ]
  },
  {
   "cell_type": "code",
   "execution_count": 79,
   "metadata": {},
   "outputs": [
    {
     "name": "stdout",
     "output_type": "stream",
     "text": [
      "Epoch 1/4\n",
      "3597/3597 [==============================] - ETA: 0s - loss: 0.4044 - accuracy: 0.8081\n",
      "Epoch 1: saving model to best_model_ko.h5\n",
      "3597/3597 [==============================] - 24s 6ms/step - loss: 0.4044 - accuracy: 0.8081 - val_loss: 0.3403 - val_accuracy: 0.8529\n",
      "Epoch 2/4\n",
      "3590/3597 [============================>.] - ETA: 0s - loss: 0.3074 - accuracy: 0.8692\n",
      "Epoch 2: saving model to best_model_ko.h5\n",
      "3597/3597 [==============================] - 23s 6ms/step - loss: 0.3075 - accuracy: 0.8692 - val_loss: 0.3391 - val_accuracy: 0.8540\n",
      "Epoch 3/4\n",
      "3595/3597 [============================>.] - ETA: 0s - loss: 0.2735 - accuracy: 0.8858\n",
      "Epoch 3: saving model to best_model_ko.h5\n",
      "3597/3597 [==============================] - 23s 6ms/step - loss: 0.2735 - accuracy: 0.8858 - val_loss: 0.3373 - val_accuracy: 0.8596\n",
      "Epoch 4/4\n",
      "3597/3597 [==============================] - ETA: 0s - loss: 0.2491 - accuracy: 0.8980\n",
      "Epoch 4: saving model to best_model_ko.h5\n",
      "3597/3597 [==============================] - 23s 6ms/step - loss: 0.2491 - accuracy: 0.8980 - val_loss: 0.3431 - val_accuracy: 0.8596\n"
     ]
    }
   ],
   "source": [
    "LSTM_ko.compile(optimizer='adam',\n",
    "              loss='binary_crossentropy',\n",
    "              metrics=['accuracy'])\n",
    "ealry_ko = EarlyStopping(monitor='val_loss', mode='min', verbose=1, patience=5)\n",
    "check_ko = ModelCheckpoint('best_model_ko.h5', monitor='val_acc', mode='max', verbose=1, save_bast_only=True)\n",
    "history = LSTM_ko.fit(partial_x_train,\n",
    "                    partial_y_train,\n",
    "                    epochs=4,\n",
    "                    callbacks=[ealry_ko, check_ko],\n",
    "                    batch_size=32,\n",
    "                    validation_data=(x_valid, y_valid),\n",
    "                    verbose=1)"
   ]
  },
  {
   "cell_type": "code",
   "execution_count": 80,
   "metadata": {},
   "outputs": [
    {
     "name": "stdout",
     "output_type": "stream",
     "text": [
      "1516/1516 - 4s - loss: 0.3458 - accuracy: 0.8541 - 4s/epoch - 3ms/step\n",
      "[0.34580373764038086, 0.8540764451026917]\n"
     ]
    }
   ],
   "source": [
    "loaded_model = load_model('best_model_ko.h5')\n",
    "results = loaded_model.evaluate(x_test,  y_test, verbose=2) \n",
    "\n",
    "print(results)"
   ]
  },
  {
   "cell_type": "code",
   "execution_count": 81,
   "metadata": {},
   "outputs": [
    {
     "name": "stdout",
     "output_type": "stream",
     "text": [
      "dict_keys(['loss', 'accuracy', 'val_loss', 'val_accuracy'])\n"
     ]
    },
    {
     "data": {
      "image/png": "[encoded data removed]",
      "text/plain": [
       "<Figure size 432x288 with 1 Axes>"
      ]
     },
     "metadata": {
      "needs_background": "light"
     },
     "output_type": "display_data"
    },
    {
     "data": {
      "image/png": "[encoded data removed]",
      "text/plain": [
       "<Figure size 432x288 with 1 Axes>"
      ]
     },
     "metadata": {
      "needs_background": "light"
     },
     "output_type": "display_data"
    }
   ],
   "source": [
    "history_dict = history.history\n",
    "print(history_dict.keys()) # epoch에 따른 그래프를 그려볼 수 있는 항목들\n",
    "\n",
    "acc = history_dict['accuracy']\n",
    "val_acc = history_dict['val_accuracy']\n",
    "loss = history_dict['loss']\n",
    "val_loss = history_dict['val_loss']\n",
    "\n",
    "epochs = range(1, len(acc) + 1)\n",
    "\n",
    "# \"bo\"는 \"파란색 점\"입니다\n",
    "plt.plot(epochs, loss, 'ro', label='Training loss')\n",
    "# b는 \"파란 실선\"입니다\n",
    "plt.plot(epochs, val_loss, 'r', label='Validation loss')\n",
    "plt.title('Training and validation loss')\n",
    "plt.xlabel('Epochs')\n",
    "plt.ylabel('Loss')\n",
    "plt.legend()\n",
    "\n",
    "plt.show()\n",
    "\n",
    "plt.clf()   # 그림을 초기화합니다\n",
    "\n",
    "plt.plot(epochs, acc, 'bo', label='Training acc')\n",
    "plt.plot(epochs, val_acc, 'b', label='Validation acc')\n",
    "plt.title('Training and validation accuracy')\n",
    "plt.xlabel('Epochs')\n",
    "plt.ylabel('Accuracy')\n",
    "plt.legend()\n",
    "\n",
    "plt.show()"
   ]
  },
  {
   "cell_type": "markdown",
   "metadata": {},
   "source": [
    "9)루브릭"
   ]
  },
  {
   "cell_type": "markdown",
   "metadata": {},
   "source": [
    "1. 다양한 방법으로 Text Classification 태스크를 성공적으로 구현하였다.\n",
    "\n",
    "3가지 이상의 모델이 성공적으로 시도됨\n",
    "\n",
    "\n",
    "2. gensim을 활용하여 자체학습된 혹은 사전학습된 임베딩 레이어를 분석하였다.\n",
    "\n",
    "gensim의 유사단어 찾기를 활용하여 자체학습한 임베딩과 사전학습 임베딩을 비교 분석함\n",
    "\n",
    "\n",
    "3. 한국어 Word2Vec을 활용하여 가시적인 성능향상을 달성했다.\n",
    "\n",
    "네이버 영화리뷰 데이터 감성분석 정확도를 85% 이상 달성함"
   ]
  },
  {
   "cell_type": "markdown",
   "metadata": {},
   "source": [
    "10) 회고"
   ]
  },
  {
   "cell_type": "markdown",
   "metadata": {},
   "source": [
    "- 이번 프로젝트에서 **어려웠던 점**\n",
    "NLP자체가 아직 전체적으로 어려운것 같다. 이해되는 부분이 많지 않다. 공부해야겠다.\n",
    "\n",
    "\n",
    "\n",
    "- 프로젝트를 진행하면서 **알아낸 점** 혹은 **아직 모호한 점**\n",
    "트레인 어큐레시는 꾸준히 오르지만 벨리데이션이 떨어지는걸 보니 오버피팅이 의심되어 에폭을 줄여야했다.\n",
    "아직 모델에 있어서 어떤 부분을 조정하고 어떤 형태인것인지 감이 없어 다양하게 바꿔보며 시도하고 있지만 여전히 이해된것같지 않다.\n",
    "\n",
    "\n",
    "- 루브릭 평가 지표를 맞추기 위해 **시도한 것들**\n",
    "모델의 레이어 층들의 다양하게 값을 설정해보고, 배치사이즈를 조절해보았다. 배치사이즈가 높을수록 어큐레시가 낮았다.\n",
    "\n",
    "\n",
    "- 만약에 루브릭 평가 관련 지표를 **달성 하지 못했을 때, 이유에 관한 추정**\n",
    "\n",
    "\n",
    "- **자기 다짐**\n",
    "서서히 구조적인 그림이 보이기 시작하지만 아직도 자세한 부분이나 숙달이 되지 않아 애로사항이 많다. 그래도 구글에 많은 자료가 있어 다행이다.!"
   ]
  }
 ],
 "metadata": {
  "kernelspec": {
   "display_name": "Python 3.9.12 ('base')",
   "language": "python",
   "name": "python3"
  },
  "language_info": {
   "codemirror_mode": {
    "name": "ipython",
    "version": 3
   },
   "file_extension": ".py",
   "mimetype": "text/x-python",
   "name": "python",
   "nbconvert_exporter": "python",
   "pygments_lexer": "ipython3",
   "version": "3.9.12"
  },
  "orig_nbformat": 4,
  "vscode": {
   "interpreter": {
    "hash": "64f60db5d244171661447d9f571ca5a7e4bf0bab2148f20540b6d51562bb9ca4"
   }
  }
 },
 "nbformat": 4,
 "nbformat_minor": 2
}
